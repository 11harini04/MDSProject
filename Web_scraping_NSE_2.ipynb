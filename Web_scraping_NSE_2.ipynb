{
  "nbformat": 4,
  "nbformat_minor": 0,
  "metadata": {
    "colab": {
      "name": "Copy of Web_scraping_NSE.ipynb",
      "provenance": [],
      "collapsed_sections": [],
      "toc_visible": true,
      "include_colab_link": true
    },
    "kernelspec": {
      "name": "python3",
      "display_name": "Python 3"
    }
  },
  "cells": [
    {
      "cell_type": "markdown",
      "metadata": {
        "id": "view-in-github",
        "colab_type": "text"
      },
      "source": [
        "<a href=\"https://colab.research.google.com/github/11harini04/MDSProject/blob/master/Web_scraping_NSE_2.ipynb\" target=\"_parent\"><img src=\"https://colab.research.google.com/assets/colab-badge.svg\" alt=\"Open In Colab\"/></a>"
      ]
    },
    {
      "cell_type": "code",
      "metadata": {
        "id": "nEIXIdJYr9-x",
        "colab_type": "code",
        "outputId": "c9a24b6b-c3e4-4dcd-c13b-d73e8a2128bb",
        "colab": {
          "base_uri": "https://localhost:8080/",
          "height": 167
        }
      },
      "source": [
        "!pip install influxdb-client"
      ],
      "execution_count": 0,
      "outputs": [
        {
          "output_type": "stream",
          "text": [
            "Requirement already satisfied: influxdb-client in /usr/local/lib/python3.6/dist-packages (1.5.0)\n",
            "Requirement already satisfied: six>=1.10 in /usr/local/lib/python3.6/dist-packages (from influxdb-client) (1.12.0)\n",
            "Requirement already satisfied: pytz>=2019.1 in /usr/local/lib/python3.6/dist-packages (from influxdb-client) (2019.3)\n",
            "Requirement already satisfied: python-dateutil>=2.5.3 in /usr/local/lib/python3.6/dist-packages (from influxdb-client) (2.8.1)\n",
            "Requirement already satisfied: rx>=3.0.1 in /usr/local/lib/python3.6/dist-packages (from influxdb-client) (3.1.0)\n",
            "Requirement already satisfied: setuptools>=21.0.0 in /usr/local/lib/python3.6/dist-packages (from influxdb-client) (46.1.3)\n",
            "Requirement already satisfied: certifi>=14.05.14 in /usr/local/lib/python3.6/dist-packages (from influxdb-client) (2019.11.28)\n",
            "Requirement already satisfied: urllib3>=1.15.1 in /usr/local/lib/python3.6/dist-packages (from influxdb-client) (1.24.3)\n",
            "Requirement already satisfied: ciso8601>=2.1.1 in /usr/local/lib/python3.6/dist-packages (from influxdb-client) (2.1.3)\n"
          ],
          "name": "stdout"
        }
      ]
    },
    {
      "cell_type": "code",
      "metadata": {
        "id": "TRqTmancXaJ_",
        "colab_type": "code",
        "colab": {}
      },
      "source": [
        "import influxdb_client\n",
        "from influxdb_client.client.write_api import SYNCHRONOUS\n",
        "from influxdb_client import InfluxDBClient\n",
        "\n",
        "#InfluxDB bucket and token for using InfluxDBClient\n",
        "bucket = \"Stocks\"\n",
        "org = \"11harini04@gmail.com\"\n",
        "token = \"A11NbY2ifqR8sQGdC8KUtXsmd-5gvFk8ruvlBzdyyFfDmb7bBRVzhoDf2_dOq5WL9J5EQBQpp2oL2vdGRCR8Uw==\"\n",
        "client = InfluxDBClient(url=\"https://us-west-2-1.aws.cloud2.influxdata.com\",token=token)"
      ],
      "execution_count": 0,
      "outputs": []
    },
    {
      "cell_type": "code",
      "metadata": {
        "id": "3BrdIB5O1aeD",
        "colab_type": "code",
        "colab": {}
      },
      "source": [
        "import requests\n",
        "import pandas as pd\n",
        "from datetime import datetime\n",
        "from bokeh.plotting import figure, show, output_file\n",
        "from influxdb_client import Point\n",
        "\n",
        "#API key to extract data from Yahoo Finance\n",
        "API_KEY = 'GIJPOQVYSQTTJ319'\n",
        "\n",
        "#Stock of Neyveli India Limited company\n",
        "stock_name = 'NLCINDIA.BO'\n",
        "\n",
        "#Scraping data from YahooFinance\n",
        "r = requests.get('https://www.alphavantage.co/query?function=TIME_SERIES_DAILY&symbol=' + stock_name + '&apikey=' + API_KEY)\n",
        "result = r.json()\n",
        "dataForAllDays = result['Time Series (Daily)']\n",
        "\n",
        "#convert to dataframe\n",
        "df = pd.DataFrame.from_dict(dataForAllDays, orient='index') \n",
        "\n",
        "#rename columns\n",
        "df = df.rename(index=str, columns={\"index\":\"name\", \"1. open\": \"open\", \"2. high\": \"high\", \"3. low\": \"low\", \"4. close\": \"close\",\"5. volume\":\"volume\"})\n",
        "\n",
        "#Changing the datatype \n",
        "df.open = df.open.astype(float)\n",
        "df.close = df.close.astype(float)\n",
        "df.high = df.high.astype(float)\n",
        "df.low = df.low.astype(float)\n",
        "df.volume = df.volume.astype(int)\n",
        "name = [stock_name]*len(df)  \n",
        "df['name'] = name\n",
        "kind = 'Stock'\n",
        "\n",
        "#Inserting into InfluxDB using InfluxdbClient\n",
        "date = []\n",
        "for ind in df.index:\n",
        "  datetime_object = datetime.strptime(ind,'%Y-%m-%d')\n",
        "  date.append(datetime_object)\n",
        "  point = Point(kind).tag(\"name\",df['name'][ind]).field(\"open\",df['open'][ind]).field(\"close\",df['close'][ind]).field(\"high\",df['high'][ind]).field(\"low\",df['low'][ind]).time(time = datetime_object)\n",
        "  write_api = client.write_api(write_options = SYNCHRONOUS)\n",
        "  write_api.write(bucket = bucket, org = org, record = point)\n",
        "df['Date'] = date\n",
        "df.set_index(\"Date\", inplace = True) "
      ],
      "execution_count": 0,
      "outputs": []
    },
    {
      "cell_type": "code",
      "metadata": {
        "id": "BlnE55EVBHtz",
        "colab_type": "code",
        "outputId": "cb7dc4c1-8644-495c-859c-971ab1b1167b",
        "colab": {
          "base_uri": "https://localhost:8080/",
          "height": 83
        }
      },
      "source": [
        "#Querying from InfluxDB and storing the results in Dataframe\n",
        "df_copy = df\n",
        "df = pd.DataFrame()\n",
        "query = 'from(bucket: \"Stocks\") |> range(start: 2019-11-13, stop:2020-04-12)'\n",
        "tables = client.query_api().query(query, org=org)\n",
        "for table in tables:\n",
        "  print(table)\n",
        "  field_value = []\n",
        "  for row in table.records:\n",
        "    field_name = row.get_field()\n",
        "    field_value.append(row.get_value())\n",
        "  df[field_name] = field_value\n",
        "df['Date'] = date\n",
        "df.set_index(\"Date\", inplace = True) "
      ],
      "execution_count": 0,
      "outputs": [
        {
          "output_type": "stream",
          "text": [
            "FluxTable() columns: 9, records: 100\n",
            "FluxTable() columns: 9, records: 100\n",
            "FluxTable() columns: 9, records: 100\n",
            "FluxTable() columns: 9, records: 100\n"
          ],
          "name": "stdout"
        }
      ]
    },
    {
      "cell_type": "code",
      "metadata": {
        "id": "4B7hF7GX776_",
        "colab_type": "code",
        "outputId": "6da5fe18-cf36-4eee-8bb9-6402ad990ca3",
        "colab": {
          "base_uri": "https://localhost:8080/",
          "height": 446
        }
      },
      "source": [
        "df"
      ],
      "execution_count": 0,
      "outputs": [
        {
          "output_type": "execute_result",
          "data": {
            "text/html": [
              "<div>\n",
              "<style scoped>\n",
              "    .dataframe tbody tr th:only-of-type {\n",
              "        vertical-align: middle;\n",
              "    }\n",
              "\n",
              "    .dataframe tbody tr th {\n",
              "        vertical-align: top;\n",
              "    }\n",
              "\n",
              "    .dataframe thead th {\n",
              "        text-align: right;\n",
              "    }\n",
              "</style>\n",
              "<table border=\"1\" class=\"dataframe\">\n",
              "  <thead>\n",
              "    <tr style=\"text-align: right;\">\n",
              "      <th></th>\n",
              "      <th>high</th>\n",
              "      <th>low</th>\n",
              "      <th>close</th>\n",
              "      <th>open</th>\n",
              "    </tr>\n",
              "    <tr>\n",
              "      <th>Date</th>\n",
              "      <th></th>\n",
              "      <th></th>\n",
              "      <th></th>\n",
              "      <th></th>\n",
              "    </tr>\n",
              "  </thead>\n",
              "  <tbody>\n",
              "    <tr>\n",
              "      <th>2020-04-08</th>\n",
              "      <td>55.25</td>\n",
              "      <td>54.00</td>\n",
              "      <td>54.35</td>\n",
              "      <td>54.40</td>\n",
              "    </tr>\n",
              "    <tr>\n",
              "      <th>2020-04-07</th>\n",
              "      <td>54.75</td>\n",
              "      <td>54.20</td>\n",
              "      <td>54.25</td>\n",
              "      <td>54.50</td>\n",
              "    </tr>\n",
              "    <tr>\n",
              "      <th>2020-04-03</th>\n",
              "      <td>54.75</td>\n",
              "      <td>52.75</td>\n",
              "      <td>53.55</td>\n",
              "      <td>54.75</td>\n",
              "    </tr>\n",
              "    <tr>\n",
              "      <th>2020-04-01</th>\n",
              "      <td>54.00</td>\n",
              "      <td>53.10</td>\n",
              "      <td>53.40</td>\n",
              "      <td>53.35</td>\n",
              "    </tr>\n",
              "    <tr>\n",
              "      <th>2020-03-31</th>\n",
              "      <td>54.50</td>\n",
              "      <td>53.70</td>\n",
              "      <td>54.25</td>\n",
              "      <td>54.45</td>\n",
              "    </tr>\n",
              "    <tr>\n",
              "      <th>...</th>\n",
              "      <td>...</td>\n",
              "      <td>...</td>\n",
              "      <td>...</td>\n",
              "      <td>...</td>\n",
              "    </tr>\n",
              "    <tr>\n",
              "      <th>2019-11-20</th>\n",
              "      <td>44.40</td>\n",
              "      <td>43.15</td>\n",
              "      <td>44.00</td>\n",
              "      <td>43.15</td>\n",
              "    </tr>\n",
              "    <tr>\n",
              "      <th>2019-11-19</th>\n",
              "      <td>44.70</td>\n",
              "      <td>43.05</td>\n",
              "      <td>43.20</td>\n",
              "      <td>43.60</td>\n",
              "    </tr>\n",
              "    <tr>\n",
              "      <th>2019-11-18</th>\n",
              "      <td>44.05</td>\n",
              "      <td>42.80</td>\n",
              "      <td>43.60</td>\n",
              "      <td>43.60</td>\n",
              "    </tr>\n",
              "    <tr>\n",
              "      <th>2019-11-15</th>\n",
              "      <td>45.00</td>\n",
              "      <td>43.50</td>\n",
              "      <td>44.10</td>\n",
              "      <td>43.50</td>\n",
              "    </tr>\n",
              "    <tr>\n",
              "      <th>2019-11-14</th>\n",
              "      <td>46.95</td>\n",
              "      <td>44.00</td>\n",
              "      <td>44.85</td>\n",
              "      <td>44.00</td>\n",
              "    </tr>\n",
              "  </tbody>\n",
              "</table>\n",
              "<p>100 rows × 4 columns</p>\n",
              "</div>"
            ],
            "text/plain": [
              "             high    low  close   open\n",
              "Date                                  \n",
              "2020-04-08  55.25  54.00  54.35  54.40\n",
              "2020-04-07  54.75  54.20  54.25  54.50\n",
              "2020-04-03  54.75  52.75  53.55  54.75\n",
              "2020-04-01  54.00  53.10  53.40  53.35\n",
              "2020-03-31  54.50  53.70  54.25  54.45\n",
              "...           ...    ...    ...    ...\n",
              "2019-11-20  44.40  43.15  44.00  43.15\n",
              "2019-11-19  44.70  43.05  43.20  43.60\n",
              "2019-11-18  44.05  42.80  43.60  43.60\n",
              "2019-11-15  45.00  43.50  44.10  43.50\n",
              "2019-11-14  46.95  44.00  44.85  44.00\n",
              "\n",
              "[100 rows x 4 columns]"
            ]
          },
          "metadata": {
            "tags": []
          },
          "execution_count": 57
        }
      ]
    },
    {
      "cell_type": "code",
      "metadata": {
        "id": "BydYD1Se9-tl",
        "colab_type": "code",
        "outputId": "64b9b63a-71f7-49e0-89b6-9fe30c6fd80d",
        "colab": {
          "base_uri": "https://localhost:8080/",
          "height": 239
        }
      },
      "source": [
        "!pip install pyramid-arima"
      ],
      "execution_count": 0,
      "outputs": [
        {
          "output_type": "stream",
          "text": [
            "Requirement already satisfied: pyramid-arima in /usr/local/lib/python3.6/dist-packages (0.9.0)\n",
            "Requirement already satisfied: scikit-learn>=0.17 in /usr/local/lib/python3.6/dist-packages (from pyramid-arima) (0.22.2.post1)\n",
            "Requirement already satisfied: Cython>=0.23 in /usr/local/lib/python3.6/dist-packages (from pyramid-arima) (0.29.16)\n",
            "Requirement already satisfied: pandas>=0.19 in /usr/local/lib/python3.6/dist-packages (from pyramid-arima) (0.25.3)\n",
            "Requirement already satisfied: statsmodels>=0.9.0 in /usr/local/lib/python3.6/dist-packages (from pyramid-arima) (0.10.2)\n",
            "Requirement already satisfied: scipy>=0.9 in /usr/local/lib/python3.6/dist-packages (from pyramid-arima) (1.4.1)\n",
            "Requirement already satisfied: numpy>=1.10 in /usr/local/lib/python3.6/dist-packages (from pyramid-arima) (1.18.2)\n",
            "Requirement already satisfied: joblib>=0.11 in /usr/local/lib/python3.6/dist-packages (from scikit-learn>=0.17->pyramid-arima) (0.14.1)\n",
            "Requirement already satisfied: pytz>=2017.2 in /usr/local/lib/python3.6/dist-packages (from pandas>=0.19->pyramid-arima) (2019.3)\n",
            "Requirement already satisfied: python-dateutil>=2.6.1 in /usr/local/lib/python3.6/dist-packages (from pandas>=0.19->pyramid-arima) (2.8.1)\n",
            "Requirement already satisfied: patsy>=0.4.0 in /usr/local/lib/python3.6/dist-packages (from statsmodels>=0.9.0->pyramid-arima) (0.5.1)\n",
            "Requirement already satisfied: six>=1.5 in /usr/local/lib/python3.6/dist-packages (from python-dateutil>=2.6.1->pandas>=0.19->pyramid-arima) (1.14.0)\n"
          ],
          "name": "stdout"
        }
      ]
    },
    {
      "cell_type": "code",
      "metadata": {
        "colab_type": "code",
        "outputId": "6de0f9eb-7537-4a05-c97d-18518dc61370",
        "id": "APcYovlUUY4s",
        "colab": {
          "base_uri": "https://localhost:8080/",
          "height": 270
        }
      },
      "source": [
        "from pyramid.arima import auto_arima\n",
        "stepwise_model = auto_arima(df['close'], start_p=1, start_q=1,\n",
        "                           max_p=3, max_q=3, m=12,\n",
        "                           start_P=0, seasonal=True,\n",
        "                           d=1, D=1, trace=True,\n",
        "                           error_action='ignore',  \n",
        "                           suppress_warnings=True)\n",
        "print(stepwise_model.aic())"
      ],
      "execution_count": 0,
      "outputs": [
        {
          "output_type": "stream",
          "text": [
            "Fit ARIMA: order=(1, 1, 1) seasonal_order=(0, 1, 1, 12); AIC=368.763, BIC=381.093, Fit time=0.780 seconds\n",
            "Fit ARIMA: order=(0, 1, 0) seasonal_order=(0, 1, 0, 12); AIC=397.621, BIC=402.553, Fit time=0.035 seconds\n",
            "Fit ARIMA: order=(1, 1, 0) seasonal_order=(1, 1, 0, 12); AIC=375.254, BIC=385.118, Fit time=0.287 seconds\n",
            "Fit ARIMA: order=(0, 1, 1) seasonal_order=(0, 1, 1, 12); AIC=367.069, BIC=376.933, Fit time=0.399 seconds\n",
            "Fit ARIMA: order=(0, 1, 1) seasonal_order=(1, 1, 1, 12); AIC=368.721, BIC=381.051, Fit time=0.574 seconds\n",
            "Fit ARIMA: order=(0, 1, 1) seasonal_order=(0, 1, 0, 12); AIC=397.463, BIC=404.861, Fit time=0.085 seconds\n",
            "Fit ARIMA: order=(0, 1, 1) seasonal_order=(0, 1, 2, 12); AIC=368.718, BIC=381.047, Fit time=1.014 seconds\n",
            "Fit ARIMA: order=(0, 1, 1) seasonal_order=(1, 1, 2, 12); AIC=370.353, BIC=385.149, Fit time=3.582 seconds\n",
            "Fit ARIMA: order=(0, 1, 0) seasonal_order=(0, 1, 1, 12); AIC=365.980, BIC=373.377, Fit time=0.281 seconds\n",
            "Fit ARIMA: order=(0, 1, 0) seasonal_order=(1, 1, 1, 12); AIC=367.553, BIC=377.417, Fit time=0.340 seconds\n",
            "Fit ARIMA: order=(0, 1, 0) seasonal_order=(0, 1, 2, 12); AIC=367.547, BIC=377.410, Fit time=0.696 seconds\n",
            "Fit ARIMA: order=(0, 1, 0) seasonal_order=(1, 1, 2, 12); AIC=369.418, BIC=381.747, Fit time=3.138 seconds\n",
            "Fit ARIMA: order=(1, 1, 0) seasonal_order=(0, 1, 1, 12); AIC=366.998, BIC=376.862, Fit time=0.452 seconds\n",
            "Total fit time: 11.672 seconds\n",
            "365.979725703015\n"
          ],
          "name": "stdout"
        }
      ]
    },
    {
      "cell_type": "code",
      "metadata": {
        "id": "PDgRjg6SWP9j",
        "colab_type": "code",
        "colab": {}
      },
      "source": [
        "stepwise_model_fit = stepwise_model.fit(df['close'])\n",
        "forecast = stepwise_model_fit.predict(n_periods=10)"
      ],
      "execution_count": 0,
      "outputs": []
    },
    {
      "cell_type": "code",
      "metadata": {
        "id": "NvDna1twUf85",
        "colab_type": "code",
        "outputId": "d84ebf40-0790-49e1-8e0f-6b67a0297ecf",
        "colab": {
          "base_uri": "https://localhost:8080/",
          "height": 298
        }
      },
      "source": [
        "import matplotlib.pyplot as plt\n",
        "dates = []\n",
        "for i in range(7,17):\n",
        "  s = '2020-04-'\n",
        "  if(len(str(i))==1):\n",
        "    s = s + '0' + str(i)\n",
        "  else:\n",
        "    s = s + str(i)\n",
        "  dates.append(s)\n",
        "plt.plot(dates,forecast)\n",
        "plt.title('Forecasted plot of Closing price for next 10 days')"
      ],
      "execution_count": 0,
      "outputs": [
        {
          "output_type": "execute_result",
          "data": {
            "text/plain": [
              "Text(0.5, 1.0, 'Forecasted plot of Closing price for next 10 days')"
            ]
          },
          "metadata": {
            "tags": []
          },
          "execution_count": 61
        },
        {
          "output_type": "display_data",
          "data": {
            "image/png": "[encoded data removed]",
            "text/plain": [
              "<Figure size 432x288 with 1 Axes>"
            ]
          },
          "metadata": {
            "tags": []
          }
        }
      ]
    },
    {
      "cell_type": "code",
      "metadata": {
        "id": "zVitZS7r52D5",
        "colab_type": "code",
        "outputId": "3aa68909-85dc-4e8b-f496-6fead0d34aa8",
        "colab": {
          "base_uri": "https://localhost:8080/",
          "height": 713
        }
      },
      "source": [
        "pip install --ignore-installed --upgrade keras"
      ],
      "execution_count": 0,
      "outputs": [
        {
          "output_type": "stream",
          "text": [
            "Collecting keras\n",
            "\u001b[?25l  Downloading https://files.pythonhosted.org/packages/ad/fd/6bfe87920d7f4fd475acd28500a42482b6b84479832bdc0fe9e589a60ceb/Keras-2.3.1-py2.py3-none-any.whl (377kB)\n",
            "\u001b[K     |████████████████████████████████| 378kB 2.8MB/s \n",
            "\u001b[?25hCollecting h5py\n",
            "\u001b[?25l  Downloading https://files.pythonhosted.org/packages/60/06/cafdd44889200e5438b897388f3075b52a8ef01f28a17366d91de0fa2d05/h5py-2.10.0-cp36-cp36m-manylinux1_x86_64.whl (2.9MB)\n",
            "\u001b[K     |████████████████████████████████| 2.9MB 11.9MB/s \n",
            "\u001b[?25hCollecting six>=1.9.0\n",
            "  Downloading https://files.pythonhosted.org/packages/65/eb/1f97cb97bfc2390a276969c6fae16075da282f5058082d4cb10c6c5c1dba/six-1.14.0-py2.py3-none-any.whl\n",
            "Collecting scipy>=0.14\n",
            "\u001b[?25l  Downloading https://files.pythonhosted.org/packages/dc/29/162476fd44203116e7980cfbd9352eef9db37c49445d1fec35509022f6aa/scipy-1.4.1-cp36-cp36m-manylinux1_x86_64.whl (26.1MB)\n",
            "\u001b[K     |████████████████████████████████| 26.1MB 73.9MB/s \n",
            "\u001b[?25hCollecting numpy>=1.9.1\n",
            "\u001b[?25l  Downloading https://files.pythonhosted.org/packages/07/08/a549ba8b061005bb629b76adc000f3caaaf881028b963c2e18f811c6edc1/numpy-1.18.2-cp36-cp36m-manylinux1_x86_64.whl (20.2MB)\n",
            "\u001b[K     |████████████████████████████████| 20.2MB 146kB/s \n",
            "\u001b[?25hCollecting pyyaml\n",
            "\u001b[?25l  Downloading https://files.pythonhosted.org/packages/64/c2/b80047c7ac2478f9501676c988a5411ed5572f35d1beff9cae07d321512c/PyYAML-5.3.1.tar.gz (269kB)\n",
            "\u001b[K     |████████████████████████████████| 276kB 47.6MB/s \n",
            "\u001b[?25hCollecting keras-preprocessing>=1.0.5\n",
            "\u001b[?25l  Downloading https://files.pythonhosted.org/packages/28/6a/8c1f62c37212d9fc441a7e26736df51ce6f0e38455816445471f10da4f0a/Keras_Preprocessing-1.1.0-py2.py3-none-any.whl (41kB)\n",
            "\u001b[K     |████████████████████████████████| 51kB 7.8MB/s \n",
            "\u001b[?25hCollecting keras-applications>=1.0.6\n",
            "\u001b[?25l  Downloading https://files.pythonhosted.org/packages/71/e3/19762fdfc62877ae9102edf6342d71b28fbfd9dea3d2f96a882ce099b03f/Keras_Applications-1.0.8-py3-none-any.whl (50kB)\n",
            "\u001b[K     |████████████████████████████████| 51kB 7.8MB/s \n",
            "\u001b[?25hBuilding wheels for collected packages: pyyaml\n",
            "  Building wheel for pyyaml (setup.py) ... \u001b[?25l\u001b[?25hdone\n",
            "  Created wheel for pyyaml: filename=PyYAML-5.3.1-cp36-cp36m-linux_x86_64.whl size=44621 sha256=010cc9e86209df470e868f0843a2821e95ed040a7aead7fbd9e64e80b04bce9c\n",
            "  Stored in directory: /root/.cache/pip/wheels/a7/c1/ea/cf5bd31012e735dc1dfea3131a2d5eae7978b251083d6247bd\n",
            "Successfully built pyyaml\n",
            "\u001b[31mERROR: qtconsole 4.7.2 has requirement pyzmq>=17.1, but you'll have pyzmq 17.0.0 which is incompatible.\u001b[0m\n",
            "\u001b[31mERROR: google-colab 1.0.0 has requirement six~=1.12.0, but you'll have six 1.14.0 which is incompatible.\u001b[0m\n",
            "\u001b[31mERROR: datascience 0.10.6 has requirement folium==0.2.1, but you'll have folium 0.8.3 which is incompatible.\u001b[0m\n",
            "\u001b[31mERROR: albumentations 0.1.12 has requirement imgaug<0.2.7,>=0.2.5, but you'll have imgaug 0.2.9 which is incompatible.\u001b[0m\n",
            "Installing collected packages: six, numpy, h5py, scipy, pyyaml, keras-preprocessing, keras-applications, keras\n",
            "Successfully installed h5py-2.10.0 keras-2.3.1 keras-applications-1.0.8 keras-preprocessing-1.1.0 numpy-1.18.2 pyyaml-5.3.1 scipy-1.4.1 six-1.14.0\n"
          ],
          "name": "stdout"
        },
        {
          "output_type": "display_data",
          "data": {
            "application/vnd.colab-display-data+json": {
              "pip_warning": {
                "packages": [
                  "h5py",
                  "keras",
                  "keras_applications",
                  "keras_preprocessing",
                  "numpy",
                  "scipy",
                  "six",
                  "yaml"
                ]
              }
            }
          },
          "metadata": {
            "tags": []
          }
        }
      ]
    },
    {
      "cell_type": "code",
      "metadata": {
        "id": "Qp-WVLAXXEDx",
        "colab_type": "code",
        "outputId": "babb4888-b723-4c39-cee0-9986ebeb0959",
        "colab": {
          "base_uri": "https://localhost:8080/",
          "height": 89
        }
      },
      "source": [
        "\n",
        "#Import the libraries\n",
        "import math\n",
        "import pandas_datareader as web\n",
        "import numpy as np\n",
        "import pandas as pd\n",
        "from sklearn.preprocessing import MinMaxScaler\n",
        "from keras.models import Sequential\n",
        "from keras.layers import Dense, LSTM\n",
        "import matplotlib.pyplot as plt\n",
        "\n"
      ],
      "execution_count": 2,
      "outputs": [
        {
          "output_type": "stream",
          "text": [
            "/usr/local/lib/python3.6/dist-packages/pandas_datareader/compat/__init__.py:7: FutureWarning: pandas.util.testing is deprecated. Use the functions in the public API at pandas.testing instead.\n",
            "  from pandas.util.testing import assert_frame_equal\n",
            "Using TensorFlow backend.\n"
          ],
          "name": "stderr"
        }
      ]
    },
    {
      "cell_type": "code",
      "metadata": {
        "id": "juv1xTESdw0P",
        "colab_type": "code",
        "outputId": "b7792215-6f85-4324-c349-cccf905a3651",
        "colab": {
          "base_uri": "https://localhost:8080/",
          "height": 521
        }
      },
      "source": [
        "#Smoothing using Moving Averages to identify trends\n",
        "\n",
        "#fast moving avg with q = 2days\n",
        "df['2d'] = np.round(df['close'].rolling(window = 2, center = False).mean(), 2)\n",
        "\n",
        "#df['10d'] = np.round(df['close'].rolling(window = 10, center = False).mean(), 2)\n",
        "\n",
        "#slow moving avg with q = 15days\n",
        "df['15d'] = np.round(df['close'].rolling(window = 15, center = False).mean(), 2)\n",
        "plt.figure(figsize=(16,8))\n",
        "plt.title('Close Price History')\n",
        "\n",
        "#the closing price is plotted along moving averages\n",
        "plt.plot(df['close'], label = 'actual')\n",
        "plt.plot(df['2d'], label ='2d MA')\n",
        "#plt.plot(df['10d'], label ='10d MA')\n",
        "plt.plot(df['15d'], label ='15d MA')\n",
        "plt.xlabel('Date', fontsize=18)\n",
        "plt.ylabel('Close Price USD ($)', fontsize=18)\n",
        "leg = plt.legend();\n",
        "plt.show()\n"
      ],
      "execution_count": 0,
      "outputs": [
        {
          "output_type": "display_data",
          "data": {
            "image/png": "[encoded data removed]",
            "text/plain": [
              "<Figure size 1152x576 with 1 Axes>"
            ]
          },
          "metadata": {
            "tags": []
          }
        }
      ]
    },
    {
      "cell_type": "markdown",
      "metadata": {
        "id": "6938omuP02Kg",
        "colab_type": "text"
      },
      "source": [
        "We can identify trends using this graph.\n",
        "\n",
        "Fast moving MA, 2dMA is not affected by local changes.\n",
        "\n",
        "From slow MA, 15d MA, we see there's \n",
        "\n",
        "*   a positive trend in the last two months of 2019   (bull market)\n",
        "*   After the beginning of 2020, the market is slightly bearish, showing a negative trend (bear market)\n",
        " \n",
        "\n",
        "\n",
        "\n",
        "\n",
        "\n",
        "\n",
        "\n"
      ]
    },
    {
      "cell_type": "code",
      "metadata": {
        "id": "GZP6I1KmIsNE",
        "colab_type": "code",
        "outputId": "b725f05a-b1f1-49b9-9467-63ff4063e25d",
        "colab": {
          "base_uri": "https://localhost:8080/",
          "height": 446
        }
      },
      "source": [
        "df_1 = web.DataReader('NLCINDIA.BO', data_source='yahoo', start='2018-11-13', end='2020-04-12')\n",
        "\n",
        "df_1"
      ],
      "execution_count": 0,
      "outputs": [
        {
          "output_type": "execute_result",
          "data": {
            "text/html": [
              "<div>\n",
              "<style scoped>\n",
              "    .dataframe tbody tr th:only-of-type {\n",
              "        vertical-align: middle;\n",
              "    }\n",
              "\n",
              "    .dataframe tbody tr th {\n",
              "        vertical-align: top;\n",
              "    }\n",
              "\n",
              "    .dataframe thead th {\n",
              "        text-align: right;\n",
              "    }\n",
              "</style>\n",
              "<table border=\"1\" class=\"dataframe\">\n",
              "  <thead>\n",
              "    <tr style=\"text-align: right;\">\n",
              "      <th></th>\n",
              "      <th>High</th>\n",
              "      <th>Low</th>\n",
              "      <th>Open</th>\n",
              "      <th>Close</th>\n",
              "      <th>Volume</th>\n",
              "      <th>Adj Close</th>\n",
              "    </tr>\n",
              "    <tr>\n",
              "      <th>Date</th>\n",
              "      <th></th>\n",
              "      <th></th>\n",
              "      <th></th>\n",
              "      <th></th>\n",
              "      <th></th>\n",
              "      <th></th>\n",
              "    </tr>\n",
              "  </thead>\n",
              "  <tbody>\n",
              "    <tr>\n",
              "      <th>2018-11-13</th>\n",
              "      <td>81.800003</td>\n",
              "      <td>80.150002</td>\n",
              "      <td>81.800003</td>\n",
              "      <td>80.800003</td>\n",
              "      <td>16375.0</td>\n",
              "      <td>67.196640</td>\n",
              "    </tr>\n",
              "    <tr>\n",
              "      <th>2018-11-14</th>\n",
              "      <td>82.400002</td>\n",
              "      <td>79.400002</td>\n",
              "      <td>81.849998</td>\n",
              "      <td>81.650002</td>\n",
              "      <td>42691.0</td>\n",
              "      <td>67.903534</td>\n",
              "    </tr>\n",
              "    <tr>\n",
              "      <th>2018-11-15</th>\n",
              "      <td>81.699997</td>\n",
              "      <td>81.300003</td>\n",
              "      <td>81.699997</td>\n",
              "      <td>81.599998</td>\n",
              "      <td>14262.0</td>\n",
              "      <td>67.861946</td>\n",
              "    </tr>\n",
              "    <tr>\n",
              "      <th>2018-11-16</th>\n",
              "      <td>81.750000</td>\n",
              "      <td>80.300003</td>\n",
              "      <td>81.750000</td>\n",
              "      <td>81.349998</td>\n",
              "      <td>15778.0</td>\n",
              "      <td>67.654037</td>\n",
              "    </tr>\n",
              "    <tr>\n",
              "      <th>2018-11-19</th>\n",
              "      <td>81.599998</td>\n",
              "      <td>80.500000</td>\n",
              "      <td>81.449997</td>\n",
              "      <td>81.400002</td>\n",
              "      <td>20093.0</td>\n",
              "      <td>67.695618</td>\n",
              "    </tr>\n",
              "    <tr>\n",
              "      <th>...</th>\n",
              "      <td>...</td>\n",
              "      <td>...</td>\n",
              "      <td>...</td>\n",
              "      <td>...</td>\n",
              "      <td>...</td>\n",
              "      <td>...</td>\n",
              "    </tr>\n",
              "    <tr>\n",
              "      <th>2020-04-01</th>\n",
              "      <td>44.700001</td>\n",
              "      <td>43.049999</td>\n",
              "      <td>43.599998</td>\n",
              "      <td>43.200001</td>\n",
              "      <td>21470.0</td>\n",
              "      <td>43.200001</td>\n",
              "    </tr>\n",
              "    <tr>\n",
              "      <th>2020-04-03</th>\n",
              "      <td>44.049999</td>\n",
              "      <td>42.799999</td>\n",
              "      <td>43.599998</td>\n",
              "      <td>43.599998</td>\n",
              "      <td>20121.0</td>\n",
              "      <td>43.599998</td>\n",
              "    </tr>\n",
              "    <tr>\n",
              "      <th>2020-04-07</th>\n",
              "      <td>45.000000</td>\n",
              "      <td>43.500000</td>\n",
              "      <td>43.500000</td>\n",
              "      <td>44.099998</td>\n",
              "      <td>18373.0</td>\n",
              "      <td>44.099998</td>\n",
              "    </tr>\n",
              "    <tr>\n",
              "      <th>2020-04-08</th>\n",
              "      <td>46.950001</td>\n",
              "      <td>44.000000</td>\n",
              "      <td>44.000000</td>\n",
              "      <td>44.900002</td>\n",
              "      <td>47541.0</td>\n",
              "      <td>44.900002</td>\n",
              "    </tr>\n",
              "    <tr>\n",
              "      <th>2020-04-09</th>\n",
              "      <td>47.950001</td>\n",
              "      <td>45.650002</td>\n",
              "      <td>46.700001</td>\n",
              "      <td>46.049999</td>\n",
              "      <td>43633.0</td>\n",
              "      <td>46.049999</td>\n",
              "    </tr>\n",
              "  </tbody>\n",
              "</table>\n",
              "<p>343 rows × 6 columns</p>\n",
              "</div>"
            ],
            "text/plain": [
              "                 High        Low       Open      Close   Volume  Adj Close\n",
              "Date                                                                      \n",
              "2018-11-13  81.800003  80.150002  81.800003  80.800003  16375.0  67.196640\n",
              "2018-11-14  82.400002  79.400002  81.849998  81.650002  42691.0  67.903534\n",
              "2018-11-15  81.699997  81.300003  81.699997  81.599998  14262.0  67.861946\n",
              "2018-11-16  81.750000  80.300003  81.750000  81.349998  15778.0  67.654037\n",
              "2018-11-19  81.599998  80.500000  81.449997  81.400002  20093.0  67.695618\n",
              "...               ...        ...        ...        ...      ...        ...\n",
              "2020-04-01  44.700001  43.049999  43.599998  43.200001  21470.0  43.200001\n",
              "2020-04-03  44.049999  42.799999  43.599998  43.599998  20121.0  43.599998\n",
              "2020-04-07  45.000000  43.500000  43.500000  44.099998  18373.0  44.099998\n",
              "2020-04-08  46.950001  44.000000  44.000000  44.900002  47541.0  44.900002\n",
              "2020-04-09  47.950001  45.650002  46.700001  46.049999  43633.0  46.049999\n",
              "\n",
              "[343 rows x 6 columns]"
            ]
          },
          "metadata": {
            "tags": []
          },
          "execution_count": 26
        }
      ]
    },
    {
      "cell_type": "code",
      "metadata": {
        "id": "hh-MvRUYeCXi",
        "colab_type": "code",
        "outputId": "fc41cabb-8f16-42a8-f92e-c9f6e534f8ef",
        "colab": {
          "base_uri": "https://localhost:8080/",
          "height": 35
        }
      },
      "source": [
        "data = df_1.filter(['Close'])\n",
        "\n",
        "dataset = data.values\n",
        "\n",
        "training_data_len = math.ceil( len(dataset) * .8 )\n",
        "\n",
        "training_data_len"
      ],
      "execution_count": 0,
      "outputs": [
        {
          "output_type": "execute_result",
          "data": {
            "text/plain": [
              "275"
            ]
          },
          "metadata": {
            "tags": []
          },
          "execution_count": 27
        }
      ]
    },
    {
      "cell_type": "code",
      "metadata": {
        "id": "4YtylW6LeVII",
        "colab_type": "code",
        "outputId": "f662ccf8-f005-43ea-a86d-72d979eed0a3",
        "colab": {
          "base_uri": "https://localhost:8080/",
          "height": 1000
        }
      },
      "source": [
        "#Scale the data\n",
        "scaler = MinMaxScaler(feature_range=(0,1))\n",
        "scaled_data = scaler.fit_transform(dataset)\n",
        "\n",
        "scaled_data"
      ],
      "execution_count": 0,
      "outputs": [
        {
          "output_type": "execute_result",
          "data": {
            "text/plain": [
              "array([[0.97983396],\n",
              "       [1.        ],\n",
              "       [0.99881369],\n",
              "       [0.99288249],\n",
              "       [0.9940688 ],\n",
              "       [0.98695129],\n",
              "       [0.9881376 ],\n",
              "       [0.9632265 ],\n",
              "       [0.99051005],\n",
              "       [0.96441281],\n",
              "       [0.88256217],\n",
              "       [0.91103203],\n",
              "       [0.96678526],\n",
              "       [0.89798332],\n",
              "       [0.98695129],\n",
              "       [0.9632265 ],\n",
              "       [0.93001176],\n",
              "       [0.85053374],\n",
              "       [0.71767494],\n",
              "       [0.68090145],\n",
              "       [0.70699886],\n",
              "       [0.68683264],\n",
              "       [0.68327407],\n",
              "       [0.68327407],\n",
              "       [0.67141167],\n",
              "       [0.70106766],\n",
              "       [0.68327407],\n",
              "       [0.67615656],\n",
              "       [0.66192172],\n",
              "       [0.65361808],\n",
              "       [0.65361808],\n",
              "       [0.71648863],\n",
              "       [0.7153025 ],\n",
              "       [0.70818499],\n",
              "       [0.68090145],\n",
              "       [0.67734287],\n",
              "       [0.678529  ],\n",
              "       [0.68683264],\n",
              "       [0.68801895],\n",
              "       [0.68327407],\n",
              "       [0.65836297],\n",
              "       [0.66073541],\n",
              "       [0.65954928],\n",
              "       [0.66310785],\n",
              "       [0.66903905],\n",
              "       [0.67022536],\n",
              "       [0.66903905],\n",
              "       [0.67734287],\n",
              "       [0.67497025],\n",
              "       [0.6844602 ],\n",
              "       [0.67497025],\n",
              "       [0.6725978 ],\n",
              "       [0.67378412],\n",
              "       [0.65836297],\n",
              "       [0.64175568],\n",
              "       [0.59905099],\n",
              "       [0.58125739],\n",
              "       [0.53973901],\n",
              "       [0.52669039],\n",
              "       [0.53855279],\n",
              "       [0.54804265],\n",
              "       [0.5634638 ],\n",
              "       [0.5516014 ],\n",
              "       [0.59786467],\n",
              "       [0.58481615],\n",
              "       [0.52550417],\n",
              "       [0.53736656],\n",
              "       [0.53618025],\n",
              "       [0.61803089],\n",
              "       [0.5883749 ],\n",
              "       [0.59311979],\n",
              "       [0.60142343],\n",
              "       [0.5883749 ],\n",
              "       [0.57769864],\n",
              "       [0.51482799],\n",
              "       [0.55990504],\n",
              "       [0.63582449],\n",
              "       [0.69750891],\n",
              "       [0.69157771],\n",
              "       [0.67497025],\n",
              "       [0.73784098],\n",
              "       [0.77342817],\n",
              "       [0.72479245],\n",
              "       [0.79122176],\n",
              "       [0.90391452],\n",
              "       [0.92289443],\n",
              "       [0.93119807],\n",
              "       [0.94899166],\n",
              "       [0.93357051],\n",
              "       [0.91340447],\n",
              "       [0.74258605],\n",
              "       [0.71055743],\n",
              "       [0.71293006],\n",
              "       [0.70462624],\n",
              "       [0.69869504],\n",
              "       [0.67971531],\n",
              "       [0.67497025],\n",
              "       [0.67141167],\n",
              "       [0.678529  ],\n",
              "       [0.67734287],\n",
              "       [0.67734287],\n",
              "       [0.66666661],\n",
              "       [0.66903905],\n",
              "       [0.66785292],\n",
              "       [0.68327407],\n",
              "       [0.68208776],\n",
              "       [0.68801895],\n",
              "       [0.68327407],\n",
              "       [0.68208776],\n",
              "       [0.62158947],\n",
              "       [0.65005932],\n",
              "       [0.61684458],\n",
              "       [0.60498218],\n",
              "       [0.60854094],\n",
              "       [0.59905099],\n",
              "       [0.59786467],\n",
              "       [0.60379587],\n",
              "       [0.61328583],\n",
              "       [0.6002373 ],\n",
              "       [0.65361808],\n",
              "       [0.61209969],\n",
              "       [0.58125739],\n",
              "       [0.57888495],\n",
              "       [0.5824437 ],\n",
              "       [0.62040334],\n",
              "       [0.60142343],\n",
              "       [0.60735463],\n",
              "       [0.6002373 ],\n",
              "       [0.63701062],\n",
              "       [0.71648863],\n",
              "       [0.71411619],\n",
              "       [0.70462624],\n",
              "       [0.60260974],\n",
              "       [0.60972707],\n",
              "       [0.62752066],\n",
              "       [0.62752066],\n",
              "       [0.61209969],\n",
              "       [0.60379587],\n",
              "       [0.60379587],\n",
              "       [0.60379587],\n",
              "       [0.5943061 ],\n",
              "       [0.58362984],\n",
              "       [0.58362984],\n",
              "       [0.57888495],\n",
              "       [0.56820878],\n",
              "       [0.5516014 ],\n",
              "       [0.57058122],\n",
              "       [0.55516016],\n",
              "       [0.54804265],\n",
              "       [0.57651242],\n",
              "       [0.57413997],\n",
              "       [0.60379587],\n",
              "       [0.61447214],\n",
              "       [0.63463817],\n",
              "       [0.62870698],\n",
              "       [0.58600228],\n",
              "       [0.59786467],\n",
              "       [0.58007117],\n",
              "       [0.52550417],\n",
              "       [0.63819693],\n",
              "       [0.59074735],\n",
              "       [0.59311979],\n",
              "       [0.7093713 ],\n",
              "       [0.60972707],\n",
              "       [0.57176744],\n",
              "       [0.55397385],\n",
              "       [0.51720044],\n",
              "       [0.51482799],\n",
              "       [0.51720044],\n",
              "       [0.51126924],\n",
              "       [0.50415182],\n",
              "       [0.46026099],\n",
              "       [0.45077104],\n",
              "       [0.44128109],\n",
              "       [0.43890864],\n",
              "       [0.44128109],\n",
              "       [0.39145906],\n",
              "       [0.39620404],\n",
              "       [0.36180307],\n",
              "       [0.38078289],\n",
              "       [0.35943063],\n",
              "       [0.37841044],\n",
              "       [0.37247925],\n",
              "       [0.36417551],\n",
              "       [0.38078289],\n",
              "       [0.36180307],\n",
              "       [0.35943063],\n",
              "       [0.36180307],\n",
              "       [0.35943063],\n",
              "       [0.34638192],\n",
              "       [0.37129302],\n",
              "       [0.35943063],\n",
              "       [0.37485169],\n",
              "       [0.35824432],\n",
              "       [0.26571768],\n",
              "       [0.34994068],\n",
              "       [0.35468565],\n",
              "       [0.3451957 ],\n",
              "       [0.34282326],\n",
              "       [0.38078289],\n",
              "       [0.38196911],\n",
              "       [0.39501782],\n",
              "       [0.38315542],\n",
              "       [0.38315542],\n",
              "       [0.41281141],\n",
              "       [0.39027284],\n",
              "       [0.3938315 ],\n",
              "       [0.41874261],\n",
              "       [0.48042703],\n",
              "       [0.43297745],\n",
              "       [0.4246738 ],\n",
              "       [0.42941869],\n",
              "       [0.43179122],\n",
              "       [0.43179122],\n",
              "       [0.42111505],\n",
              "       [0.3938315 ],\n",
              "       [0.39857648],\n",
              "       [0.34994068],\n",
              "       [0.34756823],\n",
              "       [0.3392645 ],\n",
              "       [0.34163703],\n",
              "       [0.34163703],\n",
              "       [0.32858833],\n",
              "       [0.32858833],\n",
              "       [0.31316727],\n",
              "       [0.32265713],\n",
              "       [0.39027284],\n",
              "       [0.42586003],\n",
              "       [0.42586003],\n",
              "       [0.41874261],\n",
              "       [0.4056939 ],\n",
              "       [0.45077104],\n",
              "       [0.47805459],\n",
              "       [0.45077104],\n",
              "       [0.44009487],\n",
              "       [0.44009487],\n",
              "       [0.39501782],\n",
              "       [0.39739026],\n",
              "       [0.37959666],\n",
              "       [0.36061685],\n",
              "       [0.38671408],\n",
              "       [0.3511269 ],\n",
              "       [0.35231312],\n",
              "       [0.34994068],\n",
              "       [0.3333333 ],\n",
              "       [0.32977464],\n",
              "       [0.34994068],\n",
              "       [0.32740211],\n",
              "       [0.35943063],\n",
              "       [0.38790031],\n",
              "       [0.40450768],\n",
              "       [0.3938315 ],\n",
              "       [0.36417551],\n",
              "       [0.36773427],\n",
              "       [0.36180307],\n",
              "       [0.3511269 ],\n",
              "       [0.3511269 ],\n",
              "       [0.35349943],\n",
              "       [0.35468565],\n",
              "       [0.35349943],\n",
              "       [0.34045072],\n",
              "       [0.32265713],\n",
              "       [0.33451952],\n",
              "       [0.33689206],\n",
              "       [0.34638192],\n",
              "       [0.34994068],\n",
              "       [0.35231312],\n",
              "       [0.34756823],\n",
              "       [0.35349943],\n",
              "       [0.30486354],\n",
              "       [0.34638192],\n",
              "       [0.32384344],\n",
              "       [0.36298929],\n",
              "       [0.39027284],\n",
              "       [0.41874261],\n",
              "       [0.41637007],\n",
              "       [0.43890864],\n",
              "       [0.430605  ],\n",
              "       [0.4056939 ],\n",
              "       [0.39501782],\n",
              "       [0.39145906],\n",
              "       [0.40332146],\n",
              "       [0.41992883],\n",
              "       [0.45788846],\n",
              "       [0.47805459],\n",
              "       [0.47330961],\n",
              "       [0.46263344],\n",
              "       [0.48635823],\n",
              "       [0.51126924],\n",
              "       [0.51008302],\n",
              "       [0.4246738 ],\n",
              "       [0.38078289],\n",
              "       [0.43416367],\n",
              "       [0.46144721],\n",
              "       [0.46381966],\n",
              "       [0.46144721],\n",
              "       [0.47330961],\n",
              "       [0.45551602],\n",
              "       [0.38671408],\n",
              "       [0.40332146],\n",
              "       [0.40094901],\n",
              "       [0.4056939 ],\n",
              "       [0.3997627 ],\n",
              "       [0.38078289],\n",
              "       [0.36654805],\n",
              "       [0.3451957 ],\n",
              "       [0.32621588],\n",
              "       [0.30604985],\n",
              "       [0.31079473],\n",
              "       [0.31198105],\n",
              "       [0.29655989],\n",
              "       [0.33214708],\n",
              "       [0.32977464],\n",
              "       [0.35705809],\n",
              "       [0.3511269 ],\n",
              "       [0.48279947],\n",
              "       [0.49822062],\n",
              "       [0.48991698],\n",
              "       [0.53618025],\n",
              "       [0.49347565],\n",
              "       [0.28825625],\n",
              "       [0.23487547],\n",
              "       [0.23487547],\n",
              "       [0.18030838],\n",
              "       [0.11387898],\n",
              "       [0.14116253],\n",
              "       [0.05812576],\n",
              "       [0.03202843],\n",
              "       [0.03440097],\n",
              "       [0.05219456],\n",
              "       [0.1459075 ],\n",
              "       [0.00355875],\n",
              "       [0.02846977],\n",
              "       [0.04033216],\n",
              "       [0.        ],\n",
              "       [0.05693954],\n",
              "       [0.08659553],\n",
              "       [0.10676156],\n",
              "       [0.08778175],\n",
              "       [0.09727161],\n",
              "       [0.109134  ],\n",
              "       [0.12811391],\n",
              "       [0.15539737]])"
            ]
          },
          "metadata": {
            "tags": []
          },
          "execution_count": 28
        }
      ]
    },
    {
      "cell_type": "code",
      "metadata": {
        "id": "Dtcv-hheeYPf",
        "colab_type": "code",
        "colab": {}
      },
      "source": [
        "#Create the training data set\n",
        "train_data = scaled_data[0:training_data_len , :]\n",
        "\n",
        "\n",
        "#Split the data into x_train and y_train data sets\n",
        "x_train = []\n",
        "y_train = []\n",
        "\n",
        "for i in range(30, len(train_data)):\n",
        "  x_train.append(train_data[i-30:i, 0])\n",
        "  y_train.append(train_data[i, 0])\n",
        "  "
      ],
      "execution_count": 0,
      "outputs": []
    },
    {
      "cell_type": "code",
      "metadata": {
        "id": "w-DmS0C6g0gH",
        "colab_type": "code",
        "colab": {}
      },
      "source": [
        "x_train, y_train = np.array(x_train), np.array(y_train)"
      ],
      "execution_count": 0,
      "outputs": []
    },
    {
      "cell_type": "code",
      "metadata": {
        "id": "gFosR-k0g8cg",
        "colab_type": "code",
        "outputId": "5f8ee419-a345-408e-a555-2fa97faf1ca0",
        "colab": {
          "base_uri": "https://localhost:8080/",
          "height": 35
        }
      },
      "source": [
        "x_train = np.reshape(x_train, (x_train.shape[0], x_train.shape[1], 1))\n",
        "x_train.shape"
      ],
      "execution_count": 0,
      "outputs": [
        {
          "output_type": "execute_result",
          "data": {
            "text/plain": [
              "(245, 30, 1)"
            ]
          },
          "metadata": {
            "tags": []
          },
          "execution_count": 31
        }
      ]
    },
    {
      "cell_type": "code",
      "metadata": {
        "id": "8zm1dchMl-QO",
        "colab_type": "code",
        "colab": {}
      },
      "source": [
        "\n",
        "#Build the LSTM model\n",
        "model = Sequential()\n",
        "model.add(LSTM(50, return_sequences=True, input_shape= (x_train.shape[1], 1)))\n",
        "model.add(LSTM(50, return_sequences= False))\n",
        "model.add(Dense(25))\n",
        "model.add(Dense(1))\n",
        "model.compile(loss='mean_squared_error', optimizer='adam')\n"
      ],
      "execution_count": 0,
      "outputs": []
    },
    {
      "cell_type": "code",
      "metadata": {
        "id": "xJN56ouM6TAV",
        "colab_type": "code",
        "outputId": "d54673b8-5958-4d84-d418-7c49079a9b71",
        "colab": {
          "base_uri": "https://localhost:8080/",
          "height": 381
        }
      },
      "source": [
        "model.fit(x_train, y_train, batch_size=32, epochs=10)"
      ],
      "execution_count": 0,
      "outputs": [
        {
          "output_type": "stream",
          "text": [
            "Epoch 1/10\n",
            "245/245 [==============================] - 0s 1ms/step - loss: 0.0043\n",
            "Epoch 2/10\n",
            "245/245 [==============================] - 0s 1ms/step - loss: 0.0041\n",
            "Epoch 3/10\n",
            "245/245 [==============================] - 0s 1ms/step - loss: 0.0040\n",
            "Epoch 4/10\n",
            "245/245 [==============================] - 0s 1ms/step - loss: 0.0040\n",
            "Epoch 5/10\n",
            "245/245 [==============================] - 0s 1ms/step - loss: 0.0039\n",
            "Epoch 6/10\n",
            "245/245 [==============================] - 0s 1ms/step - loss: 0.0038\n",
            "Epoch 7/10\n",
            "245/245 [==============================] - 0s 1ms/step - loss: 0.0038\n",
            "Epoch 8/10\n",
            "245/245 [==============================] - 0s 1ms/step - loss: 0.0038\n",
            "Epoch 9/10\n",
            "245/245 [==============================] - 0s 1ms/step - loss: 0.0037\n",
            "Epoch 10/10\n",
            "245/245 [==============================] - 0s 1ms/step - loss: 0.0038\n"
          ],
          "name": "stdout"
        },
        {
          "output_type": "execute_result",
          "data": {
            "text/plain": [
              "<keras.callbacks.callbacks.History at 0x7fdaa158f908>"
            ]
          },
          "metadata": {
            "tags": []
          },
          "execution_count": 38
        }
      ]
    },
    {
      "cell_type": "code",
      "metadata": {
        "id": "H07kjTSL7Qi7",
        "colab_type": "code",
        "colab": {}
      },
      "source": [
        "test_data = scaled_data[training_data_len - 30: , :]\n",
        "#Create the data sets x_test and y_test\n",
        "x_test = []\n",
        "y_test = dataset[training_data_len:, :]\n",
        "for i in range(30, len(test_data)):\n",
        "  x_test.append(test_data[i-30:i, 0])"
      ],
      "execution_count": 0,
      "outputs": []
    },
    {
      "cell_type": "code",
      "metadata": {
        "id": "Sds2NLKf7Ych",
        "colab_type": "code",
        "outputId": "e41ba487-e596-4217-d0be-87ecb89f1434",
        "colab": {
          "base_uri": "https://localhost:8080/",
          "height": 35
        }
      },
      "source": [
        "x_test = np.array(x_test)\n",
        "\n",
        "x_test = np.reshape(x_test, (x_test.shape[0], x_test.shape[1], 1 ))\n",
        "\n",
        "#Get the models predicted price values \n",
        "predictions = model.predict(x_test)\n",
        "predictions = scaler.inverse_transform(predictions)\n",
        "\n",
        "#Get the root mean squared error (RMSE)\n",
        "rmse=np.sqrt(np.mean(((predictions- y_test)**2)))\n",
        "rmse"
      ],
      "execution_count": 0,
      "outputs": [
        {
          "output_type": "execute_result",
          "data": {
            "text/plain": [
              "4.393291185252077"
            ]
          },
          "metadata": {
            "tags": []
          },
          "execution_count": 40
        }
      ]
    },
    {
      "cell_type": "code",
      "metadata": {
        "id": "RdiL_to676V3",
        "colab_type": "code",
        "outputId": "2ea2bbe9-65da-41df-bd9d-2f846a62fd6b",
        "colab": {
          "base_uri": "https://localhost:8080/",
          "height": 589
        }
      },
      "source": [
        "train = data[:training_data_len]\n",
        "valid = data[training_data_len:]\n",
        "valid['Predictions'] = predictions\n",
        "#Visualize the data\n",
        "plt.figure(figsize=(16,8))\n",
        "plt.title('Model')\n",
        "plt.xlabel('Date', fontsize=18)\n",
        "plt.ylabel('Close Price USD ($)', fontsize=18)\n",
        "plt.plot(train['Close'])\n",
        "plt.plot(valid[['Close', 'Predictions']])\n",
        "plt.legend(['Train', 'Val', 'Predictions'], loc='lower right')\n",
        "plt.show()"
      ],
      "execution_count": 0,
      "outputs": [
        {
          "output_type": "stream",
          "text": [
            "/usr/local/lib/python3.6/dist-packages/ipykernel_launcher.py:3: SettingWithCopyWarning: \n",
            "A value is trying to be set on a copy of a slice from a DataFrame.\n",
            "Try using .loc[row_indexer,col_indexer] = value instead\n",
            "\n",
            "See the caveats in the documentation: https://pandas.pydata.org/pandas-docs/stable/user_guide/indexing.html#returning-a-view-versus-a-copy\n",
            "  This is separate from the ipykernel package so we can avoid doing imports until\n"
          ],
          "name": "stderr"
        },
        {
          "output_type": "display_data",
          "data": {
            "image/png": "[encoded data removed]",
            "text/plain": [
              "<Figure size 1152x576 with 1 Axes>"
            ]
          },
          "metadata": {
            "tags": []
          }
        }
      ]
    },
    {
      "cell_type": "code",
      "metadata": {
        "id": "giJeUBTB7_sR",
        "colab_type": "code",
        "outputId": "310a322f-e8b1-4b75-e109-3b02322d9fa7",
        "colab": {
          "base_uri": "https://localhost:8080/",
          "height": 446
        }
      },
      "source": [
        "valid"
      ],
      "execution_count": 0,
      "outputs": [
        {
          "output_type": "execute_result",
          "data": {
            "text/html": [
              "<div>\n",
              "<style scoped>\n",
              "    .dataframe tbody tr th:only-of-type {\n",
              "        vertical-align: middle;\n",
              "    }\n",
              "\n",
              "    .dataframe tbody tr th {\n",
              "        vertical-align: top;\n",
              "    }\n",
              "\n",
              "    .dataframe thead th {\n",
              "        text-align: right;\n",
              "    }\n",
              "</style>\n",
              "<table border=\"1\" class=\"dataframe\">\n",
              "  <thead>\n",
              "    <tr style=\"text-align: right;\">\n",
              "      <th></th>\n",
              "      <th>Close</th>\n",
              "      <th>Predictions</th>\n",
              "    </tr>\n",
              "    <tr>\n",
              "      <th>Date</th>\n",
              "      <th></th>\n",
              "      <th></th>\n",
              "    </tr>\n",
              "  </thead>\n",
              "  <tbody>\n",
              "    <tr>\n",
              "      <th>2020-01-01</th>\n",
              "      <td>57.049999</td>\n",
              "      <td>55.161495</td>\n",
              "    </tr>\n",
              "    <tr>\n",
              "      <th>2020-01-02</th>\n",
              "      <td>58.000000</td>\n",
              "      <td>55.378361</td>\n",
              "    </tr>\n",
              "    <tr>\n",
              "      <th>2020-01-03</th>\n",
              "      <td>57.650002</td>\n",
              "      <td>55.655964</td>\n",
              "    </tr>\n",
              "    <tr>\n",
              "      <th>2020-01-06</th>\n",
              "      <td>56.599998</td>\n",
              "      <td>55.950294</td>\n",
              "    </tr>\n",
              "    <tr>\n",
              "      <th>2020-01-07</th>\n",
              "      <td>56.150002</td>\n",
              "      <td>56.203270</td>\n",
              "    </tr>\n",
              "    <tr>\n",
              "      <th>...</th>\n",
              "      <td>...</td>\n",
              "      <td>...</td>\n",
              "    </tr>\n",
              "    <tr>\n",
              "      <th>2020-04-01</th>\n",
              "      <td>43.200001</td>\n",
              "      <td>45.748360</td>\n",
              "    </tr>\n",
              "    <tr>\n",
              "      <th>2020-04-03</th>\n",
              "      <td>43.599998</td>\n",
              "      <td>45.658772</td>\n",
              "    </tr>\n",
              "    <tr>\n",
              "      <th>2020-04-07</th>\n",
              "      <td>44.099998</td>\n",
              "      <td>45.640575</td>\n",
              "    </tr>\n",
              "    <tr>\n",
              "      <th>2020-04-08</th>\n",
              "      <td>44.900002</td>\n",
              "      <td>45.687431</td>\n",
              "    </tr>\n",
              "    <tr>\n",
              "      <th>2020-04-09</th>\n",
              "      <td>46.049999</td>\n",
              "      <td>45.802425</td>\n",
              "    </tr>\n",
              "  </tbody>\n",
              "</table>\n",
              "<p>68 rows × 2 columns</p>\n",
              "</div>"
            ],
            "text/plain": [
              "                Close  Predictions\n",
              "Date                              \n",
              "2020-01-01  57.049999    55.161495\n",
              "2020-01-02  58.000000    55.378361\n",
              "2020-01-03  57.650002    55.655964\n",
              "2020-01-06  56.599998    55.950294\n",
              "2020-01-07  56.150002    56.203270\n",
              "...               ...          ...\n",
              "2020-04-01  43.200001    45.748360\n",
              "2020-04-03  43.599998    45.658772\n",
              "2020-04-07  44.099998    45.640575\n",
              "2020-04-08  44.900002    45.687431\n",
              "2020-04-09  46.049999    45.802425\n",
              "\n",
              "[68 rows x 2 columns]"
            ]
          },
          "metadata": {
            "tags": []
          },
          "execution_count": 37
        }
      ]
    },
    {
      "cell_type": "code",
      "metadata": {
        "id": "Ed30skoNSCk6",
        "colab_type": "code",
        "colab": {
          "base_uri": "https://localhost:8080/",
          "height": 201
        },
        "outputId": "32f2836c-01ef-4bf5-b173-4f0d675ec271"
      },
      "source": [
        "df1 = pd.DataFrame()\n",
        "df1['close'] = df['close']\n",
        "df1['ticker'] = name"
      ],
      "execution_count": 3,
      "outputs": [
        {
          "output_type": "error",
          "ename": "NameError",
          "evalue": "ignored",
          "traceback": [
            "\u001b[0;31m---------------------------------------------------------------------------\u001b[0m",
            "\u001b[0;31mNameError\u001b[0m                                 Traceback (most recent call last)",
            "\u001b[0;32m<ipython-input-3-afd8f3f36b4e>\u001b[0m in \u001b[0;36m<module>\u001b[0;34m()\u001b[0m\n\u001b[1;32m      1\u001b[0m \u001b[0mdf1\u001b[0m \u001b[0;34m=\u001b[0m \u001b[0mpd\u001b[0m\u001b[0;34m.\u001b[0m\u001b[0mDataFrame\u001b[0m\u001b[0;34m(\u001b[0m\u001b[0;34m)\u001b[0m\u001b[0;34m\u001b[0m\u001b[0;34m\u001b[0m\u001b[0m\n\u001b[0;32m----> 2\u001b[0;31m \u001b[0mdf1\u001b[0m\u001b[0;34m[\u001b[0m\u001b[0;34m'close'\u001b[0m\u001b[0;34m]\u001b[0m \u001b[0;34m=\u001b[0m \u001b[0mdf\u001b[0m\u001b[0;34m[\u001b[0m\u001b[0;34m'close'\u001b[0m\u001b[0;34m]\u001b[0m\u001b[0;34m\u001b[0m\u001b[0;34m\u001b[0m\u001b[0m\n\u001b[0m\u001b[1;32m      3\u001b[0m \u001b[0mdf1\u001b[0m\u001b[0;34m[\u001b[0m\u001b[0;34m'ticker'\u001b[0m\u001b[0;34m]\u001b[0m \u001b[0;34m=\u001b[0m \u001b[0mname\u001b[0m\u001b[0;34m\u001b[0m\u001b[0;34m\u001b[0m\u001b[0m\n",
            "\u001b[0;31mNameError\u001b[0m: name 'df' is not defined"
          ]
        }
      ]
    },
    {
      "cell_type": "code",
      "metadata": {
        "id": "ooWPKy_JSbb9",
        "colab_type": "code",
        "colab": {}
      },
      "source": [
        "table = df1.pivot(columns='ticker')\n",
        "# By specifying col[1] in below list comprehension\n",
        "# You can select the stock names under multi-level column\n",
        "table.columns = [col[1] for col in table.columns]\n",
        "table.head()"
      ],
      "execution_count": 0,
      "outputs": []
    },
    {
      "cell_type": "code",
      "metadata": {
        "id": "Qbk1pQ4zSeyI",
        "colab_type": "code",
        "colab": {}
      },
      "source": [
        "\n",
        "stock_change = table.apply(lambda x: np.log(x) - np.log(x.shift(1)))\n",
        "\n",
        "stock_change_apr = stock_change * 252 * 100    # There are 252 trading days in a year; the 100 converts to percentages\n",
        "stock_change_apr.tail()"
      ],
      "execution_count": 0,
      "outputs": []
    },
    {
      "cell_type": "code",
      "metadata": {
        "id": "7N7G7_LYSiK1",
        "colab_type": "code",
        "colab": {}
      },
      "source": [
        "!pip install quandl"
      ],
      "execution_count": 0,
      "outputs": []
    },
    {
      "cell_type": "code",
      "metadata": {
        "id": "b1yNNvXESkNx",
        "colab_type": "code",
        "colab": {}
      },
      "source": [
        "import quandl\n",
        "import datetime\n",
        "start = datetime.datetime(2019,11,13)\n",
        "end = datetime.date.today()\n",
        "quandl.ApiConfig.api_key = \"7xNGEYrd8YUr2eT5feF-\"\n",
        "tbill = quandl.get(\"FRED/TB3MS\")"
      ],
      "execution_count": 0,
      "outputs": []
    },
    {
      "cell_type": "markdown",
      "metadata": {
        "id": "8YRFvENMS8OB",
        "colab_type": "text"
      },
      "source": [
        ""
      ]
    },
    {
      "cell_type": "markdown",
      "metadata": {
        "id": "msP4h7EHdKMK",
        "colab_type": "text"
      },
      "source": [
        "The Sharpe ratio is another popular risk metric, defined below:\n",
        "\n",
        "![alt text](https://cdn.wallstreetmojo.com/wp-content/uploads/2018/12/Sharpe-Ratio-Formula.jpg)\n",
        "\n",
        " We want the sharpe ratio to be large. A large Sharpe ratio indicates that the stock's excess returns are large relative to the stock's volatilitly. Additionally, the Sharpe ratio is tied to a statistical test (the t-test) to determine if a stock earns more on average than the risk-free rate; the larger this ratio, the more likely this is to be the case."
      ]
    },
    {
      "cell_type": "code",
      "metadata": {
        "id": "Q7vEopZsSouM",
        "colab_type": "code",
        "colab": {}
      },
      "source": [
        "rrf = tbill.iloc[-1, 0]    # Get the most recent risk free rate\n",
        "rrf"
      ],
      "execution_count": 0,
      "outputs": []
    },
    {
      "cell_type": "code",
      "metadata": {
        "id": "5nm5xsX0SwVD",
        "colab_type": "code",
        "colab": {}
      },
      "source": [
        "s = stock_change_apr.std()\n",
        "x = stock_change_apr.mean() - rrf\n",
        "sharpe = (x - rrf)/s\n",
        "print(\"Sharpe ratio of NLCIndia Ltd. is\",sharpe.values[0])"
      ],
      "execution_count": 0,
      "outputs": []
    }
  ]
}