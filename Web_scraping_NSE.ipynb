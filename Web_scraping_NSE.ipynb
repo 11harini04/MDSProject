{
  "nbformat": 4,
  "nbformat_minor": 0,
  "metadata": {
    "colab": {
      "name": "Web_scraping_NSE.ipynb",
      "provenance": [],
      "collapsed_sections": [],
      "toc_visible": true,
      "include_colab_link": true
    },
    "kernelspec": {
      "name": "python3",
      "display_name": "Python 3"
    }
  },
  "cells": [
    {
      "cell_type": "markdown",
      "metadata": {
        "id": "view-in-github",
        "colab_type": "text"
      },
      "source": [
        "<a href=\"https://colab.research.google.com/github/11harini04/MDSProject/blob/master/Web_scraping_NSE.ipynb\" target=\"_parent\"><img src=\"https://colab.research.google.com/assets/colab-badge.svg\" alt=\"Open In Colab\"/></a>"
      ]
    },
    {
      "cell_type": "code",
      "metadata": {
        "id": "nEIXIdJYr9-x",
        "colab_type": "code",
        "outputId": "7bb587fa-5dda-4598-aa6d-15d0974abb67",
        "colab": {
          "base_uri": "https://localhost:8080/",
          "height": 612
        }
      },
      "source": [
        "!pip install influxdb-client"
      ],
      "execution_count": 0,
      "outputs": [
        {
          "output_type": "stream",
          "text": [
            "Collecting influxdb-client\n",
            "\u001b[?25l  Downloading https://files.pythonhosted.org/packages/cb/bb/06f064277ba3e8e5a09fa627947d338b7d1663f68a7650fbe5ff9e4a9585/influxdb_client-1.5.0-py3-none-any.whl (484kB)\n",
            "\r\u001b[K     |▊                               | 10kB 13.7MB/s eta 0:00:01\r\u001b[K     |█▍                              | 20kB 837kB/s eta 0:00:01\r\u001b[K     |██                              | 30kB 1.2MB/s eta 0:00:01\r\u001b[K     |██▊                             | 40kB 1.6MB/s eta 0:00:01\r\u001b[K     |███▍                            | 51kB 1.0MB/s eta 0:00:01\r\u001b[K     |████                            | 61kB 1.2MB/s eta 0:00:01\r\u001b[K     |████▊                           | 71kB 1.4MB/s eta 0:00:01\r\u001b[K     |█████▍                          | 81kB 1.6MB/s eta 0:00:01\r\u001b[K     |██████                          | 92kB 1.2MB/s eta 0:00:01\r\u001b[K     |██████▊                         | 102kB 1.4MB/s eta 0:00:01\r\u001b[K     |███████▌                        | 112kB 1.4MB/s eta 0:00:01\r\u001b[K     |████████▏                       | 122kB 1.4MB/s eta 0:00:01\r\u001b[K     |████████▉                       | 133kB 1.4MB/s eta 0:00:01\r\u001b[K     |█████████▌                      | 143kB 1.4MB/s eta 0:00:01\r\u001b[K     |██████████▏                     | 153kB 1.4MB/s eta 0:00:01\r\u001b[K     |██████████▉                     | 163kB 1.4MB/s eta 0:00:01\r\u001b[K     |███████████▌                    | 174kB 1.4MB/s eta 0:00:01\r\u001b[K     |████████████▏                   | 184kB 1.4MB/s eta 0:00:01\r\u001b[K     |████████████▉                   | 194kB 1.4MB/s eta 0:00:01\r\u001b[K     |█████████████▌                  | 204kB 1.4MB/s eta 0:00:01\r\u001b[K     |██████████████▏                 | 215kB 1.4MB/s eta 0:00:01\r\u001b[K     |███████████████                 | 225kB 1.4MB/s eta 0:00:01\r\u001b[K     |███████████████▋                | 235kB 1.4MB/s eta 0:00:01\r\u001b[K     |████████████████▎               | 245kB 1.4MB/s eta 0:00:01\r\u001b[K     |█████████████████               | 256kB 1.4MB/s eta 0:00:01\r\u001b[K     |█████████████████▋              | 266kB 1.4MB/s eta 0:00:01\r\u001b[K     |██████████████████▎             | 276kB 1.4MB/s eta 0:00:01\r\u001b[K     |███████████████████             | 286kB 1.4MB/s eta 0:00:01\r\u001b[K     |███████████████████▋            | 296kB 1.4MB/s eta 0:00:01\r\u001b[K     |████████████████████▎           | 307kB 1.4MB/s eta 0:00:01\r\u001b[K     |█████████████████████           | 317kB 1.4MB/s eta 0:00:01\r\u001b[K     |█████████████████████▋          | 327kB 1.4MB/s eta 0:00:01\r\u001b[K     |██████████████████████▍         | 337kB 1.4MB/s eta 0:00:01\r\u001b[K     |███████████████████████         | 348kB 1.4MB/s eta 0:00:01\r\u001b[K     |███████████████████████▊        | 358kB 1.4MB/s eta 0:00:01\r\u001b[K     |████████████████████████▍       | 368kB 1.4MB/s eta 0:00:01\r\u001b[K     |█████████████████████████       | 378kB 1.4MB/s eta 0:00:01\r\u001b[K     |█████████████████████████▊      | 389kB 1.4MB/s eta 0:00:01\r\u001b[K     |██████████████████████████▍     | 399kB 1.4MB/s eta 0:00:01\r\u001b[K     |███████████████████████████     | 409kB 1.4MB/s eta 0:00:01\r\u001b[K     |███████████████████████████▊    | 419kB 1.4MB/s eta 0:00:01\r\u001b[K     |████████████████████████████▍   | 430kB 1.4MB/s eta 0:00:01\r\u001b[K     |█████████████████████████████   | 440kB 1.4MB/s eta 0:00:01\r\u001b[K     |█████████████████████████████▉  | 450kB 1.4MB/s eta 0:00:01\r\u001b[K     |██████████████████████████████▌ | 460kB 1.4MB/s eta 0:00:01\r\u001b[K     |███████████████████████████████▏| 471kB 1.4MB/s eta 0:00:01\r\u001b[K     |███████████████████████████████▉| 481kB 1.4MB/s eta 0:00:01\r\u001b[K     |████████████████████████████████| 491kB 1.4MB/s \n",
            "\u001b[?25hRequirement already satisfied: setuptools>=21.0.0 in /usr/local/lib/python3.6/dist-packages (from influxdb-client) (46.1.3)\n",
            "Requirement already satisfied: urllib3>=1.15.1 in /usr/local/lib/python3.6/dist-packages (from influxdb-client) (1.24.3)\n",
            "Requirement already satisfied: python-dateutil>=2.5.3 in /usr/local/lib/python3.6/dist-packages (from influxdb-client) (2.8.1)\n",
            "Requirement already satisfied: six>=1.10 in /usr/local/lib/python3.6/dist-packages (from influxdb-client) (1.12.0)\n",
            "Requirement already satisfied: certifi>=14.05.14 in /usr/local/lib/python3.6/dist-packages (from influxdb-client) (2019.11.28)\n",
            "Collecting ciso8601>=2.1.1\n",
            "  Downloading https://files.pythonhosted.org/packages/2c/da/626910cf8aca7ed2d5b34355eee8aeaaeb6ddd4e16f98d00a9e2ddad3a08/ciso8601-2.1.3.tar.gz\n",
            "Collecting rx>=3.0.1\n",
            "\u001b[?25l  Downloading https://files.pythonhosted.org/packages/28/0e/50160479e1afba49e2c860f8fbd022f115acd2c64da9b6460c949adb0b01/Rx-3.1.0.tar.gz (103kB)\n",
            "\u001b[K     |████████████████████████████████| 112kB 44.7MB/s \n",
            "\u001b[?25hCollecting pytz>=2019.1\n",
            "\u001b[?25l  Downloading https://files.pythonhosted.org/packages/e7/f9/f0b53f88060247251bf481fa6ea62cd0d25bf1b11a87888e53ce5b7c8ad2/pytz-2019.3-py2.py3-none-any.whl (509kB)\n",
            "\u001b[K     |████████████████████████████████| 512kB 48.0MB/s \n",
            "\u001b[?25hBuilding wheels for collected packages: ciso8601, rx\n",
            "  Building wheel for ciso8601 (setup.py) ... \u001b[?25l\u001b[?25hdone\n",
            "  Created wheel for ciso8601: filename=ciso8601-2.1.3-cp36-cp36m-linux_x86_64.whl size=28305 sha256=55fdfcfc174be157f72c43b5dc8f5763b69701f0b5b70e85040e8f5127c7fa88\n",
            "  Stored in directory: /root/.cache/pip/wheels/eb/32/e4/13bdaf7e245f82667b21e0cfb03d21224691a47fa9f9bc80a6\n",
            "  Building wheel for rx (setup.py) ... \u001b[?25l\u001b[?25hdone\n",
            "  Created wheel for rx: filename=Rx-3.1.0-cp36-none-any.whl size=195489 sha256=63b3faded18e07b2e87610b909fe20105d602aa86d9399773c6e0422ae0268b7\n",
            "  Stored in directory: /root/.cache/pip/wheels/88/84/32/3daff4afe52d5372cf3691233c2f29f8b498b034f4ef994d0a\n",
            "Successfully built ciso8601 rx\n",
            "Installing collected packages: ciso8601, rx, pytz, influxdb-client\n",
            "  Found existing installation: pytz 2018.9\n",
            "    Uninstalling pytz-2018.9:\n",
            "      Successfully uninstalled pytz-2018.9\n",
            "Successfully installed ciso8601-2.1.3 influxdb-client-1.5.0 pytz-2019.3 rx-3.1.0\n"
          ],
          "name": "stdout"
        },
        {
          "output_type": "display_data",
          "data": {
            "application/vnd.colab-display-data+json": {
              "pip_warning": {
                "packages": [
                  "pytz"
                ]
              }
            }
          },
          "metadata": {
            "tags": []
          }
        }
      ]
    },
    {
      "cell_type": "code",
      "metadata": {
        "id": "TRqTmancXaJ_",
        "colab_type": "code",
        "colab": {}
      },
      "source": [
        "import influxdb_client\n",
        "from influxdb_client.client.write_api import SYNCHRONOUS\n",
        "from influxdb_client import InfluxDBClient\n",
        "\n",
        "bucket = \"_tasks\"\n",
        "org = \"11harini04@gmail.com\"\n",
        "token = \"A11NbY2ifqR8sQGdC8KUtXsmd-5gvFk8ruvlBzdyyFfDmb7bBRVzhoDf2_dOq5WL9J5EQBQpp2oL2vdGRCR8Uw==\"\n",
        "client = InfluxDBClient(url=\"https://us-west-2-1.aws.cloud2.influxdata.com\",token=token)"
      ],
      "execution_count": 0,
      "outputs": []
    },
    {
      "cell_type": "code",
      "metadata": {
        "id": "3BrdIB5O1aeD",
        "colab_type": "code",
        "outputId": "d4c2b017-83f3-4e83-91f2-385cb40a4fcf",
        "colab": {
          "base_uri": "https://localhost:8080/",
          "height": 34
        }
      },
      "source": [
        "import requests\n",
        "import pandas as pd\n",
        "from datetime import datetime\n",
        "from bokeh.plotting import figure, show, output_file\n",
        "from influxdb_client import Point\n",
        "\n",
        "#Use this API key itself, idhu ennoda email id la pota API\n",
        "API_KEY = 'GIJPOQVYSQTTJ319'\n",
        "#stocks = ['INFY','NLCINDIA.BO','AAPL']\n",
        "stocks = ['NLCINDIA.BO']\n",
        "for i in range(len(stocks)):\n",
        "\n",
        "  #Scraping data from YahooFinance\n",
        "  stock_name = stocks[i]\n",
        "  r = requests.get('https://www.alphavantage.co/query?function=TIME_SERIES_DAILY&symbol=' + stock_name + '&apikey=' + API_KEY)\n",
        "  result = r.json()\n",
        "  dataForAllDays = result['Time Series (Daily)']\n",
        "\n",
        "  #convert to dataframe\n",
        "  df = pd.DataFrame.from_dict(dataForAllDays, orient='index') \n",
        "  #df = df.reset_index()\n",
        "  \n",
        "  #rename columns\n",
        "  df = df.rename(index=str, columns={\"index\":\"name\", \"1. open\": \"open\", \"2. high\": \"high\", \"3. low\": \"low\", \"4. close\": \"close\",\"5. volume\":\"volume\"})\n",
        "\n",
        "  #Changing the datatype \n",
        "  df.open = df.open.astype(float)\n",
        "  df.close = df.close.astype(float)\n",
        "  df.high = df.high.astype(float)\n",
        "  df.low = df.low.astype(float)\n",
        "  df.volume = df.volume.astype(int)\n",
        "  name = [stock_name]*len(df)  \n",
        "  df['name'] = name\n",
        "  print(df['name'][0])\n",
        "  kind = 'Stock'\n",
        "  date = []\n",
        "  for ind in df.index:\n",
        "    datetime_object = datetime.strptime(ind,'%Y-%m-%d')\n",
        "    #print(datetime_object)\n",
        "    date.append(datetime_object)\n",
        "    point = Point(kind).tag(\"name\",df['name'][ind]).field(\"open\",df['open'][ind]).field(\"close\",df['close'][ind]).field(\"high\",df['high'][ind]).field(\"low\",df['low'][ind]).time(time = datetime_object)\n",
        "    #print(f'Writing to InfluxDB cloud: {point.to_line_protocol()} ...')\n",
        "    write_api = client.write_api(write_options = SYNCHRONOUS)\n",
        "    write_api.write(bucket = bucket, org = org, record = point)\n",
        "  df['Date'] = date\n",
        "  df.set_index(\"Date\", inplace = True) "
      ],
      "execution_count": 0,
      "outputs": [
        {
          "output_type": "stream",
          "text": [
            "NLCINDIA.BO\n"
          ],
          "name": "stdout"
        }
      ]
    },
    {
      "cell_type": "code",
      "metadata": {
        "id": "y6uo1X61Uv_r",
        "colab_type": "code",
        "colab": {}
      },
      "source": [
        "query = 'from(bucket: \"_tasks\") |> range(start: -1h)'\n",
        "tables = client.query_api().query(query, org=org)\n",
        "for table in tables:\n",
        "  print(table)\n",
        "  for row in table.records  :\n",
        "    print(row.values)"
      ],
      "execution_count": 0,
      "outputs": []
    },
    {
      "cell_type": "code",
      "metadata": {
        "id": "4B7hF7GX776_",
        "colab_type": "code",
        "outputId": "ff4e85d0-6c2f-4c4f-f095-031091f51672",
        "colab": {
          "base_uri": "https://localhost:8080/",
          "height": 446
        }
      },
      "source": [
        "df"
      ],
      "execution_count": 0,
      "outputs": [
        {
          "output_type": "execute_result",
          "data": {
            "text/html": [
              "<div>\n",
              "<style scoped>\n",
              "    .dataframe tbody tr th:only-of-type {\n",
              "        vertical-align: middle;\n",
              "    }\n",
              "\n",
              "    .dataframe tbody tr th {\n",
              "        vertical-align: top;\n",
              "    }\n",
              "\n",
              "    .dataframe thead th {\n",
              "        text-align: right;\n",
              "    }\n",
              "</style>\n",
              "<table border=\"1\" class=\"dataframe\">\n",
              "  <thead>\n",
              "    <tr style=\"text-align: right;\">\n",
              "      <th></th>\n",
              "      <th>open</th>\n",
              "      <th>high</th>\n",
              "      <th>low</th>\n",
              "      <th>close</th>\n",
              "      <th>volume</th>\n",
              "      <th>name</th>\n",
              "    </tr>\n",
              "    <tr>\n",
              "      <th>Date</th>\n",
              "      <th></th>\n",
              "      <th></th>\n",
              "      <th></th>\n",
              "      <th></th>\n",
              "      <th></th>\n",
              "      <th></th>\n",
              "    </tr>\n",
              "  </thead>\n",
              "  <tbody>\n",
              "    <tr>\n",
              "      <th>2020-04-07</th>\n",
              "      <td>43.50</td>\n",
              "      <td>45.00</td>\n",
              "      <td>43.50</td>\n",
              "      <td>44.10</td>\n",
              "      <td>18373</td>\n",
              "      <td>NLCINDIA.BO</td>\n",
              "    </tr>\n",
              "    <tr>\n",
              "      <th>2020-04-03</th>\n",
              "      <td>43.60</td>\n",
              "      <td>44.05</td>\n",
              "      <td>42.80</td>\n",
              "      <td>43.60</td>\n",
              "      <td>20121</td>\n",
              "      <td>NLCINDIA.BO</td>\n",
              "    </tr>\n",
              "    <tr>\n",
              "      <th>2020-04-01</th>\n",
              "      <td>43.60</td>\n",
              "      <td>44.70</td>\n",
              "      <td>43.05</td>\n",
              "      <td>43.20</td>\n",
              "      <td>21470</td>\n",
              "      <td>NLCINDIA.BO</td>\n",
              "    </tr>\n",
              "    <tr>\n",
              "      <th>2020-03-31</th>\n",
              "      <td>43.15</td>\n",
              "      <td>44.40</td>\n",
              "      <td>43.15</td>\n",
              "      <td>44.00</td>\n",
              "      <td>23853</td>\n",
              "      <td>NLCINDIA.BO</td>\n",
              "    </tr>\n",
              "    <tr>\n",
              "      <th>2020-03-30</th>\n",
              "      <td>41.55</td>\n",
              "      <td>43.50</td>\n",
              "      <td>40.45</td>\n",
              "      <td>43.15</td>\n",
              "      <td>53378</td>\n",
              "      <td>NLCINDIA.BO</td>\n",
              "    </tr>\n",
              "    <tr>\n",
              "      <th>...</th>\n",
              "      <td>...</td>\n",
              "      <td>...</td>\n",
              "      <td>...</td>\n",
              "      <td>...</td>\n",
              "      <td>...</td>\n",
              "      <td>...</td>\n",
              "    </tr>\n",
              "    <tr>\n",
              "      <th>2019-11-19</th>\n",
              "      <td>53.35</td>\n",
              "      <td>54.00</td>\n",
              "      <td>53.10</td>\n",
              "      <td>53.40</td>\n",
              "      <td>31837</td>\n",
              "      <td>NLCINDIA.BO</td>\n",
              "    </tr>\n",
              "    <tr>\n",
              "      <th>2019-11-18</th>\n",
              "      <td>54.75</td>\n",
              "      <td>54.75</td>\n",
              "      <td>52.75</td>\n",
              "      <td>53.55</td>\n",
              "      <td>111380</td>\n",
              "      <td>NLCINDIA.BO</td>\n",
              "    </tr>\n",
              "    <tr>\n",
              "      <th>2019-11-15</th>\n",
              "      <td>54.50</td>\n",
              "      <td>54.75</td>\n",
              "      <td>54.20</td>\n",
              "      <td>54.25</td>\n",
              "      <td>16764</td>\n",
              "      <td>NLCINDIA.BO</td>\n",
              "    </tr>\n",
              "    <tr>\n",
              "      <th>2019-11-14</th>\n",
              "      <td>54.40</td>\n",
              "      <td>55.25</td>\n",
              "      <td>54.00</td>\n",
              "      <td>54.35</td>\n",
              "      <td>11544</td>\n",
              "      <td>NLCINDIA.BO</td>\n",
              "    </tr>\n",
              "    <tr>\n",
              "      <th>2019-11-13</th>\n",
              "      <td>55.75</td>\n",
              "      <td>56.00</td>\n",
              "      <td>54.15</td>\n",
              "      <td>54.30</td>\n",
              "      <td>24929</td>\n",
              "      <td>NLCINDIA.BO</td>\n",
              "    </tr>\n",
              "  </tbody>\n",
              "</table>\n",
              "<p>100 rows × 6 columns</p>\n",
              "</div>"
            ],
            "text/plain": [
              "             open   high    low  close  volume         name\n",
              "Date                                                       \n",
              "2020-04-07  43.50  45.00  43.50  44.10   18373  NLCINDIA.BO\n",
              "2020-04-03  43.60  44.05  42.80  43.60   20121  NLCINDIA.BO\n",
              "2020-04-01  43.60  44.70  43.05  43.20   21470  NLCINDIA.BO\n",
              "2020-03-31  43.15  44.40  43.15  44.00   23853  NLCINDIA.BO\n",
              "2020-03-30  41.55  43.50  40.45  43.15   53378  NLCINDIA.BO\n",
              "...           ...    ...    ...    ...     ...          ...\n",
              "2019-11-19  53.35  54.00  53.10  53.40   31837  NLCINDIA.BO\n",
              "2019-11-18  54.75  54.75  52.75  53.55  111380  NLCINDIA.BO\n",
              "2019-11-15  54.50  54.75  54.20  54.25   16764  NLCINDIA.BO\n",
              "2019-11-14  54.40  55.25  54.00  54.35   11544  NLCINDIA.BO\n",
              "2019-11-13  55.75  56.00  54.15  54.30   24929  NLCINDIA.BO\n",
              "\n",
              "[100 rows x 6 columns]"
            ]
          },
          "metadata": {
            "tags": []
          },
          "execution_count": 60
        }
      ]
    },
    {
      "cell_type": "code",
      "metadata": {
        "colab_type": "code",
        "outputId": "438503b6-df91-4684-89b6-4c5fb3e80d0e",
        "id": "APcYovlUUY4s",
        "colab": {
          "base_uri": "https://localhost:8080/",
          "height": 270
        }
      },
      "source": [
        "from pyramid.arima import auto_arima\n",
        "stepwise_model = auto_arima(df['close'], start_p=1, start_q=1,\n",
        "                           max_p=3, max_q=3, m=12,\n",
        "                           start_P=0, seasonal=True,\n",
        "                           d=1, D=1, trace=True,\n",
        "                           error_action='ignore',  \n",
        "                           suppress_warnings=True)\n",
        "print(stepwise_model.aic())"
      ],
      "execution_count": 0,
      "outputs": [
        {
          "output_type": "stream",
          "text": [
            "Fit ARIMA: order=(1, 1, 1) seasonal_order=(0, 1, 1, 12); AIC=368.760, BIC=381.089, Fit time=0.734 seconds\n",
            "Fit ARIMA: order=(0, 1, 0) seasonal_order=(0, 1, 0, 12); AIC=397.641, BIC=402.573, Fit time=0.029 seconds\n",
            "Fit ARIMA: order=(1, 1, 0) seasonal_order=(1, 1, 0, 12); AIC=375.128, BIC=384.991, Fit time=0.271 seconds\n",
            "Fit ARIMA: order=(0, 1, 1) seasonal_order=(0, 1, 1, 12); AIC=367.012, BIC=376.876, Fit time=0.469 seconds\n",
            "Fit ARIMA: order=(0, 1, 1) seasonal_order=(1, 1, 1, 12); AIC=368.596, BIC=380.926, Fit time=0.554 seconds\n",
            "Fit ARIMA: order=(0, 1, 1) seasonal_order=(0, 1, 0, 12); AIC=397.475, BIC=404.873, Fit time=0.095 seconds\n",
            "Fit ARIMA: order=(0, 1, 1) seasonal_order=(0, 1, 2, 12); AIC=368.598, BIC=380.928, Fit time=1.040 seconds\n",
            "Fit ARIMA: order=(0, 1, 1) seasonal_order=(1, 1, 2, 12); AIC=370.593, BIC=385.389, Fit time=1.842 seconds\n",
            "Fit ARIMA: order=(0, 1, 0) seasonal_order=(0, 1, 1, 12); AIC=365.896, BIC=373.293, Fit time=0.311 seconds\n",
            "Fit ARIMA: order=(0, 1, 0) seasonal_order=(1, 1, 1, 12); AIC=367.403, BIC=377.267, Fit time=0.401 seconds\n",
            "Fit ARIMA: order=(0, 1, 0) seasonal_order=(0, 1, 2, 12); AIC=367.405, BIC=377.269, Fit time=0.732 seconds\n",
            "Fit ARIMA: order=(0, 1, 0) seasonal_order=(1, 1, 2, 12); AIC=369.400, BIC=381.729, Fit time=1.468 seconds\n",
            "Fit ARIMA: order=(1, 1, 0) seasonal_order=(0, 1, 1, 12); AIC=366.950, BIC=376.814, Fit time=0.336 seconds\n",
            "Total fit time: 8.290 seconds\n",
            "365.8956828050727\n"
          ],
          "name": "stdout"
        }
      ]
    },
    {
      "cell_type": "code",
      "metadata": {
        "id": "PDgRjg6SWP9j",
        "colab_type": "code",
        "outputId": "e65e9287-8902-475f-d4ff-3e34cd6f8206",
        "colab": {
          "base_uri": "https://localhost:8080/",
          "height": 51
        }
      },
      "source": [
        "stepwise_model_fit = stepwise_model.fit(df['close'])\n",
        "forecast = stepwise_model_fit.predict(n_periods=10)\n",
        "print(forecast)"
      ],
      "execution_count": 0,
      "outputs": [
        {
          "output_type": "stream",
          "text": [
            "[53.81548834 53.68219972 53.07891354 53.0884848  52.76373661 52.45743359\n",
            " 53.0216596  51.89791407 51.86603985 51.54325236]\n"
          ],
          "name": "stdout"
        }
      ]
    },
    {
      "cell_type": "code",
      "metadata": {
        "id": "NvDna1twUf85",
        "colab_type": "code",
        "outputId": "d1792c17-3423-4c23-c836-7d0be541f7ff",
        "colab": {
          "base_uri": "https://localhost:8080/",
          "height": 298
        }
      },
      "source": [
        "import matplotlib.pyplot as plt\n",
        "dates = []\n",
        "for i in range(7,17):\n",
        "  s = '2020-04-'\n",
        "  if(len(str(i))==1):\n",
        "    s = s + '0' + str(i)\n",
        "  else:\n",
        "    s = s + str(i)\n",
        "  dates.append(s)\n",
        "plt.plot(dates,forecast)\n",
        "plt.title('Forecasted plot of Closing price for next 10 days')"
      ],
      "execution_count": 0,
      "outputs": [
        {
          "output_type": "execute_result",
          "data": {
            "text/plain": [
              "Text(0.5, 1.0, 'Forecasted plot of Closing price for next 10 days')"
            ]
          },
          "metadata": {
            "tags": []
          },
          "execution_count": 63
        },
        {
          "output_type": "display_data",
          "data": {
            "image/png": "[encoded data removed]",
            "text/plain": [
              "<Figure size 432x288 with 1 Axes>"
            ]
          },
          "metadata": {
            "tags": []
          }
        }
      ]
    },
    {
      "cell_type": "code",
      "metadata": {
        "id": "zVitZS7r52D5",
        "colab_type": "code",
        "outputId": "b176519a-4fd3-4821-8274-1386ea7c1cec",
        "colab": {
          "base_uri": "https://localhost:8080/",
          "height": 713
        }
      },
      "source": [
        "pip install --ignore-installed --upgrade keras"
      ],
      "execution_count": 0,
      "outputs": [
        {
          "output_type": "stream",
          "text": [
            "Collecting keras\n",
            "\u001b[?25l  Downloading https://files.pythonhosted.org/packages/ad/fd/6bfe87920d7f4fd475acd28500a42482b6b84479832bdc0fe9e589a60ceb/Keras-2.3.1-py2.py3-none-any.whl (377kB)\n",
            "\u001b[K     |████████████████████████████████| 378kB 4.4MB/s \n",
            "\u001b[?25hCollecting h5py\n",
            "\u001b[?25l  Downloading https://files.pythonhosted.org/packages/60/06/cafdd44889200e5438b897388f3075b52a8ef01f28a17366d91de0fa2d05/h5py-2.10.0-cp36-cp36m-manylinux1_x86_64.whl (2.9MB)\n",
            "\u001b[K     |████████████████████████████████| 2.9MB 7.6MB/s \n",
            "\u001b[?25hCollecting scipy>=0.14\n",
            "\u001b[?25l  Downloading https://files.pythonhosted.org/packages/dc/29/162476fd44203116e7980cfbd9352eef9db37c49445d1fec35509022f6aa/scipy-1.4.1-cp36-cp36m-manylinux1_x86_64.whl (26.1MB)\n",
            "\u001b[K     |████████████████████████████████| 26.1MB 1.3MB/s \n",
            "\u001b[?25hCollecting keras-applications>=1.0.6\n",
            "\u001b[?25l  Downloading https://files.pythonhosted.org/packages/71/e3/19762fdfc62877ae9102edf6342d71b28fbfd9dea3d2f96a882ce099b03f/Keras_Applications-1.0.8-py3-none-any.whl (50kB)\n",
            "\u001b[K     |████████████████████████████████| 51kB 7.8MB/s \n",
            "\u001b[?25hCollecting numpy>=1.9.1\n",
            "\u001b[?25l  Downloading https://files.pythonhosted.org/packages/07/08/a549ba8b061005bb629b76adc000f3caaaf881028b963c2e18f811c6edc1/numpy-1.18.2-cp36-cp36m-manylinux1_x86_64.whl (20.2MB)\n",
            "\u001b[K     |████████████████████████████████| 20.2MB 142kB/s \n",
            "\u001b[?25hCollecting six>=1.9.0\n",
            "  Downloading https://files.pythonhosted.org/packages/65/eb/1f97cb97bfc2390a276969c6fae16075da282f5058082d4cb10c6c5c1dba/six-1.14.0-py2.py3-none-any.whl\n",
            "Collecting keras-preprocessing>=1.0.5\n",
            "\u001b[?25l  Downloading https://files.pythonhosted.org/packages/28/6a/8c1f62c37212d9fc441a7e26736df51ce6f0e38455816445471f10da4f0a/Keras_Preprocessing-1.1.0-py2.py3-none-any.whl (41kB)\n",
            "\u001b[K     |████████████████████████████████| 51kB 8.4MB/s \n",
            "\u001b[?25hCollecting pyyaml\n",
            "\u001b[?25l  Downloading https://files.pythonhosted.org/packages/64/c2/b80047c7ac2478f9501676c988a5411ed5572f35d1beff9cae07d321512c/PyYAML-5.3.1.tar.gz (269kB)\n",
            "\u001b[K     |████████████████████████████████| 276kB 46.8MB/s \n",
            "\u001b[?25hBuilding wheels for collected packages: pyyaml\n",
            "  Building wheel for pyyaml (setup.py) ... \u001b[?25l\u001b[?25hdone\n",
            "  Created wheel for pyyaml: filename=PyYAML-5.3.1-cp36-cp36m-linux_x86_64.whl size=44621 sha256=cbe46f14dc3c720f141e0ac46640185cd4306d50e756abf24e5bdd70efc3a44f\n",
            "  Stored in directory: /root/.cache/pip/wheels/a7/c1/ea/cf5bd31012e735dc1dfea3131a2d5eae7978b251083d6247bd\n",
            "Successfully built pyyaml\n",
            "\u001b[31mERROR: qtconsole 4.7.2 has requirement pyzmq>=17.1, but you'll have pyzmq 17.0.0 which is incompatible.\u001b[0m\n",
            "\u001b[31mERROR: google-colab 1.0.0 has requirement six~=1.12.0, but you'll have six 1.14.0 which is incompatible.\u001b[0m\n",
            "\u001b[31mERROR: datascience 0.10.6 has requirement folium==0.2.1, but you'll have folium 0.8.3 which is incompatible.\u001b[0m\n",
            "\u001b[31mERROR: albumentations 0.1.12 has requirement imgaug<0.2.7,>=0.2.5, but you'll have imgaug 0.2.9 which is incompatible.\u001b[0m\n",
            "Installing collected packages: numpy, six, h5py, scipy, keras-applications, keras-preprocessing, pyyaml, keras\n",
            "Successfully installed h5py-2.10.0 keras-2.3.1 keras-applications-1.0.8 keras-preprocessing-1.1.0 numpy-1.18.2 pyyaml-5.3.1 scipy-1.4.1 six-1.14.0\n"
          ],
          "name": "stdout"
        },
        {
          "output_type": "display_data",
          "data": {
            "application/vnd.colab-display-data+json": {
              "pip_warning": {
                "packages": [
                  "h5py",
                  "keras",
                  "keras_applications",
                  "keras_preprocessing",
                  "numpy",
                  "scipy",
                  "six",
                  "yaml"
                ]
              }
            }
          },
          "metadata": {
            "tags": []
          }
        }
      ]
    },
    {
      "cell_type": "code",
      "metadata": {
        "id": "Qp-WVLAXXEDx",
        "colab_type": "code",
        "outputId": "7738e3cc-5fac-4b4a-bd6c-40360645b767",
        "colab": {
          "base_uri": "https://localhost:8080/",
          "height": 89
        }
      },
      "source": [
        "\n",
        "#Import the libraries\n",
        "import math\n",
        "import pandas_datareader as web\n",
        "import numpy as np\n",
        "import pandas as pd\n",
        "from sklearn.preprocessing import MinMaxScaler\n",
        "from keras.models import Sequential\n",
        "from keras.layers import Dense, LSTM\n",
        "import matplotlib.pyplot as plt\n",
        "\n"
      ],
      "execution_count": 0,
      "outputs": [
        {
          "output_type": "stream",
          "text": [
            "/usr/local/lib/python3.6/dist-packages/pandas_datareader/compat/__init__.py:7: FutureWarning: pandas.util.testing is deprecated. Use the functions in the public API at pandas.testing instead.\n",
            "  from pandas.util.testing import assert_frame_equal\n",
            "Using TensorFlow backend.\n"
          ],
          "name": "stderr"
        }
      ]
    },
    {
      "cell_type": "code",
      "metadata": {
        "id": "gFzThUaslRt9",
        "colab_type": "code",
        "colab": {}
      },
      "source": [
        "df = web.DataReader('NLCINDIA.BO', data_source='yahoo', start='2013-01-01', end='2020-04-04')\n"
      ],
      "execution_count": 0,
      "outputs": []
    },
    {
      "cell_type": "code",
      "metadata": {
        "id": "4oYUV_eGjrQA",
        "colab_type": "code",
        "outputId": "77573ab2-406c-4208-e795-3d549fbba10a",
        "colab": {
          "base_uri": "https://localhost:8080/",
          "height": 446
        }
      },
      "source": [
        "df"
      ],
      "execution_count": 0,
      "outputs": [
        {
          "output_type": "execute_result",
          "data": {
            "text/html": [
              "<div>\n",
              "<style scoped>\n",
              "    .dataframe tbody tr th:only-of-type {\n",
              "        vertical-align: middle;\n",
              "    }\n",
              "\n",
              "    .dataframe tbody tr th {\n",
              "        vertical-align: top;\n",
              "    }\n",
              "\n",
              "    .dataframe thead th {\n",
              "        text-align: right;\n",
              "    }\n",
              "</style>\n",
              "<table border=\"1\" class=\"dataframe\">\n",
              "  <thead>\n",
              "    <tr style=\"text-align: right;\">\n",
              "      <th></th>\n",
              "      <th>High</th>\n",
              "      <th>Low</th>\n",
              "      <th>Open</th>\n",
              "      <th>Close</th>\n",
              "      <th>Volume</th>\n",
              "      <th>Adj Close</th>\n",
              "    </tr>\n",
              "    <tr>\n",
              "      <th>Date</th>\n",
              "      <th></th>\n",
              "      <th></th>\n",
              "      <th></th>\n",
              "      <th></th>\n",
              "      <th></th>\n",
              "      <th></th>\n",
              "    </tr>\n",
              "  </thead>\n",
              "  <tbody>\n",
              "    <tr>\n",
              "      <th>2013-01-01</th>\n",
              "      <td>81.650002</td>\n",
              "      <td>80.599998</td>\n",
              "      <td>81.099998</td>\n",
              "      <td>81.250000</td>\n",
              "      <td>5914.0</td>\n",
              "      <td>51.378613</td>\n",
              "    </tr>\n",
              "    <tr>\n",
              "      <th>2013-01-02</th>\n",
              "      <td>82.000000</td>\n",
              "      <td>79.599998</td>\n",
              "      <td>81.650002</td>\n",
              "      <td>80.199997</td>\n",
              "      <td>40535.0</td>\n",
              "      <td>50.714642</td>\n",
              "    </tr>\n",
              "    <tr>\n",
              "      <th>2013-01-03</th>\n",
              "      <td>82.449997</td>\n",
              "      <td>80.400002</td>\n",
              "      <td>80.699997</td>\n",
              "      <td>81.849998</td>\n",
              "      <td>21731.0</td>\n",
              "      <td>51.758022</td>\n",
              "    </tr>\n",
              "    <tr>\n",
              "      <th>2013-01-04</th>\n",
              "      <td>83.650002</td>\n",
              "      <td>81.099998</td>\n",
              "      <td>81.599998</td>\n",
              "      <td>83.250000</td>\n",
              "      <td>38319.0</td>\n",
              "      <td>52.643322</td>\n",
              "    </tr>\n",
              "    <tr>\n",
              "      <th>2013-01-07</th>\n",
              "      <td>87.500000</td>\n",
              "      <td>83.300003</td>\n",
              "      <td>83.300003</td>\n",
              "      <td>85.800003</td>\n",
              "      <td>149125.0</td>\n",
              "      <td>54.255810</td>\n",
              "    </tr>\n",
              "    <tr>\n",
              "      <th>...</th>\n",
              "      <td>...</td>\n",
              "      <td>...</td>\n",
              "      <td>...</td>\n",
              "      <td>...</td>\n",
              "      <td>...</td>\n",
              "      <td>...</td>\n",
              "    </tr>\n",
              "    <tr>\n",
              "      <th>2020-03-27</th>\n",
              "      <td>42.400002</td>\n",
              "      <td>40.700001</td>\n",
              "      <td>41.099998</td>\n",
              "      <td>41.900002</td>\n",
              "      <td>62162.0</td>\n",
              "      <td>41.900002</td>\n",
              "    </tr>\n",
              "    <tr>\n",
              "      <th>2020-03-30</th>\n",
              "      <td>43.500000</td>\n",
              "      <td>40.450001</td>\n",
              "      <td>41.549999</td>\n",
              "      <td>43.150002</td>\n",
              "      <td>53378.0</td>\n",
              "      <td>43.150002</td>\n",
              "    </tr>\n",
              "    <tr>\n",
              "      <th>2020-03-31</th>\n",
              "      <td>44.400002</td>\n",
              "      <td>43.150002</td>\n",
              "      <td>43.150002</td>\n",
              "      <td>44.000000</td>\n",
              "      <td>23853.0</td>\n",
              "      <td>44.000000</td>\n",
              "    </tr>\n",
              "    <tr>\n",
              "      <th>2020-04-01</th>\n",
              "      <td>44.700001</td>\n",
              "      <td>43.049999</td>\n",
              "      <td>43.599998</td>\n",
              "      <td>43.200001</td>\n",
              "      <td>21470.0</td>\n",
              "      <td>43.200001</td>\n",
              "    </tr>\n",
              "    <tr>\n",
              "      <th>2020-04-03</th>\n",
              "      <td>44.049999</td>\n",
              "      <td>42.799999</td>\n",
              "      <td>43.599998</td>\n",
              "      <td>43.599998</td>\n",
              "      <td>20121.0</td>\n",
              "      <td>43.599998</td>\n",
              "    </tr>\n",
              "  </tbody>\n",
              "</table>\n",
              "<p>1785 rows × 6 columns</p>\n",
              "</div>"
            ],
            "text/plain": [
              "                 High        Low       Open      Close    Volume  Adj Close\n",
              "Date                                                                       \n",
              "2013-01-01  81.650002  80.599998  81.099998  81.250000    5914.0  51.378613\n",
              "2013-01-02  82.000000  79.599998  81.650002  80.199997   40535.0  50.714642\n",
              "2013-01-03  82.449997  80.400002  80.699997  81.849998   21731.0  51.758022\n",
              "2013-01-04  83.650002  81.099998  81.599998  83.250000   38319.0  52.643322\n",
              "2013-01-07  87.500000  83.300003  83.300003  85.800003  149125.0  54.255810\n",
              "...               ...        ...        ...        ...       ...        ...\n",
              "2020-03-27  42.400002  40.700001  41.099998  41.900002   62162.0  41.900002\n",
              "2020-03-30  43.500000  40.450001  41.549999  43.150002   53378.0  43.150002\n",
              "2020-03-31  44.400002  43.150002  43.150002  44.000000   23853.0  44.000000\n",
              "2020-04-01  44.700001  43.049999  43.599998  43.200001   21470.0  43.200001\n",
              "2020-04-03  44.049999  42.799999  43.599998  43.599998   20121.0  43.599998\n",
              "\n",
              "[1785 rows x 6 columns]"
            ]
          },
          "metadata": {
            "tags": []
          },
          "execution_count": 3
        }
      ]
    },
    {
      "cell_type": "code",
      "metadata": {
        "id": "juv1xTESdw0P",
        "colab_type": "code",
        "outputId": "b4362c79-9468-4f8a-8a0b-66c92dffd147",
        "colab": {
          "base_uri": "https://localhost:8080/",
          "height": 469
        }
      },
      "source": [
        "plt.figure(figsize=(16,8))\n",
        "plt.title('Close Price History')\n",
        "plt.plot(df['Close'])\n",
        "plt.xlabel('Date', fontsize=18)\n",
        "plt.ylabel('Close Price USD ($)', fontsize=18)\n",
        "plt.show()"
      ],
      "execution_count": 0,
      "outputs": [
        {
          "output_type": "display_data",
          "data": {
            "image/png": "[encoded data removed]",
            "text/plain": [
              "<Figure size 1152x576 with 1 Axes>"
            ]
          },
          "metadata": {
            "tags": []
          }
        }
      ]
    },
    {
      "cell_type": "code",
      "metadata": {
        "id": "hh-MvRUYeCXi",
        "colab_type": "code",
        "outputId": "fdc63d09-10f3-4204-c328-85cdf96506f5",
        "colab": {
          "base_uri": "https://localhost:8080/",
          "height": 35
        }
      },
      "source": [
        "data = df.filter(['Close'])\n",
        "\n",
        "dataset = data.values\n",
        "\n",
        "training_data_len = math.ceil( len(dataset) * .8 )\n",
        "\n",
        "training_data_len"
      ],
      "execution_count": 0,
      "outputs": [
        {
          "output_type": "execute_result",
          "data": {
            "text/plain": [
              "1428"
            ]
          },
          "metadata": {
            "tags": []
          },
          "execution_count": 5
        }
      ]
    },
    {
      "cell_type": "code",
      "metadata": {
        "id": "4YtylW6LeVII",
        "colab_type": "code",
        "outputId": "1cfb3ba7-e6b6-408b-be19-b92e0dc8a6c0",
        "colab": {
          "base_uri": "https://localhost:8080/",
          "height": 139
        }
      },
      "source": [
        "scaler = MinMaxScaler(feature_range=(0,1))\n",
        "scaled_data = scaler.fit_transform(dataset)\n",
        "\n",
        "scaled_data"
      ],
      "execution_count": 0,
      "outputs": [
        {
          "output_type": "execute_result",
          "data": {
            "text/plain": [
              "array([[0.51606921],\n",
              "       [0.50309019],\n",
              "       [0.52348576],\n",
              "       ...,\n",
              "       [0.05562423],\n",
              "       [0.04573548],\n",
              "       [0.05067983]])"
            ]
          },
          "metadata": {
            "tags": []
          },
          "execution_count": 6
        }
      ]
    },
    {
      "cell_type": "code",
      "metadata": {
        "id": "Dtcv-hheeYPf",
        "colab_type": "code",
        "outputId": "e7bafc62-df89-4c25-c2a3-40adae3e0751",
        "colab": {
          "base_uri": "https://localhost:8080/",
          "height": 713
        }
      },
      "source": [
        "train_data = scaled_data[0:training_data_len , :]\n",
        "#Split the data into x_train and y_train data sets\n",
        "x_train = []\n",
        "y_train = []\n",
        "\n",
        "for i in range(60, len(train_data)):\n",
        "  x_train.append(train_data[i-60:i, 0])\n",
        "  y_train.append(train_data[i, 0])\n",
        "  if i<= 61:\n",
        "    print(x_train)\n",
        "    print(y_train)\n",
        "    print()"
      ],
      "execution_count": 0,
      "outputs": [
        {
          "output_type": "stream",
          "text": [
            "[array([0.51606921, 0.50309019, 0.52348576, 0.54079109, 0.57231152,\n",
            "       0.55624226, 0.55624226, 0.55191595, 0.52966623, 0.56242273,\n",
            "       0.55129787, 0.52472183, 0.53213847, 0.53461062, 0.58220022,\n",
            "       0.56118666, 0.55315203, 0.5358467 , 0.54017301, 0.54882572,\n",
            "       0.54758964, 0.54202716, 0.54697156, 0.55191595, 0.54264525,\n",
            "       0.53213847, 0.525958  , 0.5216316 , 0.51050683, 0.51359706,\n",
            "       0.50927066, 0.5166873 , 0.49381948, 0.46662545, 0.48084055,\n",
            "       0.48022247, 0.48640294, 0.47342401, 0.47342401, 0.48145854,\n",
            "       0.44128549, 0.39616814, 0.40358468, 0.40420267, 0.3794808 ,\n",
            "       0.3745365 , 0.38195304, 0.37824472, 0.43695918, 0.40976515,\n",
            "       0.39987636, 0.3980222 , 0.39925837, 0.37824472, 0.3745365 ,\n",
            "       0.35105069, 0.33868975, 0.3220025 , 0.31396787, 0.32138442])]\n",
            "[0.3238565692716475]\n",
            "\n",
            "[array([0.51606921, 0.50309019, 0.52348576, 0.54079109, 0.57231152,\n",
            "       0.55624226, 0.55624226, 0.55191595, 0.52966623, 0.56242273,\n",
            "       0.55129787, 0.52472183, 0.53213847, 0.53461062, 0.58220022,\n",
            "       0.56118666, 0.55315203, 0.5358467 , 0.54017301, 0.54882572,\n",
            "       0.54758964, 0.54202716, 0.54697156, 0.55191595, 0.54264525,\n",
            "       0.53213847, 0.525958  , 0.5216316 , 0.51050683, 0.51359706,\n",
            "       0.50927066, 0.5166873 , 0.49381948, 0.46662545, 0.48084055,\n",
            "       0.48022247, 0.48640294, 0.47342401, 0.47342401, 0.48145854,\n",
            "       0.44128549, 0.39616814, 0.40358468, 0.40420267, 0.3794808 ,\n",
            "       0.3745365 , 0.38195304, 0.37824472, 0.43695918, 0.40976515,\n",
            "       0.39987636, 0.3980222 , 0.39925837, 0.37824472, 0.3745365 ,\n",
            "       0.35105069, 0.33868975, 0.3220025 , 0.31396787, 0.32138442]), array([0.50309019, 0.52348576, 0.54079109, 0.57231152, 0.55624226,\n",
            "       0.55624226, 0.55191595, 0.52966623, 0.56242273, 0.55129787,\n",
            "       0.52472183, 0.53213847, 0.53461062, 0.58220022, 0.56118666,\n",
            "       0.55315203, 0.5358467 , 0.54017301, 0.54882572, 0.54758964,\n",
            "       0.54202716, 0.54697156, 0.55191595, 0.54264525, 0.53213847,\n",
            "       0.525958  , 0.5216316 , 0.51050683, 0.51359706, 0.50927066,\n",
            "       0.5166873 , 0.49381948, 0.46662545, 0.48084055, 0.48022247,\n",
            "       0.48640294, 0.47342401, 0.47342401, 0.48145854, 0.44128549,\n",
            "       0.39616814, 0.40358468, 0.40420267, 0.3794808 , 0.3745365 ,\n",
            "       0.38195304, 0.37824472, 0.43695918, 0.40976515, 0.39987636,\n",
            "       0.3980222 , 0.39925837, 0.37824472, 0.3745365 , 0.35105069,\n",
            "       0.33868975, 0.3220025 , 0.31396787, 0.32138442, 0.32385657])]\n",
            "[0.3238565692716475, 0.3263288136951873]\n",
            "\n"
          ],
          "name": "stdout"
        }
      ]
    },
    {
      "cell_type": "code",
      "metadata": {
        "id": "w-DmS0C6g0gH",
        "colab_type": "code",
        "colab": {}
      },
      "source": [
        "x_train, y_train = np.array(x_train), np.array(y_train)"
      ],
      "execution_count": 0,
      "outputs": []
    },
    {
      "cell_type": "code",
      "metadata": {
        "id": "gFosR-k0g8cg",
        "colab_type": "code",
        "outputId": "a2632278-1e28-4b68-d357-b6a9e5da29bb",
        "colab": {
          "base_uri": "https://localhost:8080/",
          "height": 35
        }
      },
      "source": [
        "x_train = np.reshape(x_train, (x_train.shape[0], x_train.shape[1], 1))\n",
        "x_train.shape"
      ],
      "execution_count": 0,
      "outputs": [
        {
          "output_type": "execute_result",
          "data": {
            "text/plain": [
              "(1368, 60, 1)"
            ]
          },
          "metadata": {
            "tags": []
          },
          "execution_count": 9
        }
      ]
    },
    {
      "cell_type": "code",
      "metadata": {
        "id": "8zm1dchMl-QO",
        "colab_type": "code",
        "colab": {}
      },
      "source": [
        "\n",
        "#Build the LSTM model\n",
        "model = Sequential()\n",
        "model.add(LSTM(50, return_sequences=True, input_shape= (x_train.shape[1], 1)))\n",
        "model.add(LSTM(50, return_sequences= False))\n",
        "model.add(Dense(25))\n",
        "model.add(Dense(1))\n",
        "model.compile(loss='mean_squared_error', optimizer='adam')\n"
      ],
      "execution_count": 0,
      "outputs": []
    },
    {
      "cell_type": "code",
      "metadata": {
        "id": "xJN56ouM6TAV",
        "colab_type": "code",
        "outputId": "75b29322-028a-4c12-deea-ff84a5987970",
        "colab": {
          "base_uri": "https://localhost:8080/",
          "height": 69
        }
      },
      "source": [
        "model.fit(x_train, y_train, batch_size=1, epochs=1)"
      ],
      "execution_count": 0,
      "outputs": [
        {
          "output_type": "stream",
          "text": [
            "Epoch 1/1\n",
            "1368/1368 [==============================] - 51s 37ms/step - loss: 0.0037\n"
          ],
          "name": "stdout"
        },
        {
          "output_type": "execute_result",
          "data": {
            "text/plain": [
              "<keras.callbacks.callbacks.History at 0x7f4c8e224518>"
            ]
          },
          "metadata": {
            "tags": []
          },
          "execution_count": 11
        }
      ]
    },
    {
      "cell_type": "code",
      "metadata": {
        "id": "H07kjTSL7Qi7",
        "colab_type": "code",
        "colab": {}
      },
      "source": [
        "test_data = scaled_data[training_data_len - 60: , :]\n",
        "#Create the data sets x_test and y_test\n",
        "x_test = []\n",
        "y_test = dataset[training_data_len:, :]\n",
        "for i in range(60, len(test_data)):\n",
        "  x_test.append(test_data[i-60:i, 0])"
      ],
      "execution_count": 0,
      "outputs": []
    },
    {
      "cell_type": "code",
      "metadata": {
        "id": "Sds2NLKf7Ych",
        "colab_type": "code",
        "outputId": "7473b120-52fd-4be3-b970-1adba1c95268",
        "colab": {
          "base_uri": "https://localhost:8080/",
          "height": 35
        }
      },
      "source": [
        "x_test = np.array(x_test)\n",
        "\n",
        "x_test = np.reshape(x_test, (x_test.shape[0], x_test.shape[1], 1 ))\n",
        "\n",
        "#Get the models predicted price values \n",
        "predictions = model.predict(x_test)\n",
        "predictions = scaler.inverse_transform(predictions)\n",
        "\n",
        "#Get the root mean squared error (RMSE)\n",
        "rmse=np.sqrt(np.mean(((predictions- y_test)**2)))\n",
        "rmse"
      ],
      "execution_count": 0,
      "outputs": [
        {
          "output_type": "execute_result",
          "data": {
            "text/plain": [
              "2.526270344362891"
            ]
          },
          "metadata": {
            "tags": []
          },
          "execution_count": 13
        }
      ]
    },
    {
      "cell_type": "code",
      "metadata": {
        "id": "RdiL_to676V3",
        "colab_type": "code",
        "outputId": "48157844-1f3b-4bc4-da89-e33711565df7",
        "colab": {
          "base_uri": "https://localhost:8080/",
          "height": 593
        }
      },
      "source": [
        "train = data[:training_data_len]\n",
        "valid = data[training_data_len:]\n",
        "valid['Predictions'] = predictions\n",
        "#Visualize the data\n",
        "plt.figure(figsize=(16,8))\n",
        "plt.title('Model')\n",
        "plt.xlabel('Date', fontsize=18)\n",
        "plt.ylabel('Close Price USD ($)', fontsize=18)\n",
        "plt.plot(train['Close'])\n",
        "plt.plot(valid[['Close', 'Predictions']])\n",
        "plt.legend(['Train', 'Val', 'Predictions'], loc='lower right')\n",
        "plt.show()"
      ],
      "execution_count": 0,
      "outputs": [
        {
          "output_type": "stream",
          "text": [
            "/usr/local/lib/python3.6/dist-packages/ipykernel_launcher.py:3: SettingWithCopyWarning: \n",
            "A value is trying to be set on a copy of a slice from a DataFrame.\n",
            "Try using .loc[row_indexer,col_indexer] = value instead\n",
            "\n",
            "See the caveats in the documentation: https://pandas.pydata.org/pandas-docs/stable/user_guide/indexing.html#returning-a-view-versus-a-copy\n",
            "  This is separate from the ipykernel package so we can avoid doing imports until\n"
          ],
          "name": "stderr"
        },
        {
          "output_type": "display_data",
          "data": {
            "image/png": "[encoded data removed]",
            "text/plain": [
              "<Figure size 1152x576 with 1 Axes>"
            ]
          },
          "metadata": {
            "tags": []
          }
        }
      ]
    },
    {
      "cell_type": "code",
      "metadata": {
        "id": "giJeUBTB7_sR",
        "colab_type": "code",
        "colab": {}
      },
      "source": [
        "valid"
      ],
      "execution_count": 0,
      "outputs": []
    },
    {
      "cell_type": "code",
      "metadata": {
        "id": "8d4cMWLp_ycy",
        "colab_type": "code",
        "outputId": "df43e46f-df23-4a09-efb5-5639b36afade",
        "colab": {
          "base_uri": "https://localhost:8080/",
          "height": 527
        }
      },
      "source": [
        "!pip install PyPortfolioOpt"
      ],
      "execution_count": 0,
      "outputs": [
        {
          "output_type": "stream",
          "text": [
            "Collecting PyPortfolioOpt\n",
            "\u001b[?25l  Downloading https://files.pythonhosted.org/packages/a3/0d/c38bd0f15bedec9c0cffa1aba21e25bb09f4e31078133216d87d6ed89dd7/PyPortfolioOpt-1.0.1-py3-none-any.whl (41kB)\n",
            "\r\u001b[K     |███████▉                        | 10kB 17.3MB/s eta 0:00:01\r\u001b[K     |███████████████▋                | 20kB 1.7MB/s eta 0:00:01\r\u001b[K     |███████████████████████▌        | 30kB 2.6MB/s eta 0:00:01\r\u001b[K     |███████████████████████████████▎| 40kB 1.7MB/s eta 0:00:01\r\u001b[K     |████████████████████████████████| 51kB 1.6MB/s \n",
            "\u001b[?25hRequirement already satisfied: cvxpy<2.0.0,>=1.0.28 in /usr/local/lib/python3.6/dist-packages (from PyPortfolioOpt) (1.0.29)\n",
            "Requirement already satisfied: scipy in /usr/local/lib/python3.6/dist-packages (from PyPortfolioOpt) (1.4.1)\n",
            "Collecting pandas<0.26.0,>=0.25.3\n",
            "\u001b[?25l  Downloading https://files.pythonhosted.org/packages/52/3f/f6a428599e0d4497e1595030965b5ba455fd8ade6e977e3c819973c4b41d/pandas-0.25.3-cp36-cp36m-manylinux1_x86_64.whl (10.4MB)\n",
            "\u001b[K     |████████████████████████████████| 10.4MB 8.0MB/s \n",
            "\u001b[?25hRequirement already satisfied: numpy in /usr/local/lib/python3.6/dist-packages (from PyPortfolioOpt) (1.18.2)\n",
            "Requirement already satisfied: osqp>=0.4.1 in /usr/local/lib/python3.6/dist-packages (from cvxpy<2.0.0,>=1.0.28->PyPortfolioOpt) (0.6.1)\n",
            "Requirement already satisfied: ecos>=2 in /usr/local/lib/python3.6/dist-packages (from cvxpy<2.0.0,>=1.0.28->PyPortfolioOpt) (2.0.7.post1)\n",
            "Requirement already satisfied: multiprocess in /usr/local/lib/python3.6/dist-packages (from cvxpy<2.0.0,>=1.0.28->PyPortfolioOpt) (0.70.9)\n",
            "Requirement already satisfied: scs>=1.1.3 in /usr/local/lib/python3.6/dist-packages (from cvxpy<2.0.0,>=1.0.28->PyPortfolioOpt) (2.1.2)\n",
            "Requirement already satisfied: pytz>=2017.2 in /usr/local/lib/python3.6/dist-packages (from pandas<0.26.0,>=0.25.3->PyPortfolioOpt) (2019.3)\n",
            "Requirement already satisfied: python-dateutil>=2.6.1 in /usr/local/lib/python3.6/dist-packages (from pandas<0.26.0,>=0.25.3->PyPortfolioOpt) (2.8.1)\n",
            "Requirement already satisfied: future in /usr/local/lib/python3.6/dist-packages (from osqp>=0.4.1->cvxpy<2.0.0,>=1.0.28->PyPortfolioOpt) (0.16.0)\n",
            "Requirement already satisfied: dill>=0.3.1 in /usr/local/lib/python3.6/dist-packages (from multiprocess->cvxpy<2.0.0,>=1.0.28->PyPortfolioOpt) (0.3.1.1)\n",
            "Requirement already satisfied: six>=1.5 in /usr/local/lib/python3.6/dist-packages (from python-dateutil>=2.6.1->pandas<0.26.0,>=0.25.3->PyPortfolioOpt) (1.12.0)\n",
            "\u001b[31mERROR: google-colab 1.0.0 has requirement pandas~=1.0.0; python_version >= \"3.0\", but you'll have pandas 0.25.3 which is incompatible.\u001b[0m\n",
            "Installing collected packages: pandas, PyPortfolioOpt\n",
            "  Found existing installation: pandas 1.0.3\n",
            "    Uninstalling pandas-1.0.3:\n",
            "      Successfully uninstalled pandas-1.0.3\n",
            "Successfully installed PyPortfolioOpt-1.0.1 pandas-0.25.3\n"
          ],
          "name": "stdout"
        },
        {
          "output_type": "display_data",
          "data": {
            "application/vnd.colab-display-data+json": {
              "pip_warning": {
                "packages": [
                  "pandas"
                ]
              }
            }
          },
          "metadata": {
            "tags": []
          }
        }
      ]
    },
    {
      "cell_type": "code",
      "metadata": {
        "id": "Z36uwHJD8C68",
        "colab_type": "code",
        "colab": {}
      },
      "source": [
        "from pypfopt.efficient_frontier import EfficientFrontier\n",
        "from pypfopt import risk_models\n",
        "from pypfopt import expected_returns\n",
        "from pypfopt.discrete_allocation import DiscreteAllocation, get_latest_prices\n"
      ],
      "execution_count": 0,
      "outputs": []
    },
    {
      "cell_type": "code",
      "metadata": {
        "id": "7otAAWRw_v1n",
        "colab_type": "code",
        "outputId": "6eaf087a-df3b-455f-f4fe-b56c004a25ca",
        "colab": {
          "base_uri": "https://localhost:8080/",
          "height": 405
        }
      },
      "source": [
        "mu = expected_returns.mean_historical_return(df['close'])        \n",
        "S = risk_models.sample_cov(df['close'])           \n",
        "ef = EfficientFrontier(mu, S)        \n",
        "raw_weights = ef.max_sharpe()        \n",
        "cleaned_weights = ef.clean_weights()        \n",
        "perf = ef.portfolio_performance(verbose=True)        \n",
        "ef.__dict__"
      ],
      "execution_count": 0,
      "outputs": [
        {
          "output_type": "stream",
          "text": [
            "Expected annual return: 67.3%\n",
            "Annual volatility: 54.8%\n",
            "Sharpe Ratio: 1.19\n"
          ],
          "name": "stdout"
        },
        {
          "output_type": "stream",
          "text": [
            "/usr/local/lib/python3.6/dist-packages/pypfopt/expected_returns.py:67: RuntimeWarning: prices are not in a dataframe\n",
            "  warnings.warn(\"prices are not in a dataframe\", RuntimeWarning)\n",
            "/usr/local/lib/python3.6/dist-packages/pypfopt/risk_models.py:61: RuntimeWarning: prices are not in a dataframe\n",
            "  warnings.warn(\"prices are not in a dataframe\", RuntimeWarning)\n"
          ],
          "name": "stderr"
        },
        {
          "output_type": "execute_result",
          "data": {
            "text/plain": [
              "{'_additional_constraints_raw': [],\n",
              " '_additional_objectives': [],\n",
              " '_constraints': [Equality(Expression(AFFINE, UNKNOWN, ()), Constant(CONSTANT, NONNEGATIVE, ())),\n",
              "  Equality(Expression(AFFINE, UNKNOWN, ()), Variable(())),\n",
              "  Inequality(Constant(CONSTANT, ZERO, ())),\n",
              "  Inequality(Expression(AFFINE, ZERO, (1,))),\n",
              "  Inequality(Variable((1,)))],\n",
              " '_lower_bounds': array([0]),\n",
              " '_objective': Expression(CONVEX, NONNEGATIVE, (1, 1)),\n",
              " '_upper_bounds': array([1]),\n",
              " '_w': Variable((1,)),\n",
              " 'cov_matrix': array([[0.29982626]]),\n",
              " 'expected_returns': array([0.67309985]),\n",
              " 'n_assets': 1,\n",
              " 'tickers': ['close'],\n",
              " 'weights': array([1.])}"
            ]
          },
          "metadata": {
            "tags": []
          },
          "execution_count": 58
        }
      ]
    }
  ]
}