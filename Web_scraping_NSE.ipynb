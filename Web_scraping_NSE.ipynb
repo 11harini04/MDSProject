{
  "nbformat": 4,
  "nbformat_minor": 0,
  "metadata": {
    "colab": {
      "name": "Web_scraping_NSE.ipynb",
      "provenance": [],
      "collapsed_sections": [],
      "toc_visible": true,
      "include_colab_link": true
    },
    "kernelspec": {
      "name": "python3",
      "display_name": "Python 3"
    }
  },
  "cells": [
    {
      "cell_type": "markdown",
      "metadata": {
        "id": "view-in-github",
        "colab_type": "text"
      },
      "source": [
        "<a href=\"https://colab.research.google.com/github/11harini04/MDSProject/blob/master/Web_scraping_NSE.ipynb\" target=\"_parent\"><img src=\"https://colab.research.google.com/assets/colab-badge.svg\" alt=\"Open In Colab\"/></a>"
      ]
    },
    {
      "cell_type": "code",
      "metadata": {
        "id": "nEIXIdJYr9-x",
        "colab_type": "code",
        "outputId": "db94effa-c55e-4c75-b026-5374762323f0",
        "colab": {
          "base_uri": "https://localhost:8080/",
          "height": 612
        }
      },
      "source": [
        "!pip install influxdb-client"
      ],
      "execution_count": 1,
      "outputs": [
        {
          "output_type": "stream",
          "text": [
            "Collecting influxdb-client\n",
            "\u001b[?25l  Downloading https://files.pythonhosted.org/packages/cb/bb/06f064277ba3e8e5a09fa627947d338b7d1663f68a7650fbe5ff9e4a9585/influxdb_client-1.5.0-py3-none-any.whl (484kB)\n",
            "\r\u001b[K     |▊                               | 10kB 17.6MB/s eta 0:00:01\r\u001b[K     |█▍                              | 20kB 1.7MB/s eta 0:00:01\r\u001b[K     |██                              | 30kB 2.1MB/s eta 0:00:01\r\u001b[K     |██▊                             | 40kB 1.7MB/s eta 0:00:01\r\u001b[K     |███▍                            | 51kB 1.8MB/s eta 0:00:01\r\u001b[K     |████                            | 61kB 2.2MB/s eta 0:00:01\r\u001b[K     |████▊                           | 71kB 2.4MB/s eta 0:00:01\r\u001b[K     |█████▍                          | 81kB 2.5MB/s eta 0:00:01\r\u001b[K     |██████                          | 92kB 2.8MB/s eta 0:00:01\r\u001b[K     |██████▊                         | 102kB 2.8MB/s eta 0:00:01\r\u001b[K     |███████▌                        | 112kB 2.8MB/s eta 0:00:01\r\u001b[K     |████████▏                       | 122kB 2.8MB/s eta 0:00:01\r\u001b[K     |████████▉                       | 133kB 2.8MB/s eta 0:00:01\r\u001b[K     |█████████▌                      | 143kB 2.8MB/s eta 0:00:01\r\u001b[K     |██████████▏                     | 153kB 2.8MB/s eta 0:00:01\r\u001b[K     |██████████▉                     | 163kB 2.8MB/s eta 0:00:01\r\u001b[K     |███████████▌                    | 174kB 2.8MB/s eta 0:00:01\r\u001b[K     |████████████▏                   | 184kB 2.8MB/s eta 0:00:01\r\u001b[K     |████████████▉                   | 194kB 2.8MB/s eta 0:00:01\r\u001b[K     |█████████████▌                  | 204kB 2.8MB/s eta 0:00:01\r\u001b[K     |██████████████▏                 | 215kB 2.8MB/s eta 0:00:01\r\u001b[K     |███████████████                 | 225kB 2.8MB/s eta 0:00:01\r\u001b[K     |███████████████▋                | 235kB 2.8MB/s eta 0:00:01\r\u001b[K     |████████████████▎               | 245kB 2.8MB/s eta 0:00:01\r\u001b[K     |█████████████████               | 256kB 2.8MB/s eta 0:00:01\r\u001b[K     |█████████████████▋              | 266kB 2.8MB/s eta 0:00:01\r\u001b[K     |██████████████████▎             | 276kB 2.8MB/s eta 0:00:01\r\u001b[K     |███████████████████             | 286kB 2.8MB/s eta 0:00:01\r\u001b[K     |███████████████████▋            | 296kB 2.8MB/s eta 0:00:01\r\u001b[K     |████████████████████▎           | 307kB 2.8MB/s eta 0:00:01\r\u001b[K     |█████████████████████           | 317kB 2.8MB/s eta 0:00:01\r\u001b[K     |█████████████████████▋          | 327kB 2.8MB/s eta 0:00:01\r\u001b[K     |██████████████████████▍         | 337kB 2.8MB/s eta 0:00:01\r\u001b[K     |███████████████████████         | 348kB 2.8MB/s eta 0:00:01\r\u001b[K     |███████████████████████▊        | 358kB 2.8MB/s eta 0:00:01\r\u001b[K     |████████████████████████▍       | 368kB 2.8MB/s eta 0:00:01\r\u001b[K     |█████████████████████████       | 378kB 2.8MB/s eta 0:00:01\r\u001b[K     |█████████████████████████▊      | 389kB 2.8MB/s eta 0:00:01\r\u001b[K     |██████████████████████████▍     | 399kB 2.8MB/s eta 0:00:01\r\u001b[K     |███████████████████████████     | 409kB 2.8MB/s eta 0:00:01\r\u001b[K     |███████████████████████████▊    | 419kB 2.8MB/s eta 0:00:01\r\u001b[K     |████████████████████████████▍   | 430kB 2.8MB/s eta 0:00:01\r\u001b[K     |█████████████████████████████   | 440kB 2.8MB/s eta 0:00:01\r\u001b[K     |█████████████████████████████▉  | 450kB 2.8MB/s eta 0:00:01\r\u001b[K     |██████████████████████████████▌ | 460kB 2.8MB/s eta 0:00:01\r\u001b[K     |███████████████████████████████▏| 471kB 2.8MB/s eta 0:00:01\r\u001b[K     |███████████████████████████████▉| 481kB 2.8MB/s eta 0:00:01\r\u001b[K     |████████████████████████████████| 491kB 2.8MB/s \n",
            "\u001b[?25hRequirement already satisfied: six>=1.10 in /usr/local/lib/python3.6/dist-packages (from influxdb-client) (1.12.0)\n",
            "Collecting ciso8601>=2.1.1\n",
            "  Downloading https://files.pythonhosted.org/packages/2c/da/626910cf8aca7ed2d5b34355eee8aeaaeb6ddd4e16f98d00a9e2ddad3a08/ciso8601-2.1.3.tar.gz\n",
            "Collecting rx>=3.0.1\n",
            "\u001b[?25l  Downloading https://files.pythonhosted.org/packages/28/0e/50160479e1afba49e2c860f8fbd022f115acd2c64da9b6460c949adb0b01/Rx-3.1.0.tar.gz (103kB)\n",
            "\u001b[K     |████████████████████████████████| 112kB 13.9MB/s \n",
            "\u001b[?25hRequirement already satisfied: python-dateutil>=2.5.3 in /usr/local/lib/python3.6/dist-packages (from influxdb-client) (2.8.1)\n",
            "Requirement already satisfied: setuptools>=21.0.0 in /usr/local/lib/python3.6/dist-packages (from influxdb-client) (46.1.3)\n",
            "Collecting pytz>=2019.1\n",
            "\u001b[?25l  Downloading https://files.pythonhosted.org/packages/e7/f9/f0b53f88060247251bf481fa6ea62cd0d25bf1b11a87888e53ce5b7c8ad2/pytz-2019.3-py2.py3-none-any.whl (509kB)\n",
            "\u001b[K     |████████████████████████████████| 512kB 10.6MB/s \n",
            "\u001b[?25hRequirement already satisfied: urllib3>=1.15.1 in /usr/local/lib/python3.6/dist-packages (from influxdb-client) (1.24.3)\n",
            "Requirement already satisfied: certifi>=14.05.14 in /usr/local/lib/python3.6/dist-packages (from influxdb-client) (2019.11.28)\n",
            "Building wheels for collected packages: ciso8601, rx\n",
            "  Building wheel for ciso8601 (setup.py) ... \u001b[?25l\u001b[?25hdone\n",
            "  Created wheel for ciso8601: filename=ciso8601-2.1.3-cp36-cp36m-linux_x86_64.whl size=28306 sha256=04fc14966e63a588e450c81de4b863d426a61cf030e44a460ff6ccd2001c01ed\n",
            "  Stored in directory: /root/.cache/pip/wheels/eb/32/e4/13bdaf7e245f82667b21e0cfb03d21224691a47fa9f9bc80a6\n",
            "  Building wheel for rx (setup.py) ... \u001b[?25l\u001b[?25hdone\n",
            "  Created wheel for rx: filename=Rx-3.1.0-cp36-none-any.whl size=195489 sha256=668dc688530d02a350528fa94f7169a9c63a1329099fe7f86fbb3889c7bad770\n",
            "  Stored in directory: /root/.cache/pip/wheels/88/84/32/3daff4afe52d5372cf3691233c2f29f8b498b034f4ef994d0a\n",
            "Successfully built ciso8601 rx\n",
            "Installing collected packages: ciso8601, rx, pytz, influxdb-client\n",
            "  Found existing installation: pytz 2018.9\n",
            "    Uninstalling pytz-2018.9:\n",
            "      Successfully uninstalled pytz-2018.9\n",
            "Successfully installed ciso8601-2.1.3 influxdb-client-1.5.0 pytz-2019.3 rx-3.1.0\n"
          ],
          "name": "stdout"
        },
        {
          "output_type": "display_data",
          "data": {
            "application/vnd.colab-display-data+json": {
              "pip_warning": {
                "packages": [
                  "pytz"
                ]
              }
            }
          },
          "metadata": {
            "tags": []
          }
        }
      ]
    },
    {
      "cell_type": "code",
      "metadata": {
        "id": "TRqTmancXaJ_",
        "colab_type": "code",
        "colab": {}
      },
      "source": [
        "import influxdb_client\n",
        "from influxdb_client.client.write_api import SYNCHRONOUS\n",
        "from influxdb_client import InfluxDBClient\n",
        "\n",
        "#InfluxDB bucket and token for using InfluxDBClient\n",
        "bucket = \"Stocks\"\n",
        "org = \"11harini04@gmail.com\"\n",
        "token = \"A11NbY2ifqR8sQGdC8KUtXsmd-5gvFk8ruvlBzdyyFfDmb7bBRVzhoDf2_dOq5WL9J5EQBQpp2oL2vdGRCR8Uw==\"\n",
        "client = InfluxDBClient(url=\"https://us-west-2-1.aws.cloud2.influxdata.com\",token=token)"
      ],
      "execution_count": 0,
      "outputs": []
    },
    {
      "cell_type": "code",
      "metadata": {
        "id": "3BrdIB5O1aeD",
        "colab_type": "code",
        "colab": {}
      },
      "source": [
        "import requests\n",
        "import pandas as pd\n",
        "from datetime import datetime\n",
        "from bokeh.plotting import figure, show, output_file\n",
        "from influxdb_client import Point\n",
        "\n",
        "#API key to extract data from Yahoo Finance\n",
        "API_KEY = 'GIJPOQVYSQTTJ319'\n",
        "\n",
        "#Stock of Neyveli India Limited company\n",
        "stock_name = 'NLCINDIA.BO'\n",
        "\n",
        "#Scraping data from YahooFinance\n",
        "r = requests.get('https://www.alphavantage.co/query?function=TIME_SERIES_DAILY&symbol=' + stock_name + '&apikey=' + API_KEY)\n",
        "result = r.json()\n",
        "dataForAllDays = result['Time Series (Daily)']\n",
        "\n",
        "#convert to dataframe\n",
        "df = pd.DataFrame.from_dict(dataForAllDays, orient='index') \n",
        "\n",
        "#rename columns\n",
        "df = df.rename(index=str, columns={\"index\":\"name\", \"1. open\": \"open\", \"2. high\": \"high\", \"3. low\": \"low\", \"4. close\": \"close\",\"5. volume\":\"volume\"})\n",
        "\n",
        "#Changing the datatype \n",
        "df.open = df.open.astype(float)\n",
        "df.close = df.close.astype(float)\n",
        "df.high = df.high.astype(float)\n",
        "df.low = df.low.astype(float)\n",
        "df.volume = df.volume.astype(int)\n",
        "name = [stock_name]*len(df)  \n",
        "df['name'] = name\n",
        "kind = 'Stock'\n",
        "\n",
        "#Inserting into InfluxDB using InfluxdbClient\n",
        "date = []\n",
        "for ind in df.index:\n",
        "  datetime_object = datetime.strptime(ind,'%Y-%m-%d')\n",
        "  date.append(datetime_object)\n",
        "  point = Point(kind).tag(\"name\",df['name'][ind]).field(\"open\",df['open'][ind]).field(\"close\",df['close'][ind]).field(\"high\",df['high'][ind]).field(\"low\",df['low'][ind]).time(time = datetime_object)\n",
        "  write_api = client.write_api(write_options = SYNCHRONOUS)\n",
        "  write_api.write(bucket = bucket, org = org, record = point)\n",
        "df['Date'] = date\n",
        "df.set_index(\"Date\", inplace = True) "
      ],
      "execution_count": 0,
      "outputs": []
    },
    {
      "cell_type": "code",
      "metadata": {
        "id": "y6uo1X61Uv_r",
        "colab_type": "code",
        "colab": {}
      },
      "source": [
        "#Querying from InfluxDB and storing the results in Dataframe\n",
        "df = pd.DataFrame()\n",
        "query = 'from(bucket: \"Stocks\") |> range(start: 2019-11-13, stop:2020-04-12)'\n",
        "tables = client.query_api().query(query, org=org)\n",
        "for table in tables:\n",
        "  field_value = []\n",
        "  for row in table.records:\n",
        "    field_name = row.get_field()\n",
        "    field_value.append(row.get_value())\n",
        "  df[field_name] = field_value\n",
        "df['Date'] = date\n",
        "df.set_index(\"Date\", inplace = True) "
      ],
      "execution_count": 0,
      "outputs": []
    },
    {
      "cell_type": "code",
      "metadata": {
        "id": "4B7hF7GX776_",
        "colab_type": "code",
        "outputId": "8cd71dbe-46c7-4991-f6c2-87d94310ee88",
        "colab": {
          "base_uri": "https://localhost:8080/",
          "height": 446
        }
      },
      "source": [
        "df"
      ],
      "execution_count": 32,
      "outputs": [
        {
          "output_type": "execute_result",
          "data": {
            "text/html": [
              "<div>\n",
              "<style scoped>\n",
              "    .dataframe tbody tr th:only-of-type {\n",
              "        vertical-align: middle;\n",
              "    }\n",
              "\n",
              "    .dataframe tbody tr th {\n",
              "        vertical-align: top;\n",
              "    }\n",
              "\n",
              "    .dataframe thead th {\n",
              "        text-align: right;\n",
              "    }\n",
              "</style>\n",
              "<table border=\"1\" class=\"dataframe\">\n",
              "  <thead>\n",
              "    <tr style=\"text-align: right;\">\n",
              "      <th></th>\n",
              "      <th>low</th>\n",
              "      <th>high</th>\n",
              "      <th>open</th>\n",
              "      <th>close</th>\n",
              "    </tr>\n",
              "    <tr>\n",
              "      <th>Date</th>\n",
              "      <th></th>\n",
              "      <th></th>\n",
              "      <th></th>\n",
              "      <th></th>\n",
              "    </tr>\n",
              "  </thead>\n",
              "  <tbody>\n",
              "    <tr>\n",
              "      <th>2020-04-08</th>\n",
              "      <td>54.00</td>\n",
              "      <td>55.25</td>\n",
              "      <td>54.40</td>\n",
              "      <td>54.35</td>\n",
              "    </tr>\n",
              "    <tr>\n",
              "      <th>2020-04-07</th>\n",
              "      <td>54.20</td>\n",
              "      <td>54.75</td>\n",
              "      <td>54.50</td>\n",
              "      <td>54.25</td>\n",
              "    </tr>\n",
              "    <tr>\n",
              "      <th>2020-04-03</th>\n",
              "      <td>52.75</td>\n",
              "      <td>54.75</td>\n",
              "      <td>54.75</td>\n",
              "      <td>53.55</td>\n",
              "    </tr>\n",
              "    <tr>\n",
              "      <th>2020-04-01</th>\n",
              "      <td>53.10</td>\n",
              "      <td>54.00</td>\n",
              "      <td>53.35</td>\n",
              "      <td>53.40</td>\n",
              "    </tr>\n",
              "    <tr>\n",
              "      <th>2020-03-31</th>\n",
              "      <td>53.70</td>\n",
              "      <td>54.50</td>\n",
              "      <td>54.45</td>\n",
              "      <td>54.25</td>\n",
              "    </tr>\n",
              "    <tr>\n",
              "      <th>...</th>\n",
              "      <td>...</td>\n",
              "      <td>...</td>\n",
              "      <td>...</td>\n",
              "      <td>...</td>\n",
              "    </tr>\n",
              "    <tr>\n",
              "      <th>2019-11-20</th>\n",
              "      <td>43.15</td>\n",
              "      <td>44.40</td>\n",
              "      <td>43.15</td>\n",
              "      <td>44.00</td>\n",
              "    </tr>\n",
              "    <tr>\n",
              "      <th>2019-11-19</th>\n",
              "      <td>43.05</td>\n",
              "      <td>44.70</td>\n",
              "      <td>43.60</td>\n",
              "      <td>43.20</td>\n",
              "    </tr>\n",
              "    <tr>\n",
              "      <th>2019-11-18</th>\n",
              "      <td>42.80</td>\n",
              "      <td>44.05</td>\n",
              "      <td>43.60</td>\n",
              "      <td>43.60</td>\n",
              "    </tr>\n",
              "    <tr>\n",
              "      <th>2019-11-15</th>\n",
              "      <td>43.50</td>\n",
              "      <td>45.00</td>\n",
              "      <td>43.50</td>\n",
              "      <td>44.10</td>\n",
              "    </tr>\n",
              "    <tr>\n",
              "      <th>2019-11-14</th>\n",
              "      <td>44.00</td>\n",
              "      <td>46.95</td>\n",
              "      <td>44.00</td>\n",
              "      <td>44.85</td>\n",
              "    </tr>\n",
              "  </tbody>\n",
              "</table>\n",
              "<p>100 rows × 4 columns</p>\n",
              "</div>"
            ],
            "text/plain": [
              "              low   high   open  close\n",
              "Date                                  \n",
              "2020-04-08  54.00  55.25  54.40  54.35\n",
              "2020-04-07  54.20  54.75  54.50  54.25\n",
              "2020-04-03  52.75  54.75  54.75  53.55\n",
              "2020-04-01  53.10  54.00  53.35  53.40\n",
              "2020-03-31  53.70  54.50  54.45  54.25\n",
              "...           ...    ...    ...    ...\n",
              "2019-11-20  43.15  44.40  43.15  44.00\n",
              "2019-11-19  43.05  44.70  43.60  43.20\n",
              "2019-11-18  42.80  44.05  43.60  43.60\n",
              "2019-11-15  43.50  45.00  43.50  44.10\n",
              "2019-11-14  44.00  46.95  44.00  44.85\n",
              "\n",
              "[100 rows x 4 columns]"
            ]
          },
          "metadata": {
            "tags": []
          },
          "execution_count": 32
        }
      ]
    },
    {
      "cell_type": "code",
      "metadata": {
        "id": "BydYD1Se9-tl",
        "colab_type": "code",
        "colab": {
          "base_uri": "https://localhost:8080/",
          "height": 307
        },
        "outputId": "94ec33ee-581b-4542-ec57-df70fd5fdc1d"
      },
      "source": [
        "!pip install pyramid-arima"
      ],
      "execution_count": 9,
      "outputs": [
        {
          "output_type": "stream",
          "text": [
            "Collecting pyramid-arima\n",
            "\u001b[?25l  Downloading https://files.pythonhosted.org/packages/5c/84/57422f2a6ade3161c586545e38b518ba1b7ab30ee4a4acc29110c0aba2bc/pyramid_arima-0.9.0-cp36-cp36m-manylinux1_x86_64.whl (597kB)\n",
            "\r\u001b[K     |▌                               | 10kB 16.7MB/s eta 0:00:01\r\u001b[K     |█                               | 20kB 1.8MB/s eta 0:00:01\r\u001b[K     |█▋                              | 30kB 2.3MB/s eta 0:00:01\r\u001b[K     |██▏                             | 40kB 1.7MB/s eta 0:00:01\r\u001b[K     |██▊                             | 51kB 1.9MB/s eta 0:00:01\r\u001b[K     |███▎                            | 61kB 2.2MB/s eta 0:00:01\r\u001b[K     |███▉                            | 71kB 2.4MB/s eta 0:00:01\r\u001b[K     |████▍                           | 81kB 2.5MB/s eta 0:00:01\r\u001b[K     |█████                           | 92kB 2.8MB/s eta 0:00:01\r\u001b[K     |█████▌                          | 102kB 2.8MB/s eta 0:00:01\r\u001b[K     |██████                          | 112kB 2.8MB/s eta 0:00:01\r\u001b[K     |██████▋                         | 122kB 2.8MB/s eta 0:00:01\r\u001b[K     |███████▏                        | 133kB 2.8MB/s eta 0:00:01\r\u001b[K     |███████▊                        | 143kB 2.8MB/s eta 0:00:01\r\u001b[K     |████████▏                       | 153kB 2.8MB/s eta 0:00:01\r\u001b[K     |████████▊                       | 163kB 2.8MB/s eta 0:00:01\r\u001b[K     |█████████▎                      | 174kB 2.8MB/s eta 0:00:01\r\u001b[K     |█████████▉                      | 184kB 2.8MB/s eta 0:00:01\r\u001b[K     |██████████▍                     | 194kB 2.8MB/s eta 0:00:01\r\u001b[K     |███████████                     | 204kB 2.8MB/s eta 0:00:01\r\u001b[K     |███████████▌                    | 215kB 2.8MB/s eta 0:00:01\r\u001b[K     |████████████                    | 225kB 2.8MB/s eta 0:00:01\r\u001b[K     |████████████▋                   | 235kB 2.8MB/s eta 0:00:01\r\u001b[K     |█████████████▏                  | 245kB 2.8MB/s eta 0:00:01\r\u001b[K     |█████████████▊                  | 256kB 2.8MB/s eta 0:00:01\r\u001b[K     |██████████████▎                 | 266kB 2.8MB/s eta 0:00:01\r\u001b[K     |██████████████▉                 | 276kB 2.8MB/s eta 0:00:01\r\u001b[K     |███████████████▍                | 286kB 2.8MB/s eta 0:00:01\r\u001b[K     |████████████████                | 296kB 2.8MB/s eta 0:00:01\r\u001b[K     |████████████████▍               | 307kB 2.8MB/s eta 0:00:01\r\u001b[K     |█████████████████               | 317kB 2.8MB/s eta 0:00:01\r\u001b[K     |█████████████████▌              | 327kB 2.8MB/s eta 0:00:01\r\u001b[K     |██████████████████              | 337kB 2.8MB/s eta 0:00:01\r\u001b[K     |██████████████████▋             | 348kB 2.8MB/s eta 0:00:01\r\u001b[K     |███████████████████▏            | 358kB 2.8MB/s eta 0:00:01\r\u001b[K     |███████████████████▊            | 368kB 2.8MB/s eta 0:00:01\r\u001b[K     |████████████████████▎           | 378kB 2.8MB/s eta 0:00:01\r\u001b[K     |████████████████████▉           | 389kB 2.8MB/s eta 0:00:01\r\u001b[K     |█████████████████████▍          | 399kB 2.8MB/s eta 0:00:01\r\u001b[K     |██████████████████████          | 409kB 2.8MB/s eta 0:00:01\r\u001b[K     |██████████████████████▌         | 419kB 2.8MB/s eta 0:00:01\r\u001b[K     |███████████████████████         | 430kB 2.8MB/s eta 0:00:01\r\u001b[K     |███████████████████████▋        | 440kB 2.8MB/s eta 0:00:01\r\u001b[K     |████████████████████████▏       | 450kB 2.8MB/s eta 0:00:01\r\u001b[K     |████████████████████████▋       | 460kB 2.8MB/s eta 0:00:01\r\u001b[K     |█████████████████████████▏      | 471kB 2.8MB/s eta 0:00:01\r\u001b[K     |█████████████████████████▊      | 481kB 2.8MB/s eta 0:00:01\r\u001b[K     |██████████████████████████▎     | 491kB 2.8MB/s eta 0:00:01\r\u001b[K     |██████████████████████████▉     | 501kB 2.8MB/s eta 0:00:01\r\u001b[K     |███████████████████████████▍    | 512kB 2.8MB/s eta 0:00:01\r\u001b[K     |████████████████████████████    | 522kB 2.8MB/s eta 0:00:01\r\u001b[K     |████████████████████████████▌   | 532kB 2.8MB/s eta 0:00:01\r\u001b[K     |█████████████████████████████   | 542kB 2.8MB/s eta 0:00:01\r\u001b[K     |█████████████████████████████▋  | 552kB 2.8MB/s eta 0:00:01\r\u001b[K     |██████████████████████████████▏ | 563kB 2.8MB/s eta 0:00:01\r\u001b[K     |██████████████████████████████▊ | 573kB 2.8MB/s eta 0:00:01\r\u001b[K     |███████████████████████████████▎| 583kB 2.8MB/s eta 0:00:01\r\u001b[K     |███████████████████████████████▉| 593kB 2.8MB/s eta 0:00:01\r\u001b[K     |████████████████████████████████| 604kB 2.8MB/s \n",
            "\u001b[?25hRequirement already satisfied: scikit-learn>=0.17 in /usr/local/lib/python3.6/dist-packages (from pyramid-arima) (0.22.2.post1)\n",
            "Requirement already satisfied: pandas>=0.19 in /usr/local/lib/python3.6/dist-packages (from pyramid-arima) (1.0.3)\n",
            "Requirement already satisfied: statsmodels>=0.9.0 in /usr/local/lib/python3.6/dist-packages (from pyramid-arima) (0.10.2)\n",
            "Requirement already satisfied: numpy>=1.10 in /usr/local/lib/python3.6/dist-packages (from pyramid-arima) (1.18.2)\n",
            "Requirement already satisfied: scipy>=0.9 in /usr/local/lib/python3.6/dist-packages (from pyramid-arima) (1.4.1)\n",
            "Requirement already satisfied: Cython>=0.23 in /usr/local/lib/python3.6/dist-packages (from pyramid-arima) (0.29.16)\n",
            "Requirement already satisfied: joblib>=0.11 in /usr/local/lib/python3.6/dist-packages (from scikit-learn>=0.17->pyramid-arima) (0.14.1)\n",
            "Requirement already satisfied: python-dateutil>=2.6.1 in /usr/local/lib/python3.6/dist-packages (from pandas>=0.19->pyramid-arima) (2.8.1)\n",
            "Requirement already satisfied: pytz>=2017.2 in /usr/local/lib/python3.6/dist-packages (from pandas>=0.19->pyramid-arima) (2019.3)\n",
            "Requirement already satisfied: patsy>=0.4.0 in /usr/local/lib/python3.6/dist-packages (from statsmodels>=0.9.0->pyramid-arima) (0.5.1)\n",
            "Requirement already satisfied: six>=1.5 in /usr/local/lib/python3.6/dist-packages (from python-dateutil>=2.6.1->pandas>=0.19->pyramid-arima) (1.12.0)\n",
            "Installing collected packages: pyramid-arima\n",
            "Successfully installed pyramid-arima-0.9.0\n"
          ],
          "name": "stdout"
        }
      ]
    },
    {
      "cell_type": "code",
      "metadata": {
        "colab_type": "code",
        "outputId": "b87d7332-fad1-4177-9026-e7f63ee1ddc6",
        "id": "APcYovlUUY4s",
        "colab": {
          "base_uri": "https://localhost:8080/",
          "height": 270
        }
      },
      "source": [
        "from pyramid.arima import auto_arima\n",
        "stepwise_model = auto_arima(df['close'], start_p=1, start_q=1,\n",
        "                           max_p=3, max_q=3, m=12,\n",
        "                           start_P=0, seasonal=True,\n",
        "                           d=1, D=1, trace=True,\n",
        "                           error_action='ignore',  \n",
        "                           suppress_warnings=True)\n",
        "print(stepwise_model.aic())"
      ],
      "execution_count": 33,
      "outputs": [
        {
          "output_type": "stream",
          "text": [
            "Fit ARIMA: order=(1, 1, 1) seasonal_order=(0, 1, 1, 12); AIC=368.763, BIC=381.093, Fit time=0.763 seconds\n",
            "Fit ARIMA: order=(0, 1, 0) seasonal_order=(0, 1, 0, 12); AIC=397.621, BIC=402.553, Fit time=0.020 seconds\n",
            "Fit ARIMA: order=(1, 1, 0) seasonal_order=(1, 1, 0, 12); AIC=375.254, BIC=385.118, Fit time=0.269 seconds\n",
            "Fit ARIMA: order=(0, 1, 1) seasonal_order=(0, 1, 1, 12); AIC=367.069, BIC=376.933, Fit time=0.375 seconds\n",
            "Fit ARIMA: order=(0, 1, 1) seasonal_order=(1, 1, 1, 12); AIC=368.721, BIC=381.051, Fit time=0.593 seconds\n",
            "Fit ARIMA: order=(0, 1, 1) seasonal_order=(0, 1, 0, 12); AIC=397.463, BIC=404.861, Fit time=0.082 seconds\n",
            "Fit ARIMA: order=(0, 1, 1) seasonal_order=(0, 1, 2, 12); AIC=368.718, BIC=381.047, Fit time=1.013 seconds\n",
            "Fit ARIMA: order=(0, 1, 1) seasonal_order=(1, 1, 2, 12); AIC=370.353, BIC=385.149, Fit time=3.556 seconds\n",
            "Fit ARIMA: order=(0, 1, 0) seasonal_order=(0, 1, 1, 12); AIC=365.980, BIC=373.377, Fit time=0.282 seconds\n",
            "Fit ARIMA: order=(0, 1, 0) seasonal_order=(1, 1, 1, 12); AIC=367.553, BIC=377.417, Fit time=0.341 seconds\n",
            "Fit ARIMA: order=(0, 1, 0) seasonal_order=(0, 1, 2, 12); AIC=367.547, BIC=377.410, Fit time=0.709 seconds\n",
            "Fit ARIMA: order=(0, 1, 0) seasonal_order=(1, 1, 2, 12); AIC=369.418, BIC=381.747, Fit time=3.137 seconds\n",
            "Fit ARIMA: order=(1, 1, 0) seasonal_order=(0, 1, 1, 12); AIC=366.998, BIC=376.862, Fit time=0.396 seconds\n",
            "Total fit time: 11.544 seconds\n",
            "365.979725703015\n"
          ],
          "name": "stdout"
        }
      ]
    },
    {
      "cell_type": "code",
      "metadata": {
        "id": "PDgRjg6SWP9j",
        "colab_type": "code",
        "colab": {}
      },
      "source": [
        "stepwise_model_fit = stepwise_model.fit(df['close'])\n",
        "forecast = stepwise_model_fit.predict(n_periods=10)"
      ],
      "execution_count": 0,
      "outputs": []
    },
    {
      "cell_type": "code",
      "metadata": {
        "id": "NvDna1twUf85",
        "colab_type": "code",
        "outputId": "ea9f2e7f-dfcc-4849-ed01-6682e0e0af45",
        "colab": {
          "base_uri": "https://localhost:8080/",
          "height": 298
        }
      },
      "source": [
        "import matplotlib.pyplot as plt\n",
        "dates = []\n",
        "for i in range(7,17):\n",
        "  s = '2020-04-'\n",
        "  if(len(str(i))==1):\n",
        "    s = s + '0' + str(i)\n",
        "  else:\n",
        "    s = s + str(i)\n",
        "  dates.append(s)\n",
        "plt.plot(dates,forecast)\n",
        "plt.title('Forecasted plot of Closing price for next 10 days')"
      ],
      "execution_count": 35,
      "outputs": [
        {
          "output_type": "execute_result",
          "data": {
            "text/plain": [
              "Text(0.5, 1.0, 'Forecasted plot of Closing price for next 10 days')"
            ]
          },
          "metadata": {
            "tags": []
          },
          "execution_count": 35
        },
        {
          "output_type": "display_data",
          "data": {
            "image/png": "[encoded data removed]",
            "text/plain": [
              "<Figure size 432x288 with 1 Axes>"
            ]
          },
          "metadata": {
            "tags": []
          }
        }
      ]
    },
    {
      "cell_type": "code",
      "metadata": {
        "id": "zVitZS7r52D5",
        "colab_type": "code",
        "outputId": "687cf628-772e-4806-9b45-2b0b3401ac84",
        "colab": {
          "base_uri": "https://localhost:8080/",
          "height": 696
        }
      },
      "source": [
        "pip install --ignore-installed --upgrade keras"
      ],
      "execution_count": 14,
      "outputs": [
        {
          "output_type": "stream",
          "text": [
            "Collecting keras\n",
            "\u001b[?25l  Downloading https://files.pythonhosted.org/packages/ad/fd/6bfe87920d7f4fd475acd28500a42482b6b84479832bdc0fe9e589a60ceb/Keras-2.3.1-py2.py3-none-any.whl (377kB)\n",
            "\u001b[K     |████████████████████████████████| 378kB 2.8MB/s \n",
            "\u001b[?25hCollecting keras-preprocessing>=1.0.5\n",
            "\u001b[?25l  Downloading https://files.pythonhosted.org/packages/28/6a/8c1f62c37212d9fc441a7e26736df51ce6f0e38455816445471f10da4f0a/Keras_Preprocessing-1.1.0-py2.py3-none-any.whl (41kB)\n",
            "\u001b[K     |████████████████████████████████| 51kB 6.9MB/s \n",
            "\u001b[?25hCollecting six>=1.9.0\n",
            "  Downloading https://files.pythonhosted.org/packages/65/eb/1f97cb97bfc2390a276969c6fae16075da282f5058082d4cb10c6c5c1dba/six-1.14.0-py2.py3-none-any.whl\n",
            "Collecting keras-applications>=1.0.6\n",
            "\u001b[?25l  Downloading https://files.pythonhosted.org/packages/71/e3/19762fdfc62877ae9102edf6342d71b28fbfd9dea3d2f96a882ce099b03f/Keras_Applications-1.0.8-py3-none-any.whl (50kB)\n",
            "\u001b[K     |████████████████████████████████| 51kB 5.5MB/s \n",
            "\u001b[?25hCollecting h5py\n",
            "\u001b[?25l  Downloading https://files.pythonhosted.org/packages/60/06/cafdd44889200e5438b897388f3075b52a8ef01f28a17366d91de0fa2d05/h5py-2.10.0-cp36-cp36m-manylinux1_x86_64.whl (2.9MB)\n",
            "\u001b[K     |████████████████████████████████| 2.9MB 7.7MB/s \n",
            "\u001b[?25hCollecting numpy>=1.9.1\n",
            "\u001b[?25l  Downloading https://files.pythonhosted.org/packages/07/08/a549ba8b061005bb629b76adc000f3caaaf881028b963c2e18f811c6edc1/numpy-1.18.2-cp36-cp36m-manylinux1_x86_64.whl (20.2MB)\n",
            "\u001b[K     |████████████████████████████████| 20.2MB 225kB/s \n",
            "\u001b[?25hCollecting pyyaml\n",
            "\u001b[?25l  Downloading https://files.pythonhosted.org/packages/64/c2/b80047c7ac2478f9501676c988a5411ed5572f35d1beff9cae07d321512c/PyYAML-5.3.1.tar.gz (269kB)\n",
            "\u001b[K     |████████████████████████████████| 276kB 47.5MB/s \n",
            "\u001b[?25hCollecting scipy>=0.14\n",
            "\u001b[?25l  Downloading https://files.pythonhosted.org/packages/dc/29/162476fd44203116e7980cfbd9352eef9db37c49445d1fec35509022f6aa/scipy-1.4.1-cp36-cp36m-manylinux1_x86_64.whl (26.1MB)\n",
            "\u001b[K     |████████████████████████████████| 26.1MB 1.4MB/s \n",
            "\u001b[?25hBuilding wheels for collected packages: pyyaml\n",
            "  Building wheel for pyyaml (setup.py) ... \u001b[?25l\u001b[?25hdone\n",
            "  Created wheel for pyyaml: filename=PyYAML-5.3.1-cp36-cp36m-linux_x86_64.whl size=44621 sha256=c898823a0a0e36b13930569f1edf20eace33ab6c2b50d7383f6b2783eb878442\n",
            "  Stored in directory: /root/.cache/pip/wheels/a7/c1/ea/cf5bd31012e735dc1dfea3131a2d5eae7978b251083d6247bd\n",
            "Successfully built pyyaml\n",
            "\u001b[31mERROR: qtconsole 4.7.2 has requirement pyzmq>=17.1, but you'll have pyzmq 17.0.0 which is incompatible.\u001b[0m\n",
            "\u001b[31mERROR: google-colab 1.0.0 has requirement six~=1.12.0, but you'll have six 1.14.0 which is incompatible.\u001b[0m\n",
            "\u001b[31mERROR: datascience 0.10.6 has requirement folium==0.2.1, but you'll have folium 0.8.3 which is incompatible.\u001b[0m\n",
            "\u001b[31mERROR: albumentations 0.1.12 has requirement imgaug<0.2.7,>=0.2.5, but you'll have imgaug 0.2.9 which is incompatible.\u001b[0m\n",
            "Installing collected packages: numpy, six, keras-preprocessing, h5py, keras-applications, pyyaml, scipy, keras\n",
            "Successfully installed h5py-2.10.0 keras-2.3.1 keras-applications-1.0.8 keras-preprocessing-1.1.0 numpy-1.18.2 pyyaml-5.3.1 scipy-1.4.1 six-1.14.0\n"
          ],
          "name": "stdout"
        },
        {
          "output_type": "display_data",
          "data": {
            "application/vnd.colab-display-data+json": {
              "pip_warning": {
                "packages": [
                  "numpy",
                  "scipy",
                  "six",
                  "yaml"
                ]
              }
            }
          },
          "metadata": {
            "tags": []
          }
        }
      ]
    },
    {
      "cell_type": "code",
      "metadata": {
        "id": "Qp-WVLAXXEDx",
        "colab_type": "code",
        "colab": {}
      },
      "source": [
        "\n",
        "#Import the libraries\n",
        "import math\n",
        "import pandas_datareader as web\n",
        "import numpy as np\n",
        "import pandas as pd\n",
        "from sklearn.preprocessing import MinMaxScaler\n",
        "from keras.models import Sequential\n",
        "from keras.layers import Dense, LSTM\n",
        "import matplotlib.pyplot as plt\n",
        "\n"
      ],
      "execution_count": 0,
      "outputs": []
    },
    {
      "cell_type": "code",
      "metadata": {
        "id": "juv1xTESdw0P",
        "colab_type": "code",
        "outputId": "1beb77d5-84d2-4863-aa4d-eaccfe2eeafd",
        "colab": {
          "base_uri": "https://localhost:8080/",
          "height": 521
        }
      },
      "source": [
        "#Smoothing using Moving Averages to identify trends\n",
        "\n",
        "#fast moving avg with q = 20days\n",
        "df['20d'] = np.round(df['close'].rolling(window = 20, center = False).mean(), 2)\n",
        "\n",
        "df['75d'] = np.round(df['close'].rolling(window = 75, center = False).mean(), 2)\n",
        "\n",
        "#slow moving avg with q = 20days\n",
        "df['250d'] = np.round(df['close'].rolling(window = 250, center = False).mean(), 2)\n",
        "plt.figure(figsize=(16,8))\n",
        "plt.title('Close Price History')\n",
        "\n",
        "#the closing price is plotted along moving averages\n",
        "plt.plot(df['close'], label = 'actual')\n",
        "plt.plot(df['20d'], label ='20d MA')\n",
        "plt.plot(df['75d'], label ='75d MA')\n",
        "plt.plot(df['250d'], label ='250d MA')\n",
        "plt.xlabel('Date', fontsize=18)\n",
        "plt.ylabel('Close Price USD ($)', fontsize=18)\n",
        "leg = plt.legend();\n",
        "plt.show()\n"
      ],
      "execution_count": 37,
      "outputs": [
        {
          "output_type": "display_data",
          "data": {
            "image/png": "[encoded data removed]",
            "text/plain": [
              "<Figure size 1152x576 with 1 Axes>"
            ]
          },
          "metadata": {
            "tags": []
          }
        }
      ]
    },
    {
      "cell_type": "markdown",
      "metadata": {
        "id": "6938omuP02Kg",
        "colab_type": "text"
      },
      "source": [
        "We can identify trends using this graph.\n",
        "\n",
        "From 250d MA, we see there's \n",
        "\n",
        "*   a positive trend from first quarter of 2014 to first quarter of 2015    (bull market)\n",
        "*   a negative trend from second quarter of 2015 till the end of 2016 (bear market)\n",
        "*   a positive trend from beginning of 2017 till first quarter of 2018   (bull market)\n",
        "*  a negative trend from second quarter of 2018 until now(bear market) \n",
        "\n",
        "\n",
        "\n",
        "\n",
        "\n",
        "\n",
        "\n"
      ]
    },
    {
      "cell_type": "code",
      "metadata": {
        "id": "hh-MvRUYeCXi",
        "colab_type": "code",
        "outputId": "9da78e53-4990-4571-a831-159ecb6a79f4",
        "colab": {
          "base_uri": "https://localhost:8080/",
          "height": 34
        }
      },
      "source": [
        "data = df.filter(['close'])\n",
        "\n",
        "dataset = data.values\n",
        "\n",
        "training_data_len = math.ceil( len(dataset) * .8 )\n",
        "\n",
        "training_data_len"
      ],
      "execution_count": 38,
      "outputs": [
        {
          "output_type": "execute_result",
          "data": {
            "text/plain": [
              "80"
            ]
          },
          "metadata": {
            "tags": []
          },
          "execution_count": 38
        }
      ]
    },
    {
      "cell_type": "code",
      "metadata": {
        "id": "4YtylW6LeVII",
        "colab_type": "code",
        "outputId": "611421b5-2551-4512-8547-bfdea328cd04",
        "colab": {
          "base_uri": "https://localhost:8080/",
          "height": 1000
        }
      },
      "source": [
        "scaler = MinMaxScaler(feature_range=(0,1))\n",
        "scaled_data = scaler.fit_transform(dataset)\n",
        "\n",
        "scaled_data"
      ],
      "execution_count": 39,
      "outputs": [
        {
          "output_type": "execute_result",
          "data": {
            "text/plain": [
              "array([[0.65707965],\n",
              "       [0.65265487],\n",
              "       [0.62168142],\n",
              "       [0.61504425],\n",
              "       [0.65265487],\n",
              "       [0.61061947],\n",
              "       [0.67035398],\n",
              "       [0.72345133],\n",
              "       [0.75442478],\n",
              "       [0.73451327],\n",
              "       [0.67920354],\n",
              "       [0.68584071],\n",
              "       [0.67477876],\n",
              "       [0.65486726],\n",
              "       [0.65486726],\n",
              "       [0.65929204],\n",
              "       [0.66150442],\n",
              "       [0.65929204],\n",
              "       [0.63495575],\n",
              "       [0.60176991],\n",
              "       [0.62389381],\n",
              "       [0.62831858],\n",
              "       [0.6460177 ],\n",
              "       [0.65265487],\n",
              "       [0.65707965],\n",
              "       [0.64823009],\n",
              "       [0.65929204],\n",
              "       [0.56858407],\n",
              "       [0.6460177 ],\n",
              "       [0.6039823 ],\n",
              "       [0.67699115],\n",
              "       [0.72787611],\n",
              "       [0.78097345],\n",
              "       [0.77654867],\n",
              "       [0.81858407],\n",
              "       [0.80309735],\n",
              "       [0.75663717],\n",
              "       [0.73672566],\n",
              "       [0.7300885 ],\n",
              "       [0.75221239],\n",
              "       [0.78318584],\n",
              "       [0.8539823 ],\n",
              "       [0.89159292],\n",
              "       [0.88274336],\n",
              "       [0.86283186],\n",
              "       [0.90707965],\n",
              "       [0.95353982],\n",
              "       [0.95132743],\n",
              "       [0.7920354 ],\n",
              "       [0.71017699],\n",
              "       [0.80973451],\n",
              "       [0.86061947],\n",
              "       [0.86504425],\n",
              "       [0.86061947],\n",
              "       [0.88274336],\n",
              "       [0.84955752],\n",
              "       [0.72123894],\n",
              "       [0.75221239],\n",
              "       [0.74778761],\n",
              "       [0.75663717],\n",
              "       [0.74557522],\n",
              "       [0.71017699],\n",
              "       [0.68362832],\n",
              "       [0.64380531],\n",
              "       [0.60840708],\n",
              "       [0.57079646],\n",
              "       [0.57964602],\n",
              "       [0.58185841],\n",
              "       [0.55309735],\n",
              "       [0.61946903],\n",
              "       [0.61504425],\n",
              "       [0.6659292 ],\n",
              "       [0.65486726],\n",
              "       [0.90044248],\n",
              "       [0.92920354],\n",
              "       [0.91371681],\n",
              "       [1.        ],\n",
              "       [0.92035398],\n",
              "       [0.53761062],\n",
              "       [0.4380531 ],\n",
              "       [0.32743363],\n",
              "       [0.33628319],\n",
              "       [0.21238938],\n",
              "       [0.26327434],\n",
              "       [0.10840708],\n",
              "       [0.05973451],\n",
              "       [0.06415929],\n",
              "       [0.09734513],\n",
              "       [0.27212389],\n",
              "       [0.00663717],\n",
              "       [0.05309735],\n",
              "       [0.07522124],\n",
              "       [0.        ],\n",
              "       [0.10619469],\n",
              "       [0.16150442],\n",
              "       [0.19911504],\n",
              "       [0.16371681],\n",
              "       [0.18141593],\n",
              "       [0.20353982],\n",
              "       [0.23672566]])"
            ]
          },
          "metadata": {
            "tags": []
          },
          "execution_count": 39
        }
      ]
    },
    {
      "cell_type": "code",
      "metadata": {
        "id": "Dtcv-hheeYPf",
        "colab_type": "code",
        "outputId": "012fc589-2d88-4f58-f144-9279376509d5",
        "colab": {
          "base_uri": "https://localhost:8080/",
          "height": 675
        }
      },
      "source": [
        "train_data = scaled_data[0:training_data_len , :]\n",
        "#Split the data into x_train and y_train data sets\n",
        "x_train = []\n",
        "y_train = []\n",
        "\n",
        "for i in range(60, len(train_data)):\n",
        "  x_train.append(train_data[i-60:i, 0])\n",
        "  y_train.append(train_data[i, 0])\n",
        "  if i<= 61:\n",
        "    print(x_train)\n",
        "    print(y_train)\n",
        "    print()"
      ],
      "execution_count": 40,
      "outputs": [
        {
          "output_type": "stream",
          "text": [
            "[array([0.65707965, 0.65265487, 0.62168142, 0.61504425, 0.65265487,\n",
            "       0.61061947, 0.67035398, 0.72345133, 0.75442478, 0.73451327,\n",
            "       0.67920354, 0.68584071, 0.67477876, 0.65486726, 0.65486726,\n",
            "       0.65929204, 0.66150442, 0.65929204, 0.63495575, 0.60176991,\n",
            "       0.62389381, 0.62831858, 0.6460177 , 0.65265487, 0.65707965,\n",
            "       0.64823009, 0.65929204, 0.56858407, 0.6460177 , 0.6039823 ,\n",
            "       0.67699115, 0.72787611, 0.78097345, 0.77654867, 0.81858407,\n",
            "       0.80309735, 0.75663717, 0.73672566, 0.7300885 , 0.75221239,\n",
            "       0.78318584, 0.8539823 , 0.89159292, 0.88274336, 0.86283186,\n",
            "       0.90707965, 0.95353982, 0.95132743, 0.7920354 , 0.71017699,\n",
            "       0.80973451, 0.86061947, 0.86504425, 0.86061947, 0.88274336,\n",
            "       0.84955752, 0.72123894, 0.75221239, 0.74778761, 0.75663717])]\n",
            "[0.7455752212389379]\n",
            "\n",
            "[array([0.65707965, 0.65265487, 0.62168142, 0.61504425, 0.65265487,\n",
            "       0.61061947, 0.67035398, 0.72345133, 0.75442478, 0.73451327,\n",
            "       0.67920354, 0.68584071, 0.67477876, 0.65486726, 0.65486726,\n",
            "       0.65929204, 0.66150442, 0.65929204, 0.63495575, 0.60176991,\n",
            "       0.62389381, 0.62831858, 0.6460177 , 0.65265487, 0.65707965,\n",
            "       0.64823009, 0.65929204, 0.56858407, 0.6460177 , 0.6039823 ,\n",
            "       0.67699115, 0.72787611, 0.78097345, 0.77654867, 0.81858407,\n",
            "       0.80309735, 0.75663717, 0.73672566, 0.7300885 , 0.75221239,\n",
            "       0.78318584, 0.8539823 , 0.89159292, 0.88274336, 0.86283186,\n",
            "       0.90707965, 0.95353982, 0.95132743, 0.7920354 , 0.71017699,\n",
            "       0.80973451, 0.86061947, 0.86504425, 0.86061947, 0.88274336,\n",
            "       0.84955752, 0.72123894, 0.75221239, 0.74778761, 0.75663717]), array([0.65265487, 0.62168142, 0.61504425, 0.65265487, 0.61061947,\n",
            "       0.67035398, 0.72345133, 0.75442478, 0.73451327, 0.67920354,\n",
            "       0.68584071, 0.67477876, 0.65486726, 0.65486726, 0.65929204,\n",
            "       0.66150442, 0.65929204, 0.63495575, 0.60176991, 0.62389381,\n",
            "       0.62831858, 0.6460177 , 0.65265487, 0.65707965, 0.64823009,\n",
            "       0.65929204, 0.56858407, 0.6460177 , 0.6039823 , 0.67699115,\n",
            "       0.72787611, 0.78097345, 0.77654867, 0.81858407, 0.80309735,\n",
            "       0.75663717, 0.73672566, 0.7300885 , 0.75221239, 0.78318584,\n",
            "       0.8539823 , 0.89159292, 0.88274336, 0.86283186, 0.90707965,\n",
            "       0.95353982, 0.95132743, 0.7920354 , 0.71017699, 0.80973451,\n",
            "       0.86061947, 0.86504425, 0.86061947, 0.88274336, 0.84955752,\n",
            "       0.72123894, 0.75221239, 0.74778761, 0.75663717, 0.74557522])]\n",
            "[0.7455752212389379, 0.7101769911504423]\n",
            "\n"
          ],
          "name": "stdout"
        }
      ]
    },
    {
      "cell_type": "code",
      "metadata": {
        "id": "w-DmS0C6g0gH",
        "colab_type": "code",
        "colab": {}
      },
      "source": [
        "x_train, y_train = np.array(x_train), np.array(y_train)"
      ],
      "execution_count": 0,
      "outputs": []
    },
    {
      "cell_type": "code",
      "metadata": {
        "id": "gFosR-k0g8cg",
        "colab_type": "code",
        "outputId": "d2abb4dd-4074-44a9-d94c-5a5e32a3632f",
        "colab": {
          "base_uri": "https://localhost:8080/",
          "height": 34
        }
      },
      "source": [
        "x_train = np.reshape(x_train, (x_train.shape[0], x_train.shape[1], 1))\n",
        "x_train.shape"
      ],
      "execution_count": 42,
      "outputs": [
        {
          "output_type": "execute_result",
          "data": {
            "text/plain": [
              "(20, 60, 1)"
            ]
          },
          "metadata": {
            "tags": []
          },
          "execution_count": 42
        }
      ]
    },
    {
      "cell_type": "code",
      "metadata": {
        "id": "8zm1dchMl-QO",
        "colab_type": "code",
        "colab": {}
      },
      "source": [
        "\n",
        "#Build the LSTM model\n",
        "model = Sequential()\n",
        "model.add(LSTM(50, return_sequences=True, input_shape= (x_train.shape[1], 1)))\n",
        "model.add(LSTM(50, return_sequences= False))\n",
        "model.add(Dense(25))\n",
        "model.add(Dense(1))\n",
        "model.compile(loss='mean_squared_error', optimizer='adam')\n"
      ],
      "execution_count": 0,
      "outputs": []
    },
    {
      "cell_type": "code",
      "metadata": {
        "id": "xJN56ouM6TAV",
        "colab_type": "code",
        "outputId": "54c0588f-f14b-4632-be99-0608d7884e63",
        "colab": {
          "base_uri": "https://localhost:8080/",
          "height": 67
        }
      },
      "source": [
        "model.fit(x_train, y_train, batch_size=1, epochs=1)"
      ],
      "execution_count": 44,
      "outputs": [
        {
          "output_type": "stream",
          "text": [
            "Epoch 1/1\n",
            "20/20 [==============================] - 1s 71ms/step - loss: 0.0900\n"
          ],
          "name": "stdout"
        },
        {
          "output_type": "execute_result",
          "data": {
            "text/plain": [
              "<keras.callbacks.callbacks.History at 0x7f23249764a8>"
            ]
          },
          "metadata": {
            "tags": []
          },
          "execution_count": 44
        }
      ]
    },
    {
      "cell_type": "code",
      "metadata": {
        "id": "H07kjTSL7Qi7",
        "colab_type": "code",
        "colab": {}
      },
      "source": [
        "test_data = scaled_data[training_data_len - 60: , :]\n",
        "#Create the data sets x_test and y_test\n",
        "x_test = []\n",
        "y_test = dataset[training_data_len:, :]\n",
        "for i in range(60, len(test_data)):\n",
        "  x_test.append(test_data[i-60:i, 0])"
      ],
      "execution_count": 0,
      "outputs": []
    },
    {
      "cell_type": "code",
      "metadata": {
        "id": "Sds2NLKf7Ych",
        "colab_type": "code",
        "outputId": "6997eb0c-43aa-401d-c560-028739ac3f38",
        "colab": {
          "base_uri": "https://localhost:8080/",
          "height": 34
        }
      },
      "source": [
        "x_test = np.array(x_test)\n",
        "\n",
        "x_test = np.reshape(x_test, (x_test.shape[0], x_test.shape[1], 1 ))\n",
        "\n",
        "#Get the models predicted price values \n",
        "predictions = model.predict(x_test)\n",
        "predictions = scaler.inverse_transform(predictions)\n",
        "\n",
        "#Get the root mean squared error (RMSE)\n",
        "rmse=np.sqrt(np.mean(((predictions- y_test)**2)))\n",
        "rmse"
      ],
      "execution_count": 46,
      "outputs": [
        {
          "output_type": "execute_result",
          "data": {
            "text/plain": [
              "7.106441612646563"
            ]
          },
          "metadata": {
            "tags": []
          },
          "execution_count": 46
        }
      ]
    },
    {
      "cell_type": "code",
      "metadata": {
        "id": "RdiL_to676V3",
        "colab_type": "code",
        "outputId": "e80d88fc-861f-4807-9852-61723c2e5b53",
        "colab": {
          "base_uri": "https://localhost:8080/",
          "height": 642
        }
      },
      "source": [
        "train = data[:training_data_len]\n",
        "valid = data[training_data_len:]\n",
        "valid['Predictions'] = predictions\n",
        "#Visualize the data\n",
        "plt.figure(figsize=(16,8))\n",
        "plt.title('Model')\n",
        "plt.xlabel('Date', fontsize=18)\n",
        "plt.ylabel('Close Price USD ($)', fontsize=18)\n",
        "plt.plot(train['close'])\n",
        "plt.plot(valid[['close', 'Predictions']])\n",
        "plt.legend(['Train', 'Val', 'Predictions'], loc='lower right')\n",
        "plt.show()"
      ],
      "execution_count": 47,
      "outputs": [
        {
          "output_type": "stream",
          "text": [
            "/usr/local/lib/python3.6/dist-packages/ipykernel_launcher.py:3: SettingWithCopyWarning: \n",
            "A value is trying to be set on a copy of a slice from a DataFrame.\n",
            "Try using .loc[row_indexer,col_indexer] = value instead\n",
            "\n",
            "See the caveats in the documentation: https://pandas.pydata.org/pandas-docs/stable/user_guide/indexing.html#returning-a-view-versus-a-copy\n",
            "  This is separate from the ipykernel package so we can avoid doing imports until\n"
          ],
          "name": "stderr"
        },
        {
          "output_type": "display_data",
          "data": {
            "image/png": "[encoded data removed]",
            "text/plain": [
              "<Figure size 1152x576 with 1 Axes>"
            ]
          },
          "metadata": {
            "tags": []
          }
        }
      ]
    },
    {
      "cell_type": "code",
      "metadata": {
        "id": "giJeUBTB7_sR",
        "colab_type": "code",
        "colab": {
          "base_uri": "https://localhost:8080/",
          "height": 693
        },
        "outputId": "88dd619b-715f-4c1e-f396-b0e873c8977c"
      },
      "source": [
        "valid"
      ],
      "execution_count": 48,
      "outputs": [
        {
          "output_type": "execute_result",
          "data": {
            "text/html": [
              "<div>\n",
              "<style scoped>\n",
              "    .dataframe tbody tr th:only-of-type {\n",
              "        vertical-align: middle;\n",
              "    }\n",
              "\n",
              "    .dataframe tbody tr th {\n",
              "        vertical-align: top;\n",
              "    }\n",
              "\n",
              "    .dataframe thead th {\n",
              "        text-align: right;\n",
              "    }\n",
              "</style>\n",
              "<table border=\"1\" class=\"dataframe\">\n",
              "  <thead>\n",
              "    <tr style=\"text-align: right;\">\n",
              "      <th></th>\n",
              "      <th>close</th>\n",
              "      <th>Predictions</th>\n",
              "    </tr>\n",
              "    <tr>\n",
              "      <th>Date</th>\n",
              "      <th></th>\n",
              "      <th></th>\n",
              "    </tr>\n",
              "  </thead>\n",
              "  <tbody>\n",
              "    <tr>\n",
              "      <th>2019-12-11</th>\n",
              "      <td>46.90</td>\n",
              "      <td>55.229172</td>\n",
              "    </tr>\n",
              "    <tr>\n",
              "      <th>2019-12-10</th>\n",
              "      <td>47.10</td>\n",
              "      <td>54.738491</td>\n",
              "    </tr>\n",
              "    <tr>\n",
              "      <th>2019-12-09</th>\n",
              "      <td>44.30</td>\n",
              "      <td>54.149998</td>\n",
              "    </tr>\n",
              "    <tr>\n",
              "      <th>2019-12-06</th>\n",
              "      <td>45.45</td>\n",
              "      <td>53.423153</td>\n",
              "    </tr>\n",
              "    <tr>\n",
              "      <th>2019-12-05</th>\n",
              "      <td>41.95</td>\n",
              "      <td>52.705620</td>\n",
              "    </tr>\n",
              "    <tr>\n",
              "      <th>2019-12-04</th>\n",
              "      <td>40.85</td>\n",
              "      <td>51.888496</td>\n",
              "    </tr>\n",
              "    <tr>\n",
              "      <th>2019-12-03</th>\n",
              "      <td>40.95</td>\n",
              "      <td>51.021503</td>\n",
              "    </tr>\n",
              "    <tr>\n",
              "      <th>2019-12-02</th>\n",
              "      <td>41.70</td>\n",
              "      <td>50.175087</td>\n",
              "    </tr>\n",
              "    <tr>\n",
              "      <th>2019-11-29</th>\n",
              "      <td>45.65</td>\n",
              "      <td>49.410172</td>\n",
              "    </tr>\n",
              "    <tr>\n",
              "      <th>2019-11-28</th>\n",
              "      <td>39.65</td>\n",
              "      <td>48.877941</td>\n",
              "    </tr>\n",
              "    <tr>\n",
              "      <th>2019-11-27</th>\n",
              "      <td>40.70</td>\n",
              "      <td>48.269718</td>\n",
              "    </tr>\n",
              "    <tr>\n",
              "      <th>2019-11-26</th>\n",
              "      <td>41.20</td>\n",
              "      <td>47.699753</td>\n",
              "    </tr>\n",
              "    <tr>\n",
              "      <th>2019-11-25</th>\n",
              "      <td>39.50</td>\n",
              "      <td>47.196678</td>\n",
              "    </tr>\n",
              "    <tr>\n",
              "      <th>2019-11-22</th>\n",
              "      <td>41.90</td>\n",
              "      <td>46.692753</td>\n",
              "    </tr>\n",
              "    <tr>\n",
              "      <th>2019-11-21</th>\n",
              "      <td>43.15</td>\n",
              "      <td>46.304905</td>\n",
              "    </tr>\n",
              "    <tr>\n",
              "      <th>2019-11-20</th>\n",
              "      <td>44.00</td>\n",
              "      <td>46.045799</td>\n",
              "    </tr>\n",
              "    <tr>\n",
              "      <th>2019-11-19</th>\n",
              "      <td>43.20</td>\n",
              "      <td>45.903778</td>\n",
              "    </tr>\n",
              "    <tr>\n",
              "      <th>2019-11-18</th>\n",
              "      <td>43.60</td>\n",
              "      <td>45.806072</td>\n",
              "    </tr>\n",
              "    <tr>\n",
              "      <th>2019-11-15</th>\n",
              "      <td>44.10</td>\n",
              "      <td>45.755226</td>\n",
              "    </tr>\n",
              "    <tr>\n",
              "      <th>2019-11-14</th>\n",
              "      <td>44.85</td>\n",
              "      <td>45.752625</td>\n",
              "    </tr>\n",
              "  </tbody>\n",
              "</table>\n",
              "</div>"
            ],
            "text/plain": [
              "            close  Predictions\n",
              "Date                          \n",
              "2019-12-11  46.90    55.229172\n",
              "2019-12-10  47.10    54.738491\n",
              "2019-12-09  44.30    54.149998\n",
              "2019-12-06  45.45    53.423153\n",
              "2019-12-05  41.95    52.705620\n",
              "2019-12-04  40.85    51.888496\n",
              "2019-12-03  40.95    51.021503\n",
              "2019-12-02  41.70    50.175087\n",
              "2019-11-29  45.65    49.410172\n",
              "2019-11-28  39.65    48.877941\n",
              "2019-11-27  40.70    48.269718\n",
              "2019-11-26  41.20    47.699753\n",
              "2019-11-25  39.50    47.196678\n",
              "2019-11-22  41.90    46.692753\n",
              "2019-11-21  43.15    46.304905\n",
              "2019-11-20  44.00    46.045799\n",
              "2019-11-19  43.20    45.903778\n",
              "2019-11-18  43.60    45.806072\n",
              "2019-11-15  44.10    45.755226\n",
              "2019-11-14  44.85    45.752625"
            ]
          },
          "metadata": {
            "tags": []
          },
          "execution_count": 48
        }
      ]
    },
    {
      "cell_type": "code",
      "metadata": {
        "id": "8d4cMWLp_ycy",
        "colab_type": "code",
        "outputId": "13a59e59-d1a6-4b49-a22d-005df7415b08",
        "colab": {
          "base_uri": "https://localhost:8080/",
          "height": 273
        }
      },
      "source": [
        "!pip install PyPortfolioOpt"
      ],
      "execution_count": 49,
      "outputs": [
        {
          "output_type": "stream",
          "text": [
            "Requirement already satisfied: PyPortfolioOpt in /usr/local/lib/python3.6/dist-packages (1.0.1)\n",
            "Requirement already satisfied: cvxpy<2.0.0,>=1.0.28 in /usr/local/lib/python3.6/dist-packages (from PyPortfolioOpt) (1.0.29)\n",
            "Requirement already satisfied: scipy in /usr/local/lib/python3.6/dist-packages (from PyPortfolioOpt) (1.4.1)\n",
            "Requirement already satisfied: numpy in /usr/local/lib/python3.6/dist-packages (from PyPortfolioOpt) (1.18.2)\n",
            "Requirement already satisfied: pandas<0.26.0,>=0.25.3 in /usr/local/lib/python3.6/dist-packages (from PyPortfolioOpt) (0.25.3)\n",
            "Requirement already satisfied: ecos>=2 in /usr/local/lib/python3.6/dist-packages (from cvxpy<2.0.0,>=1.0.28->PyPortfolioOpt) (2.0.7.post1)\n",
            "Requirement already satisfied: scs>=1.1.3 in /usr/local/lib/python3.6/dist-packages (from cvxpy<2.0.0,>=1.0.28->PyPortfolioOpt) (2.1.2)\n",
            "Requirement already satisfied: multiprocess in /usr/local/lib/python3.6/dist-packages (from cvxpy<2.0.0,>=1.0.28->PyPortfolioOpt) (0.70.9)\n",
            "Requirement already satisfied: osqp>=0.4.1 in /usr/local/lib/python3.6/dist-packages (from cvxpy<2.0.0,>=1.0.28->PyPortfolioOpt) (0.6.1)\n",
            "Requirement already satisfied: python-dateutil>=2.6.1 in /usr/local/lib/python3.6/dist-packages (from pandas<0.26.0,>=0.25.3->PyPortfolioOpt) (2.8.1)\n",
            "Requirement already satisfied: pytz>=2017.2 in /usr/local/lib/python3.6/dist-packages (from pandas<0.26.0,>=0.25.3->PyPortfolioOpt) (2019.3)\n",
            "Requirement already satisfied: dill>=0.3.1 in /usr/local/lib/python3.6/dist-packages (from multiprocess->cvxpy<2.0.0,>=1.0.28->PyPortfolioOpt) (0.3.1.1)\n",
            "Requirement already satisfied: future in /usr/local/lib/python3.6/dist-packages (from osqp>=0.4.1->cvxpy<2.0.0,>=1.0.28->PyPortfolioOpt) (0.16.0)\n",
            "Requirement already satisfied: six>=1.5 in /usr/local/lib/python3.6/dist-packages (from python-dateutil>=2.6.1->pandas<0.26.0,>=0.25.3->PyPortfolioOpt) (1.14.0)\n"
          ],
          "name": "stdout"
        }
      ]
    },
    {
      "cell_type": "code",
      "metadata": {
        "id": "Z36uwHJD8C68",
        "colab_type": "code",
        "colab": {}
      },
      "source": [
        "from pypfopt.efficient_frontier import EfficientFrontier\n",
        "from pypfopt import risk_models\n",
        "from pypfopt import expected_returns\n",
        "from pypfopt.discrete_allocation import DiscreteAllocation, get_latest_prices\n"
      ],
      "execution_count": 0,
      "outputs": []
    },
    {
      "cell_type": "code",
      "metadata": {
        "id": "7otAAWRw_v1n",
        "colab_type": "code",
        "outputId": "b7188454-2428-4e32-cf1c-f9809957c66a",
        "colab": {
          "base_uri": "https://localhost:8080/",
          "height": 440
        }
      },
      "source": [
        "mu = expected_returns.mean_historical_return(df['close'])        \n",
        "S = risk_models.sample_cov(df['close'])           \n",
        "ef = EfficientFrontier(mu, S)        \n",
        "raw_weights = ef.max_sharpe()        \n",
        "cleaned_weights = ef.clean_weights()        \n",
        "perf = ef.portfolio_performance(verbose=True)        \n",
        "ef.__dict__"
      ],
      "execution_count": 51,
      "outputs": [
        {
          "output_type": "stream",
          "text": [
            "/usr/local/lib/python3.6/dist-packages/pypfopt/expected_returns.py:67: RuntimeWarning: prices are not in a dataframe\n",
            "  warnings.warn(\"prices are not in a dataframe\", RuntimeWarning)\n",
            "/usr/local/lib/python3.6/dist-packages/pypfopt/risk_models.py:61: RuntimeWarning: prices are not in a dataframe\n",
            "  warnings.warn(\"prices are not in a dataframe\", RuntimeWarning)\n"
          ],
          "name": "stderr"
        },
        {
          "output_type": "error",
          "ename": "OptimizationError",
          "evalue": "ignored",
          "traceback": [
            "\u001b[0;31m---------------------------------------------------------------------------\u001b[0m",
            "\u001b[0;31mOptimizationError\u001b[0m                         Traceback (most recent call last)",
            "\u001b[0;32m<ipython-input-51-11e45a0ab5a9>\u001b[0m in \u001b[0;36m<module>\u001b[0;34m()\u001b[0m\n\u001b[1;32m      2\u001b[0m \u001b[0mS\u001b[0m \u001b[0;34m=\u001b[0m \u001b[0mrisk_models\u001b[0m\u001b[0;34m.\u001b[0m\u001b[0msample_cov\u001b[0m\u001b[0;34m(\u001b[0m\u001b[0mdf\u001b[0m\u001b[0;34m[\u001b[0m\u001b[0;34m'close'\u001b[0m\u001b[0;34m]\u001b[0m\u001b[0;34m)\u001b[0m\u001b[0;34m\u001b[0m\u001b[0;34m\u001b[0m\u001b[0m\n\u001b[1;32m      3\u001b[0m \u001b[0mef\u001b[0m \u001b[0;34m=\u001b[0m \u001b[0mEfficientFrontier\u001b[0m\u001b[0;34m(\u001b[0m\u001b[0mmu\u001b[0m\u001b[0;34m,\u001b[0m \u001b[0mS\u001b[0m\u001b[0;34m)\u001b[0m\u001b[0;34m\u001b[0m\u001b[0;34m\u001b[0m\u001b[0m\n\u001b[0;32m----> 4\u001b[0;31m \u001b[0mraw_weights\u001b[0m \u001b[0;34m=\u001b[0m \u001b[0mef\u001b[0m\u001b[0;34m.\u001b[0m\u001b[0mmax_sharpe\u001b[0m\u001b[0;34m(\u001b[0m\u001b[0;34m)\u001b[0m\u001b[0;34m\u001b[0m\u001b[0;34m\u001b[0m\u001b[0m\n\u001b[0m\u001b[1;32m      5\u001b[0m \u001b[0mcleaned_weights\u001b[0m \u001b[0;34m=\u001b[0m \u001b[0mef\u001b[0m\u001b[0;34m.\u001b[0m\u001b[0mclean_weights\u001b[0m\u001b[0;34m(\u001b[0m\u001b[0;34m)\u001b[0m\u001b[0;34m\u001b[0m\u001b[0;34m\u001b[0m\u001b[0m\n\u001b[1;32m      6\u001b[0m \u001b[0mperf\u001b[0m \u001b[0;34m=\u001b[0m \u001b[0mef\u001b[0m\u001b[0;34m.\u001b[0m\u001b[0mportfolio_performance\u001b[0m\u001b[0;34m(\u001b[0m\u001b[0mverbose\u001b[0m\u001b[0;34m=\u001b[0m\u001b[0;32mTrue\u001b[0m\u001b[0;34m)\u001b[0m\u001b[0;34m\u001b[0m\u001b[0;34m\u001b[0m\u001b[0m\n",
            "\u001b[0;32m/usr/local/lib/python3.6/dist-packages/pypfopt/efficient_frontier.py\u001b[0m in \u001b[0;36mmax_sharpe\u001b[0;34m(self, risk_free_rate)\u001b[0m\n\u001b[1;32m    198\u001b[0m         \u001b[0mself\u001b[0m\u001b[0;34m.\u001b[0m\u001b[0m_constraints\u001b[0m\u001b[0;34m.\u001b[0m\u001b[0mappend\u001b[0m\u001b[0;34m(\u001b[0m\u001b[0mself\u001b[0m\u001b[0;34m.\u001b[0m\u001b[0m_w\u001b[0m \u001b[0;34m<=\u001b[0m \u001b[0mk\u001b[0m \u001b[0;34m*\u001b[0m \u001b[0mself\u001b[0m\u001b[0;34m.\u001b[0m\u001b[0m_upper_bounds\u001b[0m\u001b[0;34m)\u001b[0m\u001b[0;34m\u001b[0m\u001b[0;34m\u001b[0m\u001b[0m\n\u001b[1;32m    199\u001b[0m \u001b[0;34m\u001b[0m\u001b[0m\n\u001b[0;32m--> 200\u001b[0;31m         \u001b[0mself\u001b[0m\u001b[0;34m.\u001b[0m\u001b[0m_solve_cvxpy_opt_problem\u001b[0m\u001b[0;34m(\u001b[0m\u001b[0;34m)\u001b[0m\u001b[0;34m\u001b[0m\u001b[0;34m\u001b[0m\u001b[0m\n\u001b[0m\u001b[1;32m    201\u001b[0m         \u001b[0;31m# Inverse-transform\u001b[0m\u001b[0;34m\u001b[0m\u001b[0;34m\u001b[0m\u001b[0;34m\u001b[0m\u001b[0m\n\u001b[1;32m    202\u001b[0m         \u001b[0mself\u001b[0m\u001b[0;34m.\u001b[0m\u001b[0mweights\u001b[0m \u001b[0;34m=\u001b[0m \u001b[0;34m(\u001b[0m\u001b[0mself\u001b[0m\u001b[0;34m.\u001b[0m\u001b[0m_w\u001b[0m\u001b[0;34m.\u001b[0m\u001b[0mvalue\u001b[0m \u001b[0;34m/\u001b[0m \u001b[0mk\u001b[0m\u001b[0;34m.\u001b[0m\u001b[0mvalue\u001b[0m\u001b[0;34m)\u001b[0m\u001b[0;34m.\u001b[0m\u001b[0mround\u001b[0m\u001b[0;34m(\u001b[0m\u001b[0;36m16\u001b[0m\u001b[0;34m)\u001b[0m \u001b[0;34m+\u001b[0m \u001b[0;36m0.0\u001b[0m\u001b[0;34m\u001b[0m\u001b[0;34m\u001b[0m\u001b[0m\n",
            "\u001b[0;32m/usr/local/lib/python3.6/dist-packages/pypfopt/base_optimizer.py\u001b[0m in \u001b[0;36m_solve_cvxpy_opt_problem\u001b[0;34m(self)\u001b[0m\n\u001b[1;32m    198\u001b[0m             \u001b[0;32mraise\u001b[0m \u001b[0mexceptions\u001b[0m\u001b[0;34m.\u001b[0m\u001b[0mOptimizationError\u001b[0m\u001b[0;34m\u001b[0m\u001b[0;34m\u001b[0m\u001b[0m\n\u001b[1;32m    199\u001b[0m         \u001b[0;32mif\u001b[0m \u001b[0mopt\u001b[0m\u001b[0;34m.\u001b[0m\u001b[0mstatus\u001b[0m \u001b[0;34m!=\u001b[0m \u001b[0;34m\"optimal\"\u001b[0m\u001b[0;34m:\u001b[0m\u001b[0;34m\u001b[0m\u001b[0;34m\u001b[0m\u001b[0m\n\u001b[0;32m--> 200\u001b[0;31m             \u001b[0;32mraise\u001b[0m \u001b[0mexceptions\u001b[0m\u001b[0;34m.\u001b[0m\u001b[0mOptimizationError\u001b[0m\u001b[0;34m\u001b[0m\u001b[0;34m\u001b[0m\u001b[0m\n\u001b[0m\u001b[1;32m    201\u001b[0m         \u001b[0mself\u001b[0m\u001b[0;34m.\u001b[0m\u001b[0mweights\u001b[0m \u001b[0;34m=\u001b[0m \u001b[0mself\u001b[0m\u001b[0;34m.\u001b[0m\u001b[0m_w\u001b[0m\u001b[0;34m.\u001b[0m\u001b[0mvalue\u001b[0m\u001b[0;34m.\u001b[0m\u001b[0mround\u001b[0m\u001b[0;34m(\u001b[0m\u001b[0;36m16\u001b[0m\u001b[0;34m)\u001b[0m \u001b[0;34m+\u001b[0m \u001b[0;36m0.0\u001b[0m  \u001b[0;31m# +0.0 removes signed zero\u001b[0m\u001b[0;34m\u001b[0m\u001b[0;34m\u001b[0m\u001b[0m\n\u001b[1;32m    202\u001b[0m \u001b[0;34m\u001b[0m\u001b[0m\n",
            "\u001b[0;31mOptimizationError\u001b[0m: Please check your objectives/constraints or use a different solver."
          ]
        }
      ]
    }
  ]
}